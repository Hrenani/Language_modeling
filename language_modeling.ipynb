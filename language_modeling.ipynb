{
  "nbformat": 4,
  "nbformat_minor": 0,
  "metadata": {
    "colab": {
      "provenance": [],
      "gpuType": "T4",
      "authorship_tag": "ABX9TyM/ZCc3YowuYHEzjeY8BhD0",
      "include_colab_link": true
    },
    "kernelspec": {
      "name": "python3",
      "display_name": "Python 3"
    },
    "language_info": {
      "name": "python"
    },
    "accelerator": "GPU"
  },
  "cells": [
    {
      "cell_type": "markdown",
      "metadata": {
        "id": "view-in-github",
        "colab_type": "text"
      },
      "source": [
        "<a href=\"https://colab.research.google.com/github/Hrenani/Language_modeling/blob/main/language_modeling.ipynb\" target=\"_parent\"><img src=\"https://colab.research.google.com/assets/colab-badge.svg\" alt=\"Open In Colab\"/></a>"
      ]
    },
    {
      "cell_type": "markdown",
      "source": [
        "#language modeling"
      ],
      "metadata": {
        "id": "dOtBxcZ8NBfs"
      }
    },
    {
      "cell_type": "code",
      "execution_count": 1,
      "metadata": {
        "colab": {
          "base_uri": "https://localhost:8080/"
        },
        "id": "yCMe0nyixgFX",
        "outputId": "d4149c6c-ae4e-4ed9-f074-6bdf46d139d0"
      },
      "outputs": [
        {
          "output_type": "stream",
          "name": "stdout",
          "text": [
            "\u001b[?25l   \u001b[90m━━━━━━━━━━━━━━━━━━━━━━━━━━━━━━━━━━━━━━━━\u001b[0m \u001b[32m0.0/869.5 kB\u001b[0m \u001b[31m?\u001b[0m eta \u001b[36m-:--:--\u001b[0m\r\u001b[2K   \u001b[90m━━━━━━━━━━━━━━━━━━━━━━━━━━━━━━━━━━━━━━━━\u001b[0m \u001b[32m869.5/869.5 kB\u001b[0m \u001b[31m41.1 MB/s\u001b[0m eta \u001b[36m0:00:00\u001b[0m\n",
            "\u001b[?25h"
          ]
        }
      ],
      "source": [
        "!pip install -q torchmetrics"
      ]
    },
    {
      "cell_type": "code",
      "source": [
        "# Install PyTorch 2.0.1+cu118\n",
        "!pip install torch==2.0.1+cu118 torchvision torchaudio --index-url https://download.pytorch.org/whl/cu118\n",
        "\n",
        "# Install torchtext 0.15.2+cpu\n",
        "!pip install torchtext==0.15.2+cpu --index-url https://download.pytorch.org/whl/cpu\n",
        "\n",
        "# Install tqdm\n",
        "!pip install tqdm==4.66.1"
      ],
      "metadata": {
        "colab": {
          "base_uri": "https://localhost:8080/"
        },
        "id": "IBU3PafKxr5z",
        "outputId": "af316ac2-b61a-478f-aaca-6335f885936f"
      },
      "execution_count": 2,
      "outputs": [
        {
          "output_type": "stream",
          "name": "stdout",
          "text": [
            "Looking in indexes: https://download.pytorch.org/whl/cu118\n",
            "Collecting torch==2.0.1+cu118\n",
            "  Downloading https://download.pytorch.org/whl/cu118/torch-2.0.1%2Bcu118-cp310-cp310-linux_x86_64.whl (2267.3 MB)\n",
            "\u001b[2K     \u001b[90m━━━━━━━━━━━━━━━━━━━━━━━━━━━━━━━━━━━━━━━━\u001b[0m \u001b[32m2.3/2.3 GB\u001b[0m \u001b[31m514.6 kB/s\u001b[0m eta \u001b[36m0:00:00\u001b[0m\n",
            "\u001b[?25hRequirement already satisfied: torchvision in /usr/local/lib/python3.10/dist-packages (0.19.1+cu121)\n",
            "Requirement already satisfied: torchaudio in /usr/local/lib/python3.10/dist-packages (2.4.1+cu121)\n",
            "Requirement already satisfied: filelock in /usr/local/lib/python3.10/dist-packages (from torch==2.0.1+cu118) (3.16.1)\n",
            "Requirement already satisfied: typing-extensions in /usr/local/lib/python3.10/dist-packages (from torch==2.0.1+cu118) (4.12.2)\n",
            "Requirement already satisfied: sympy in /usr/local/lib/python3.10/dist-packages (from torch==2.0.1+cu118) (1.13.3)\n",
            "Requirement already satisfied: networkx in /usr/local/lib/python3.10/dist-packages (from torch==2.0.1+cu118) (3.3)\n",
            "Requirement already satisfied: jinja2 in /usr/local/lib/python3.10/dist-packages (from torch==2.0.1+cu118) (3.1.4)\n",
            "Collecting triton==2.0.0 (from torch==2.0.1+cu118)\n",
            "  Downloading https://download.pytorch.org/whl/triton-2.0.0-1-cp310-cp310-manylinux2014_x86_64.manylinux_2_17_x86_64.whl (63.3 MB)\n",
            "\u001b[2K     \u001b[90m━━━━━━━━━━━━━━━━━━━━━━━━━━━━━━━━━━━━━━━━\u001b[0m \u001b[32m63.3/63.3 MB\u001b[0m \u001b[31m13.0 MB/s\u001b[0m eta \u001b[36m0:00:00\u001b[0m\n",
            "\u001b[?25hRequirement already satisfied: cmake in /usr/local/lib/python3.10/dist-packages (from triton==2.0.0->torch==2.0.1+cu118) (3.30.4)\n",
            "Collecting lit (from triton==2.0.0->torch==2.0.1+cu118)\n",
            "  Downloading https://download.pytorch.org/whl/lit-15.0.7.tar.gz (132 kB)\n",
            "\u001b[2K     \u001b[90m━━━━━━━━━━━━━━━━━━━━━━━━━━━━━━━━━━━━━━━━\u001b[0m \u001b[32m132.3/132.3 kB\u001b[0m \u001b[31m12.0 MB/s\u001b[0m eta \u001b[36m0:00:00\u001b[0m\n",
            "\u001b[?25h  Preparing metadata (setup.py) ... \u001b[?25l\u001b[?25hdone\n",
            "Requirement already satisfied: numpy in /usr/local/lib/python3.10/dist-packages (from torchvision) (1.26.4)\n",
            "INFO: pip is looking at multiple versions of torchvision to determine which version is compatible with other requirements. This could take a while.\n",
            "Collecting torchvision\n",
            "  Downloading https://download.pytorch.org/whl/cu118/torchvision-0.19.1%2Bcu118-cp310-cp310-linux_x86_64.whl (6.3 MB)\n",
            "\u001b[2K     \u001b[90m━━━━━━━━━━━━━━━━━━━━━━━━━━━━━━━━━━━━━━━━\u001b[0m \u001b[32m6.3/6.3 MB\u001b[0m \u001b[31m85.6 MB/s\u001b[0m eta \u001b[36m0:00:00\u001b[0m\n",
            "\u001b[?25h  Downloading https://download.pytorch.org/whl/cu118/torchvision-0.19.0%2Bcu118-cp310-cp310-linux_x86_64.whl (6.3 MB)\n",
            "\u001b[2K     \u001b[90m━━━━━━━━━━━━━━━━━━━━━━━━━━━━━━━━━━━━━━━━\u001b[0m \u001b[32m6.3/6.3 MB\u001b[0m \u001b[31m85.5 MB/s\u001b[0m eta \u001b[36m0:00:00\u001b[0m\n",
            "\u001b[?25h  Downloading https://download.pytorch.org/whl/cu118/torchvision-0.18.1%2Bcu118-cp310-cp310-linux_x86_64.whl (6.3 MB)\n",
            "\u001b[2K     \u001b[90m━━━━━━━━━━━━━━━━━━━━━━━━━━━━━━━━━━━━━━━━\u001b[0m \u001b[32m6.3/6.3 MB\u001b[0m \u001b[31m113.4 MB/s\u001b[0m eta \u001b[36m0:00:00\u001b[0m\n",
            "\u001b[?25h  Downloading https://download.pytorch.org/whl/cu118/torchvision-0.18.0%2Bcu118-cp310-cp310-linux_x86_64.whl (6.3 MB)\n",
            "\u001b[2K     \u001b[90m━━━━━━━━━━━━━━━━━━━━━━━━━━━━━━━━━━━━━━━━\u001b[0m \u001b[32m6.3/6.3 MB\u001b[0m \u001b[31m110.5 MB/s\u001b[0m eta \u001b[36m0:00:00\u001b[0m\n",
            "\u001b[?25h  Downloading https://download.pytorch.org/whl/cu118/torchvision-0.17.2%2Bcu118-cp310-cp310-linux_x86_64.whl (6.2 MB)\n",
            "\u001b[2K     \u001b[90m━━━━━━━━━━━━━━━━━━━━━━━━━━━━━━━━━━━━━━━━\u001b[0m \u001b[32m6.2/6.2 MB\u001b[0m \u001b[31m107.3 MB/s\u001b[0m eta \u001b[36m0:00:00\u001b[0m\n",
            "\u001b[?25h  Downloading https://download.pytorch.org/whl/cu118/torchvision-0.17.1%2Bcu118-cp310-cp310-linux_x86_64.whl (6.2 MB)\n",
            "\u001b[2K     \u001b[90m━━━━━━━━━━━━━━━━━━━━━━━━━━━━━━━━━━━━━━━━\u001b[0m \u001b[32m6.2/6.2 MB\u001b[0m \u001b[31m105.4 MB/s\u001b[0m eta \u001b[36m0:00:00\u001b[0m\n",
            "\u001b[?25h  Downloading https://download.pytorch.org/whl/cu118/torchvision-0.17.0%2Bcu118-cp310-cp310-linux_x86_64.whl (6.2 MB)\n",
            "\u001b[2K     \u001b[90m━━━━━━━━━━━━━━━━━━━━━━━━━━━━━━━━━━━━━━━━\u001b[0m \u001b[32m6.2/6.2 MB\u001b[0m \u001b[31m105.9 MB/s\u001b[0m eta \u001b[36m0:00:00\u001b[0m\n",
            "\u001b[?25hRequirement already satisfied: requests in /usr/local/lib/python3.10/dist-packages (from torchvision) (2.32.3)\n",
            "INFO: pip is still looking at multiple versions of torchvision to determine which version is compatible with other requirements. This could take a while.\n",
            "  Downloading https://download.pytorch.org/whl/cu118/torchvision-0.16.2%2Bcu118-cp310-cp310-linux_x86_64.whl (6.1 MB)\n",
            "\u001b[2K     \u001b[90m━━━━━━━━━━━━━━━━━━━━━━━━━━━━━━━━━━━━━━━━\u001b[0m \u001b[32m6.1/6.1 MB\u001b[0m \u001b[31m104.4 MB/s\u001b[0m eta \u001b[36m0:00:00\u001b[0m\n",
            "\u001b[?25h  Downloading https://download.pytorch.org/whl/cu118/torchvision-0.16.1%2Bcu118-cp310-cp310-linux_x86_64.whl (6.1 MB)\n",
            "\u001b[2K     \u001b[90m━━━━━━━━━━━━━━━━━━━━━━━━━━━━━━━━━━━━━━━━\u001b[0m \u001b[32m6.1/6.1 MB\u001b[0m \u001b[31m93.0 MB/s\u001b[0m eta \u001b[36m0:00:00\u001b[0m\n",
            "\u001b[?25h  Downloading https://download.pytorch.org/whl/cu118/torchvision-0.16.0%2Bcu118-cp310-cp310-linux_x86_64.whl (6.2 MB)\n",
            "\u001b[2K     \u001b[90m━━━━━━━━━━━━━━━━━━━━━━━━━━━━━━━━━━━━━━━━\u001b[0m \u001b[32m6.2/6.2 MB\u001b[0m \u001b[31m20.4 MB/s\u001b[0m eta \u001b[36m0:00:00\u001b[0m\n",
            "\u001b[?25h  Downloading https://download.pytorch.org/whl/cu118/torchvision-0.15.2%2Bcu118-cp310-cp310-linux_x86_64.whl (6.1 MB)\n",
            "\u001b[2K     \u001b[90m━━━━━━━━━━━━━━━━━━━━━━━━━━━━━━━━━━━━━━━━\u001b[0m \u001b[32m6.1/6.1 MB\u001b[0m \u001b[31m102.1 MB/s\u001b[0m eta \u001b[36m0:00:00\u001b[0m\n",
            "\u001b[?25hRequirement already satisfied: pillow!=8.3.*,>=5.3.0 in /usr/local/lib/python3.10/dist-packages (from torchvision) (10.4.0)\n",
            "INFO: pip is looking at multiple versions of torchaudio to determine which version is compatible with other requirements. This could take a while.\n",
            "Collecting torchaudio\n",
            "  Downloading https://download.pytorch.org/whl/cu118/torchaudio-2.4.1%2Bcu118-cp310-cp310-linux_x86_64.whl (3.3 MB)\n",
            "\u001b[2K     \u001b[90m━━━━━━━━━━━━━━━━━━━━━━━━━━━━━━━━━━━━━━━━\u001b[0m \u001b[32m3.3/3.3 MB\u001b[0m \u001b[31m70.9 MB/s\u001b[0m eta \u001b[36m0:00:00\u001b[0m\n",
            "\u001b[?25h  Downloading https://download.pytorch.org/whl/cu118/torchaudio-2.4.0%2Bcu118-cp310-cp310-linux_x86_64.whl (3.3 MB)\n",
            "\u001b[2K     \u001b[90m━━━━━━━━━━━━━━━━━━━━━━━━━━━━━━━━━━━━━━━━\u001b[0m \u001b[32m3.3/3.3 MB\u001b[0m \u001b[31m89.2 MB/s\u001b[0m eta \u001b[36m0:00:00\u001b[0m\n",
            "\u001b[?25h  Downloading https://download.pytorch.org/whl/cu118/torchaudio-2.3.1%2Bcu118-cp310-cp310-linux_x86_64.whl (3.3 MB)\n",
            "\u001b[2K     \u001b[90m━━━━━━━━━━━━━━━━━━━━━━━━━━━━━━━━━━━━━━━━\u001b[0m \u001b[32m3.3/3.3 MB\u001b[0m \u001b[31m90.7 MB/s\u001b[0m eta \u001b[36m0:00:00\u001b[0m\n",
            "\u001b[?25h  Downloading https://download.pytorch.org/whl/cu118/torchaudio-2.3.0%2Bcu118-cp310-cp310-linux_x86_64.whl (3.3 MB)\n",
            "\u001b[2K     \u001b[90m━━━━━━━━━━━━━━━━━━━━━━━━━━━━━━━━━━━━━━━━\u001b[0m \u001b[32m3.3/3.3 MB\u001b[0m \u001b[31m92.0 MB/s\u001b[0m eta \u001b[36m0:00:00\u001b[0m\n",
            "\u001b[?25h  Downloading https://download.pytorch.org/whl/cu118/torchaudio-2.2.2%2Bcu118-cp310-cp310-linux_x86_64.whl (3.3 MB)\n",
            "\u001b[2K     \u001b[90m━━━━━━━━━━━━━━━━━━━━━━━━━━━━━━━━━━━━━━━━\u001b[0m \u001b[32m3.3/3.3 MB\u001b[0m \u001b[31m98.8 MB/s\u001b[0m eta \u001b[36m0:00:00\u001b[0m\n",
            "\u001b[?25h  Downloading https://download.pytorch.org/whl/cu118/torchaudio-2.2.1%2Bcu118-cp310-cp310-linux_x86_64.whl (3.3 MB)\n",
            "\u001b[2K     \u001b[90m━━━━━━━━━━━━━━━━━━━━━━━━━━━━━━━━━━━━━━━━\u001b[0m \u001b[32m3.3/3.3 MB\u001b[0m \u001b[31m91.4 MB/s\u001b[0m eta \u001b[36m0:00:00\u001b[0m\n",
            "\u001b[?25h  Downloading https://download.pytorch.org/whl/cu118/torchaudio-2.2.0%2Bcu118-cp310-cp310-linux_x86_64.whl (3.3 MB)\n",
            "\u001b[2K     \u001b[90m━━━━━━━━━━━━━━━━━━━━━━━━━━━━━━━━━━━━━━━━\u001b[0m \u001b[32m3.3/3.3 MB\u001b[0m \u001b[31m101.7 MB/s\u001b[0m eta \u001b[36m0:00:00\u001b[0m\n",
            "\u001b[?25hINFO: pip is still looking at multiple versions of torchaudio to determine which version is compatible with other requirements. This could take a while.\n",
            "  Downloading https://download.pytorch.org/whl/cu118/torchaudio-2.1.2%2Bcu118-cp310-cp310-linux_x86_64.whl (3.2 MB)\n",
            "\u001b[2K     \u001b[90m━━━━━━━━━━━━━━━━━━━━━━━━━━━━━━━━━━━━━━━━\u001b[0m \u001b[32m3.2/3.2 MB\u001b[0m \u001b[31m86.9 MB/s\u001b[0m eta \u001b[36m0:00:00\u001b[0m\n",
            "\u001b[?25h  Downloading https://download.pytorch.org/whl/cu118/torchaudio-2.1.1%2Bcu118-cp310-cp310-linux_x86_64.whl (3.2 MB)\n",
            "\u001b[2K     \u001b[90m━━━━━━━━━━━━━━━━━━━━━━━━━━━━━━━━━━━━━━━━\u001b[0m \u001b[32m3.2/3.2 MB\u001b[0m \u001b[31m83.6 MB/s\u001b[0m eta \u001b[36m0:00:00\u001b[0m\n",
            "\u001b[?25h  Downloading https://download.pytorch.org/whl/cu118/torchaudio-2.1.0%2Bcu118-cp310-cp310-linux_x86_64.whl (3.2 MB)\n",
            "\u001b[2K     \u001b[90m━━━━━━━━━━━━━━━━━━━━━━━━━━━━━━━━━━━━━━━━\u001b[0m \u001b[32m3.2/3.2 MB\u001b[0m \u001b[31m97.2 MB/s\u001b[0m eta \u001b[36m0:00:00\u001b[0m\n",
            "\u001b[?25h  Downloading https://download.pytorch.org/whl/cu118/torchaudio-2.0.2%2Bcu118-cp310-cp310-linux_x86_64.whl (4.4 MB)\n",
            "\u001b[2K     \u001b[90m━━━━━━━━━━━━━━━━━━━━━━━━━━━━━━━━━━━━━━━━\u001b[0m \u001b[32m4.4/4.4 MB\u001b[0m \u001b[31m99.6 MB/s\u001b[0m eta \u001b[36m0:00:00\u001b[0m\n",
            "\u001b[?25hRequirement already satisfied: MarkupSafe>=2.0 in /usr/local/lib/python3.10/dist-packages (from jinja2->torch==2.0.1+cu118) (2.1.5)\n",
            "Requirement already satisfied: charset-normalizer<4,>=2 in /usr/local/lib/python3.10/dist-packages (from requests->torchvision) (3.3.2)\n",
            "Requirement already satisfied: idna<4,>=2.5 in /usr/local/lib/python3.10/dist-packages (from requests->torchvision) (3.10)\n",
            "Requirement already satisfied: urllib3<3,>=1.21.1 in /usr/local/lib/python3.10/dist-packages (from requests->torchvision) (2.2.3)\n",
            "Requirement already satisfied: certifi>=2017.4.17 in /usr/local/lib/python3.10/dist-packages (from requests->torchvision) (2024.8.30)\n",
            "Requirement already satisfied: mpmath<1.4,>=1.1.0 in /usr/local/lib/python3.10/dist-packages (from sympy->torch==2.0.1+cu118) (1.3.0)\n",
            "Building wheels for collected packages: lit\n",
            "  Building wheel for lit (setup.py) ... \u001b[?25l\u001b[?25hdone\n",
            "  Created wheel for lit: filename=lit-15.0.7-py3-none-any.whl size=89990 sha256=c00a5ccdc4bc0cc71afeff25452f7217db80e9662a34835f47eb47468f366cfb\n",
            "  Stored in directory: /root/.cache/pip/wheels/27/2c/b6/3ed2983b1b44fe0dea1bb35234b09f2c22fb8ebb308679c922\n",
            "Successfully built lit\n",
            "Installing collected packages: lit, triton, torch, torchvision, torchaudio\n",
            "  Attempting uninstall: torch\n",
            "    Found existing installation: torch 2.4.1+cu121\n",
            "    Uninstalling torch-2.4.1+cu121:\n",
            "      Successfully uninstalled torch-2.4.1+cu121\n",
            "  Attempting uninstall: torchvision\n",
            "    Found existing installation: torchvision 0.19.1+cu121\n",
            "    Uninstalling torchvision-0.19.1+cu121:\n",
            "      Successfully uninstalled torchvision-0.19.1+cu121\n",
            "  Attempting uninstall: torchaudio\n",
            "    Found existing installation: torchaudio 2.4.1+cu121\n",
            "    Uninstalling torchaudio-2.4.1+cu121:\n",
            "      Successfully uninstalled torchaudio-2.4.1+cu121\n",
            "Successfully installed lit-15.0.7 torch-2.0.1+cu118 torchaudio-2.0.2+cu118 torchvision-0.15.2+cu118 triton-2.0.0\n",
            "Looking in indexes: https://download.pytorch.org/whl/cpu\n",
            "Collecting torchtext==0.15.2+cpu\n",
            "  Downloading https://download.pytorch.org/whl/torchtext-0.15.2%2Bcpu-cp310-cp310-linux_x86_64.whl (2.0 MB)\n",
            "\u001b[2K     \u001b[90m━━━━━━━━━━━━━━━━━━━━━━━━━━━━━━━━━━━━━━━━\u001b[0m \u001b[32m2.0/2.0 MB\u001b[0m \u001b[31m25.3 MB/s\u001b[0m eta \u001b[36m0:00:00\u001b[0m\n",
            "\u001b[?25hRequirement already satisfied: tqdm in /usr/local/lib/python3.10/dist-packages (from torchtext==0.15.2+cpu) (4.66.5)\n",
            "Requirement already satisfied: requests in /usr/local/lib/python3.10/dist-packages (from torchtext==0.15.2+cpu) (2.32.3)\n",
            "Requirement already satisfied: torch==2.0.1 in /usr/local/lib/python3.10/dist-packages (from torchtext==0.15.2+cpu) (2.0.1+cu118)\n",
            "Requirement already satisfied: numpy in /usr/local/lib/python3.10/dist-packages (from torchtext==0.15.2+cpu) (1.26.4)\n",
            "Collecting torchdata==0.6.1 (from torchtext==0.15.2+cpu)\n",
            "  Downloading https://download.pytorch.org/whl/torchdata-0.6.1-cp310-cp310-manylinux_2_17_x86_64.manylinux2014_x86_64.whl (4.6 MB)\n",
            "\u001b[2K     \u001b[90m━━━━━━━━━━━━━━━━━━━━━━━━━━━━━━━━━━━━━━━━\u001b[0m \u001b[32m4.6/4.6 MB\u001b[0m \u001b[31m98.3 MB/s\u001b[0m eta \u001b[36m0:00:00\u001b[0m\n",
            "\u001b[?25hRequirement already satisfied: filelock in /usr/local/lib/python3.10/dist-packages (from torch==2.0.1->torchtext==0.15.2+cpu) (3.16.1)\n",
            "Requirement already satisfied: typing-extensions in /usr/local/lib/python3.10/dist-packages (from torch==2.0.1->torchtext==0.15.2+cpu) (4.12.2)\n",
            "Requirement already satisfied: sympy in /usr/local/lib/python3.10/dist-packages (from torch==2.0.1->torchtext==0.15.2+cpu) (1.13.3)\n",
            "Requirement already satisfied: networkx in /usr/local/lib/python3.10/dist-packages (from torch==2.0.1->torchtext==0.15.2+cpu) (3.3)\n",
            "Requirement already satisfied: jinja2 in /usr/local/lib/python3.10/dist-packages (from torch==2.0.1->torchtext==0.15.2+cpu) (3.1.4)\n",
            "Requirement already satisfied: triton==2.0.0 in /usr/local/lib/python3.10/dist-packages (from torch==2.0.1->torchtext==0.15.2+cpu) (2.0.0)\n",
            "Requirement already satisfied: urllib3>=1.25 in /usr/local/lib/python3.10/dist-packages (from torchdata==0.6.1->torchtext==0.15.2+cpu) (2.2.3)\n",
            "Requirement already satisfied: cmake in /usr/local/lib/python3.10/dist-packages (from triton==2.0.0->torch==2.0.1->torchtext==0.15.2+cpu) (3.30.4)\n",
            "Requirement already satisfied: lit in /usr/local/lib/python3.10/dist-packages (from triton==2.0.0->torch==2.0.1->torchtext==0.15.2+cpu) (15.0.7)\n",
            "Requirement already satisfied: charset-normalizer<4,>=2 in /usr/local/lib/python3.10/dist-packages (from requests->torchtext==0.15.2+cpu) (3.3.2)\n",
            "Requirement already satisfied: idna<4,>=2.5 in /usr/local/lib/python3.10/dist-packages (from requests->torchtext==0.15.2+cpu) (3.10)\n",
            "Requirement already satisfied: certifi>=2017.4.17 in /usr/local/lib/python3.10/dist-packages (from requests->torchtext==0.15.2+cpu) (2024.8.30)\n",
            "Requirement already satisfied: MarkupSafe>=2.0 in /usr/local/lib/python3.10/dist-packages (from jinja2->torch==2.0.1->torchtext==0.15.2+cpu) (2.1.5)\n",
            "Requirement already satisfied: mpmath<1.4,>=1.1.0 in /usr/local/lib/python3.10/dist-packages (from sympy->torch==2.0.1->torchtext==0.15.2+cpu) (1.3.0)\n",
            "Installing collected packages: torchdata, torchtext\n",
            "Successfully installed torchdata-0.6.1 torchtext-0.15.2+cpu\n",
            "Collecting tqdm==4.66.1\n",
            "  Downloading tqdm-4.66.1-py3-none-any.whl.metadata (57 kB)\n",
            "\u001b[2K     \u001b[90m━━━━━━━━━━━━━━━━━━━━━━━━━━━━━━━━━━━━━━━━\u001b[0m \u001b[32m57.6/57.6 kB\u001b[0m \u001b[31m5.4 MB/s\u001b[0m eta \u001b[36m0:00:00\u001b[0m\n",
            "\u001b[?25hDownloading tqdm-4.66.1-py3-none-any.whl (78 kB)\n",
            "\u001b[2K   \u001b[90m━━━━━━━━━━━━━━━━━━━━━━━━━━━━━━━━━━━━━━━━\u001b[0m \u001b[32m78.3/78.3 kB\u001b[0m \u001b[31m6.7 MB/s\u001b[0m eta \u001b[36m0:00:00\u001b[0m\n",
            "\u001b[?25hInstalling collected packages: tqdm\n",
            "  Attempting uninstall: tqdm\n",
            "    Found existing installation: tqdm 4.66.5\n",
            "    Uninstalling tqdm-4.66.5:\n",
            "      Successfully uninstalled tqdm-4.66.5\n",
            "Successfully installed tqdm-4.66.1\n"
          ]
        }
      ]
    },
    {
      "cell_type": "markdown",
      "source": [
        "## Import the required libraries and frameworks"
      ],
      "metadata": {
        "id": "IxV49BgGNGwV"
      }
    },
    {
      "cell_type": "code",
      "source": [
        "import numpy as np\n",
        "import pandas as pd\n",
        "import matplotlib.pyplot as plt\n",
        "\n",
        "import torch\n",
        "import torchtext\n",
        "from torchtext.datasets import WikiText2\n",
        "from torchtext.data.utils import get_tokenizer\n",
        "from torchtext.vocab import build_vocab_from_iterator\n",
        "\n",
        "\n",
        "import torch.nn as nn\n",
        "from torch.nn import functional as F\n",
        "from torch.utils.data import Dataset, DataLoader,IterableDataset, random_split\n",
        "\n",
        "import torch.optim as optim\n",
        "import torchmetrics as tm\n",
        "\n",
        "import tqdm\n",
        "\n",
        "from collections import Counter"
      ],
      "metadata": {
        "id": "3XKAHLJZxuWl"
      },
      "execution_count": 1,
      "outputs": []
    },
    {
      "cell_type": "code",
      "source": [
        "for lib in [np, torch, torchtext, tqdm]:\n",
        "  print(lib.__name__, '-->', lib.__version__)"
      ],
      "metadata": {
        "colab": {
          "base_uri": "https://localhost:8080/"
        },
        "id": "mGlxKa2Uyatk",
        "outputId": "42a9963b-14a0-4045-fb9c-4de2cadbc3f2"
      },
      "execution_count": 2,
      "outputs": [
        {
          "output_type": "stream",
          "name": "stdout",
          "text": [
            "numpy --> 1.26.4\n",
            "torch --> 2.0.1+cu118\n",
            "torchtext --> 0.15.2+cpu\n",
            "tqdm --> 4.66.1\n"
          ]
        }
      ]
    },
    {
      "cell_type": "markdown",
      "source": [
        "### These two functions to average the values ​​simplify our work in model training."
      ],
      "metadata": {
        "id": "wTSYNf6SNrA-"
      }
    },
    {
      "cell_type": "code",
      "source": [
        "class AverageMeter(object):\n",
        "  def __init__(self):\n",
        "    self.reset()\n",
        "\n",
        "  def reset(self):\n",
        "    self.val = 0\n",
        "    self.avg = 0\n",
        "    self.sum = 0\n",
        "    self.count = 0\n",
        "\n",
        "  def update(self, val, n =1):\n",
        "    self.val = val\n",
        "    self.sum += val * n\n",
        "    self.count += n\n",
        "    self.avg = self.sum / self.count"
      ],
      "metadata": {
        "id": "3cuCBlTMyfea"
      },
      "execution_count": 3,
      "outputs": []
    },
    {
      "cell_type": "code",
      "source": [
        "def num_trainable_params(model):\n",
        "  nums =  sum(p.numel() for p in model.parameters() if p.requires_grad)/1e6\n",
        "  return nums"
      ],
      "metadata": {
        "id": "A0W3bOwGyiEK"
      },
      "execution_count": 4,
      "outputs": []
    },
    {
      "cell_type": "code",
      "source": [
        "!pip install portalocker>=2.0.0"
      ],
      "metadata": {
        "id": "hf0GqTFcykSY"
      },
      "execution_count": 5,
      "outputs": []
    },
    {
      "cell_type": "code",
      "source": [
        "from google.colab import files\n",
        "uploaded = files.upload()"
      ],
      "metadata": {
        "colab": {
          "base_uri": "https://localhost:8080/",
          "height": 73
        },
        "id": "3Sl-xWwaymrB",
        "outputId": "4145e96b-fea2-4057-c94b-befb2655c86a"
      },
      "execution_count": 10,
      "outputs": [
        {
          "output_type": "display_data",
          "data": {
            "text/plain": [
              "<IPython.core.display.HTML object>"
            ],
            "text/html": [
              "\n",
              "     <input type=\"file\" id=\"files-265435d7-9fe2-4a15-84ac-cef7b4305de0\" name=\"files[]\" multiple disabled\n",
              "        style=\"border:none\" />\n",
              "     <output id=\"result-265435d7-9fe2-4a15-84ac-cef7b4305de0\">\n",
              "      Upload widget is only available when the cell has been executed in the\n",
              "      current browser session. Please rerun this cell to enable.\n",
              "      </output>\n",
              "      <script>// Copyright 2017 Google LLC\n",
              "//\n",
              "// Licensed under the Apache License, Version 2.0 (the \"License\");\n",
              "// you may not use this file except in compliance with the License.\n",
              "// You may obtain a copy of the License at\n",
              "//\n",
              "//      http://www.apache.org/licenses/LICENSE-2.0\n",
              "//\n",
              "// Unless required by applicable law or agreed to in writing, software\n",
              "// distributed under the License is distributed on an \"AS IS\" BASIS,\n",
              "// WITHOUT WARRANTIES OR CONDITIONS OF ANY KIND, either express or implied.\n",
              "// See the License for the specific language governing permissions and\n",
              "// limitations under the License.\n",
              "\n",
              "/**\n",
              " * @fileoverview Helpers for google.colab Python module.\n",
              " */\n",
              "(function(scope) {\n",
              "function span(text, styleAttributes = {}) {\n",
              "  const element = document.createElement('span');\n",
              "  element.textContent = text;\n",
              "  for (const key of Object.keys(styleAttributes)) {\n",
              "    element.style[key] = styleAttributes[key];\n",
              "  }\n",
              "  return element;\n",
              "}\n",
              "\n",
              "// Max number of bytes which will be uploaded at a time.\n",
              "const MAX_PAYLOAD_SIZE = 100 * 1024;\n",
              "\n",
              "function _uploadFiles(inputId, outputId) {\n",
              "  const steps = uploadFilesStep(inputId, outputId);\n",
              "  const outputElement = document.getElementById(outputId);\n",
              "  // Cache steps on the outputElement to make it available for the next call\n",
              "  // to uploadFilesContinue from Python.\n",
              "  outputElement.steps = steps;\n",
              "\n",
              "  return _uploadFilesContinue(outputId);\n",
              "}\n",
              "\n",
              "// This is roughly an async generator (not supported in the browser yet),\n",
              "// where there are multiple asynchronous steps and the Python side is going\n",
              "// to poll for completion of each step.\n",
              "// This uses a Promise to block the python side on completion of each step,\n",
              "// then passes the result of the previous step as the input to the next step.\n",
              "function _uploadFilesContinue(outputId) {\n",
              "  const outputElement = document.getElementById(outputId);\n",
              "  const steps = outputElement.steps;\n",
              "\n",
              "  const next = steps.next(outputElement.lastPromiseValue);\n",
              "  return Promise.resolve(next.value.promise).then((value) => {\n",
              "    // Cache the last promise value to make it available to the next\n",
              "    // step of the generator.\n",
              "    outputElement.lastPromiseValue = value;\n",
              "    return next.value.response;\n",
              "  });\n",
              "}\n",
              "\n",
              "/**\n",
              " * Generator function which is called between each async step of the upload\n",
              " * process.\n",
              " * @param {string} inputId Element ID of the input file picker element.\n",
              " * @param {string} outputId Element ID of the output display.\n",
              " * @return {!Iterable<!Object>} Iterable of next steps.\n",
              " */\n",
              "function* uploadFilesStep(inputId, outputId) {\n",
              "  const inputElement = document.getElementById(inputId);\n",
              "  inputElement.disabled = false;\n",
              "\n",
              "  const outputElement = document.getElementById(outputId);\n",
              "  outputElement.innerHTML = '';\n",
              "\n",
              "  const pickedPromise = new Promise((resolve) => {\n",
              "    inputElement.addEventListener('change', (e) => {\n",
              "      resolve(e.target.files);\n",
              "    });\n",
              "  });\n",
              "\n",
              "  const cancel = document.createElement('button');\n",
              "  inputElement.parentElement.appendChild(cancel);\n",
              "  cancel.textContent = 'Cancel upload';\n",
              "  const cancelPromise = new Promise((resolve) => {\n",
              "    cancel.onclick = () => {\n",
              "      resolve(null);\n",
              "    };\n",
              "  });\n",
              "\n",
              "  // Wait for the user to pick the files.\n",
              "  const files = yield {\n",
              "    promise: Promise.race([pickedPromise, cancelPromise]),\n",
              "    response: {\n",
              "      action: 'starting',\n",
              "    }\n",
              "  };\n",
              "\n",
              "  cancel.remove();\n",
              "\n",
              "  // Disable the input element since further picks are not allowed.\n",
              "  inputElement.disabled = true;\n",
              "\n",
              "  if (!files) {\n",
              "    return {\n",
              "      response: {\n",
              "        action: 'complete',\n",
              "      }\n",
              "    };\n",
              "  }\n",
              "\n",
              "  for (const file of files) {\n",
              "    const li = document.createElement('li');\n",
              "    li.append(span(file.name, {fontWeight: 'bold'}));\n",
              "    li.append(span(\n",
              "        `(${file.type || 'n/a'}) - ${file.size} bytes, ` +\n",
              "        `last modified: ${\n",
              "            file.lastModifiedDate ? file.lastModifiedDate.toLocaleDateString() :\n",
              "                                    'n/a'} - `));\n",
              "    const percent = span('0% done');\n",
              "    li.appendChild(percent);\n",
              "\n",
              "    outputElement.appendChild(li);\n",
              "\n",
              "    const fileDataPromise = new Promise((resolve) => {\n",
              "      const reader = new FileReader();\n",
              "      reader.onload = (e) => {\n",
              "        resolve(e.target.result);\n",
              "      };\n",
              "      reader.readAsArrayBuffer(file);\n",
              "    });\n",
              "    // Wait for the data to be ready.\n",
              "    let fileData = yield {\n",
              "      promise: fileDataPromise,\n",
              "      response: {\n",
              "        action: 'continue',\n",
              "      }\n",
              "    };\n",
              "\n",
              "    // Use a chunked sending to avoid message size limits. See b/62115660.\n",
              "    let position = 0;\n",
              "    do {\n",
              "      const length = Math.min(fileData.byteLength - position, MAX_PAYLOAD_SIZE);\n",
              "      const chunk = new Uint8Array(fileData, position, length);\n",
              "      position += length;\n",
              "\n",
              "      const base64 = btoa(String.fromCharCode.apply(null, chunk));\n",
              "      yield {\n",
              "        response: {\n",
              "          action: 'append',\n",
              "          file: file.name,\n",
              "          data: base64,\n",
              "        },\n",
              "      };\n",
              "\n",
              "      let percentDone = fileData.byteLength === 0 ?\n",
              "          100 :\n",
              "          Math.round((position / fileData.byteLength) * 100);\n",
              "      percent.textContent = `${percentDone}% done`;\n",
              "\n",
              "    } while (position < fileData.byteLength);\n",
              "  }\n",
              "\n",
              "  // All done.\n",
              "  yield {\n",
              "    response: {\n",
              "      action: 'complete',\n",
              "    }\n",
              "  };\n",
              "}\n",
              "\n",
              "scope.google = scope.google || {};\n",
              "scope.google.colab = scope.google.colab || {};\n",
              "scope.google.colab._files = {\n",
              "  _uploadFiles,\n",
              "  _uploadFilesContinue,\n",
              "};\n",
              "})(self);\n",
              "</script> "
            ]
          },
          "metadata": {}
        },
        {
          "output_type": "stream",
          "name": "stdout",
          "text": [
            "Saving wikitext-2-v1.zip to wikitext-2-v1.zip\n"
          ]
        }
      ]
    },
    {
      "cell_type": "code",
      "source": [
        "!unzip /content/wikitext-2-v1.zip"
      ],
      "metadata": {
        "colab": {
          "base_uri": "https://localhost:8080/"
        },
        "id": "3QX26vIhzW3R",
        "outputId": "de0d58b2-0629-48ac-ac9c-6ab4e7407d2e"
      },
      "execution_count": 11,
      "outputs": [
        {
          "output_type": "stream",
          "name": "stdout",
          "text": [
            "Archive:  /content/wikitext-2-v1.zip\n",
            "   creating: wikitext-2/\n",
            "  inflating: wikitext-2/wiki.test.tokens  \n",
            "  inflating: wikitext-2/wiki.valid.tokens  \n",
            "  inflating: wikitext-2/wiki.train.tokens  \n"
          ]
        }
      ]
    },
    {
      "cell_type": "markdown",
      "source": [
        "##Call data"
      ],
      "metadata": {
        "id": "nt49aJgMOIIc"
      }
    },
    {
      "cell_type": "code",
      "source": [
        "train_path = '/content/wikitext-2/wiki.train.tokens'\n",
        "valid_path = '/content/wikitext-2/wiki.valid.tokens'\n",
        "test_path = '/content/wikitext-2/wiki.test.tokens'\n",
        "\n",
        "def read_data_generator(file_path):\n",
        "    with open(file_path, 'r') as f:\n",
        "        for line in f:\n",
        "            yield line\n",
        "\n",
        "train_iter = read_data_generator(train_path)\n",
        "valid_iter = read_data_generator(valid_path)\n",
        "test_iter = read_data_generator(test_path)\n"
      ],
      "metadata": {
        "id": "SGgZ9AmEyuRb"
      },
      "execution_count": 26,
      "outputs": []
    },
    {
      "cell_type": "code",
      "source": [
        "train_iter_ = iter(train_iter)\n",
        "train_iter_"
      ],
      "metadata": {
        "colab": {
          "base_uri": "https://localhost:8080/"
        },
        "id": "gTQsFAj4yzJx",
        "outputId": "0d29063b-8244-42e0-877b-7a296566011e"
      },
      "execution_count": null,
      "outputs": [
        {
          "output_type": "execute_result",
          "data": {
            "text/plain": [
              "<generator object read_data_generator at 0x7d9021c47990>"
            ]
          },
          "metadata": {},
          "execution_count": 11
        }
      ]
    },
    {
      "cell_type": "code",
      "source": [
        "next(train_iter_)"
      ],
      "metadata": {
        "colab": {
          "base_uri": "https://localhost:8080/",
          "height": 55
        },
        "id": "hQPoaly5y19S",
        "outputId": "8c7f3d4b-b3ad-46ee-c68a-0aa4b143f0dd"
      },
      "execution_count": null,
      "outputs": [
        {
          "output_type": "execute_result",
          "data": {
            "text/plain": [
              "' \\n'"
            ],
            "application/vnd.google.colaboratory.intrinsic+json": {
              "type": "string"
            }
          },
          "metadata": {},
          "execution_count": 12
        }
      ]
    },
    {
      "cell_type": "code",
      "source": [
        "total_sentence_count = 0\n",
        "total_sentence_length = 0\n",
        "\n",
        "for line in train_iter:\n",
        "    sentences = line.split('.')\n",
        "\n",
        "    for sentence in sentences:\n",
        "        tokens = sentence.strip().split()\n",
        "        sentence_length = len(tokens)\n",
        "\n",
        "        if sentence_length > 0:\n",
        "            total_sentence_count += 1\n",
        "            total_sentence_length += sentence_length\n",
        "\n",
        "mean_sentence_length = total_sentence_length / (total_sentence_count)\n",
        "\n",
        "print(f'Mean sentence length in Wikitext-2: {mean_sentence_length:.2f}')"
      ],
      "metadata": {
        "colab": {
          "base_uri": "https://localhost:8080/"
        },
        "id": "f0j9RTl8y4YY",
        "outputId": "80801432-2e88-49a0-dd31-daf3953c11d2"
      },
      "execution_count": null,
      "outputs": [
        {
          "output_type": "stream",
          "name": "stdout",
          "text": [
            "Mean sentence length in Wikitext-2: 21.69\n"
          ]
        }
      ]
    },
    {
      "cell_type": "code",
      "source": [
        "txt = [\"Hi Hosein I am kooon :) nad yuo44 @tke \", \"you are yoiu!\",\":\"]\n",
        "tokenizer = get_tokenizer('basic_english')\n",
        "list(map(tokenizer,txt))"
      ],
      "metadata": {
        "colab": {
          "base_uri": "https://localhost:8080/"
        },
        "id": "ERvyfgmty8o5",
        "outputId": "d7731b2d-acde-467d-ae96-5e6698595228"
      },
      "execution_count": 7,
      "outputs": [
        {
          "output_type": "execute_result",
          "data": {
            "text/plain": [
              "[['hi', 'hosein', 'i', 'am', 'kooon', ')', 'nad', 'yuo44', '@tke'],\n",
              " ['you', 'are', 'yoiu', '!'],\n",
              " []]"
            ]
          },
          "metadata": {},
          "execution_count": 7
        }
      ]
    },
    {
      "cell_type": "markdown",
      "source": [
        "##Preparing to tokenize the model"
      ],
      "metadata": {
        "id": "bsWUvj6QOaW-"
      }
    },
    {
      "cell_type": "code",
      "source": [
        "vocab = build_vocab_from_iterator(map(tokenizer, txt), specials=['<ukn>'], min_freq=2)\n",
        "vocab.set_default_index(vocab['<ukn>'])\n",
        "vocab.get_stoi()"
      ],
      "metadata": {
        "colab": {
          "base_uri": "https://localhost:8080/"
        },
        "id": "ID6LqlHly-ly",
        "outputId": "df5f165e-f0e3-4463-93bf-0a4364bdeb6e"
      },
      "execution_count": 8,
      "outputs": [
        {
          "output_type": "execute_result",
          "data": {
            "text/plain": [
              "{'<ukn>': 0}"
            ]
          },
          "metadata": {},
          "execution_count": 8
        }
      ]
    },
    {
      "cell_type": "code",
      "source": [
        "tokenizer = get_tokenizer('basic_english')\n",
        "vocab = build_vocab_from_iterator(map(tokenizer, train_iter), specials=['<unk>'])\n",
        "vocab.set_default_index(vocab['<unk>'])"
      ],
      "metadata": {
        "id": "Wnh1T7z6zAbz"
      },
      "execution_count": 13,
      "outputs": []
    },
    {
      "cell_type": "code",
      "source": [
        "len(vocab)"
      ],
      "metadata": {
        "colab": {
          "base_uri": "https://localhost:8080/"
        },
        "id": "aCZg1G1izA_B",
        "outputId": "5550583b-7e55-4653-a1cf-1a3ddec32f62"
      },
      "execution_count": 14,
      "outputs": [
        {
          "output_type": "execute_result",
          "data": {
            "text/plain": [
              "28782"
            ]
          },
          "metadata": {},
          "execution_count": 14
        }
      ]
    },
    {
      "cell_type": "code",
      "source": [
        "vocab.get_stoi()"
      ],
      "metadata": {
        "colab": {
          "base_uri": "https://localhost:8080/"
        },
        "id": "I0s_kpEBzDHh",
        "outputId": "9c58572e-cfe7-4c4e-9de4-b6b706146350"
      },
      "execution_count": 15,
      "outputs": [
        {
          "output_type": "execute_result",
          "data": {
            "text/plain": [
              "{'攻殻機動隊': 28781,\n",
              " '戦場のヴァルキュリア3': 28780,\n",
              " 'წ': 28776,\n",
              " 'ც': 28774,\n",
              " 'ზ': 28770,\n",
              " 'გ': 28768,\n",
              " '์': 28767,\n",
              " 'ง': 28765,\n",
              " 'กัลยาณมิตร': 28764,\n",
              " 'γ': 28761,\n",
              " 'łaszcz': 28759,\n",
              " 'ürümqi': 28757,\n",
              " 'último': 28756,\n",
              " 'ø': 28754,\n",
              " 'ösel': 28753,\n",
              " 'être': 28752,\n",
              " 'élodie': 28749,\n",
              " 'álvaro': 28748,\n",
              " '§': 28747,\n",
              " 'zuzanna': 28745,\n",
              " 'zuniga': 28744,\n",
              " 'zoromski': 28742,\n",
              " 'zongwang': 28741,\n",
              " 'zhu': 28737,\n",
              " 'zhishen': 28736,\n",
              " 'zhejiang': 28735,\n",
              " 'zhao': 28734,\n",
              " 'zatanna': 28728,\n",
              " 'yvonne': 28720,\n",
              " 'yurikago': 28719,\n",
              " 'yukizuki': 28717,\n",
              " 'ysabel': 28713,\n",
              " 'youngsters': 28711,\n",
              " 'yorkers': 28710,\n",
              " 'yiddish': 28705,\n",
              " 'yesterday': 28704,\n",
              " 'yeoh': 28703,\n",
              " 'yen': 28702,\n",
              " 'yellowwoods': 28701,\n",
              " 'yarder': 28698,\n",
              " 'yammer': 28696,\n",
              " 'yamamoto': 28695,\n",
              " 'xlvii': 28694,\n",
              " 'xfx': 28692,\n",
              " 'xamar': 28691,\n",
              " 'wumpa': 28686,\n",
              " 'wsmv': 28685,\n",
              " 'wrists': 28684,\n",
              " 'wrapping': 28683,\n",
              " 'worshippers': 28681,\n",
              " 'worshiping': 28680,\n",
              " 'worrisome': 28679,\n",
              " 'workload': 28678,\n",
              " 'workhouse': 28677,\n",
              " 'worf': 28676,\n",
              " 'woodcut': 28673,\n",
              " 'wolfgang': 28671,\n",
              " 'wofford': 28669,\n",
              " 'wobble': 28668,\n",
              " 'wn': 28667,\n",
              " 'witticisms': 28665,\n",
              " 'withstood': 28664,\n",
              " 'wirth': 28661,\n",
              " 'winterbottom': 28659,\n",
              " 'windward': 28655,\n",
              " 'willed': 28651,\n",
              " 'wilburys': 28649,\n",
              " 'wilberforce': 28648,\n",
              " 'wiki': 28647,\n",
              " 'wigmore': 28646,\n",
              " 'wieselman': 28645,\n",
              " 'wiesel': 28644,\n",
              " 'wichita': 28642,\n",
              " 'whitman': 28637,\n",
              " 'whitewashed': 28636,\n",
              " 'whitby': 28635,\n",
              " 'whitaker': 28634,\n",
              " 'whimsical': 28632,\n",
              " 'whichever': 28630,\n",
              " 'whatsoever': 28628,\n",
              " 'westerlies': 28622,\n",
              " 'westchester': 28621,\n",
              " 'werner': 28620,\n",
              " 'weiland': 28615,\n",
              " 'wei': 28614,\n",
              " 'wee': 28612,\n",
              " 'wed': 28611,\n",
              " 'wca': 28607,\n",
              " 'wayback': 28606,\n",
              " 'watercolors': 28600,\n",
              " 'wastewater': 28599,\n",
              " 'wasted': 28597,\n",
              " 'wary': 28596,\n",
              " 'warmth': 28594,\n",
              " 'warhead': 28593,\n",
              " 'wander': 28590,\n",
              " 'wanda': 28589,\n",
              " 'wallabies': 28587,\n",
              " 'wakaba': 28586,\n",
              " 'waiouru': 28583,\n",
              " 'wadsworth': 28581,\n",
              " 'wadhurst': 28579,\n",
              " 'waddon': 28578,\n",
              " 'wackett': 28576,\n",
              " 'w3xwt': 28574,\n",
              " 'vukovar': 28572,\n",
              " 'vocalizations': 28561,\n",
              " 'vocabulary': 28559,\n",
              " 'vlachos': 28558,\n",
              " 'visualized': 28555,\n",
              " 'visibly': 28554,\n",
              " 'visceral': 28553,\n",
              " 'vini': 28549,\n",
              " 'vindicated': 28547,\n",
              " 'vilified': 28546,\n",
              " 'vila': 28545,\n",
              " 'vikramāditya': 28544,\n",
              " 'vijay': 28542,\n",
              " 'vignettes': 28541,\n",
              " 'videotape': 28540,\n",
              " 'vickie': 28538,\n",
              " 'vibrate': 28536,\n",
              " 'vested': 28531,\n",
              " 'vest': 28530,\n",
              " 'verso': 28528,\n",
              " 'vent': 28526,\n",
              " 'veneer': 28524,\n",
              " 'velpeau': 28523,\n",
              " 'vectors': 28520,\n",
              " 'varina': 28516,\n",
              " 'vanishing': 28513,\n",
              " 'vanish': 28512,\n",
              " 'vandalised': 28509,\n",
              " 'vallarta': 28507,\n",
              " 'valeria': 28506,\n",
              " 'valens': 28504,\n",
              " 'vaishnavism': 28502,\n",
              " 'vaginal': 28501,\n",
              " 'utterances': 28498,\n",
              " 'utsler': 28497,\n",
              " 'usury': 28496,\n",
              " 'usurpers': 28495,\n",
              " 'ustaša': 28494,\n",
              " 'usaid': 28490,\n",
              " 'urish': 28488,\n",
              " 'urgently': 28487,\n",
              " 'uppingham': 28485,\n",
              " 'uploaded': 28483,\n",
              " 'upkeep': 28482,\n",
              " 'uphill': 28481,\n",
              " 'unworthy': 28478,\n",
              " 'unwittingly': 28477,\n",
              " 'untreated': 28475,\n",
              " 'untimely': 28474,\n",
              " 'unsuited': 28473,\n",
              " 'unsatisfied': 28471,\n",
              " 'unroofed': 28470,\n",
              " 'unremarkable': 28468,\n",
              " 'unrecorded': 28467,\n",
              " 'unprofitable': 28466,\n",
              " 'unpopulated': 28465,\n",
              " 'unorganized': 28462,\n",
              " 'unoccupied': 28461,\n",
              " 'unlocking': 28458,\n",
              " 'unloading': 28457,\n",
              " 'uninterrupted': 28454,\n",
              " 'unimpeded': 28450,\n",
              " 'uniformity': 28449,\n",
              " 'unfit': 28448,\n",
              " 'unexplained': 28445,\n",
              " 'unequivocally': 28444,\n",
              " 'unenviable': 28443,\n",
              " 'undifferentiated': 28440,\n",
              " 'undetermined': 28439,\n",
              " 'undetectable': 28438,\n",
              " 'underworld': 28436,\n",
              " 'undertones': 28435,\n",
              " 'understandably': 28433,\n",
              " 'underhill': 28431,\n",
              " 'underdog': 28428,\n",
              " 'uncooperative': 28426,\n",
              " 'unconsciousness': 28423,\n",
              " 'uncompleted': 28421,\n",
              " 'unchanging': 28420,\n",
              " 'unattractive': 28418,\n",
              " 'unambiguously': 28417,\n",
              " 'umbo': 28414,\n",
              " 'uljin': 28412,\n",
              " 'uist': 28411,\n",
              " 'udupi': 28410,\n",
              " 'uchiyama': 28408,\n",
              " 'tú': 28407,\n",
              " 'typographical': 28405,\n",
              " 'twa': 28398,\n",
              " 'tvline': 28397,\n",
              " 'tuy': 28396,\n",
              " 'tutorial': 28394,\n",
              " 'tuscola': 28393,\n",
              " 'tulane': 28384,\n",
              " 'tuk': 28383,\n",
              " 'tugboat': 28382,\n",
              " 'tuberculosis': 28381,\n",
              " 'ttz': 28379,\n",
              " 'tsu': 28378,\n",
              " 'trustworthy': 28375,\n",
              " 'truro': 28374,\n",
              " 'truncation': 28373,\n",
              " 'trumpet': 28372,\n",
              " 'trophies': 28369,\n",
              " 'troopship': 28367,\n",
              " 'troff': 28363,\n",
              " 'triviality': 28361,\n",
              " 'triquet': 28359,\n",
              " 'tripadi': 28358,\n",
              " 'trigonal': 28356,\n",
              " 'trident': 28353,\n",
              " 'tribulations': 28350,\n",
              " 'triandos': 28348,\n",
              " 'triad': 28347,\n",
              " 'trembling': 28344,\n",
              " 'treeguh': 28343,\n",
              " 'treasonable': 28341,\n",
              " 'travers': 28338,\n",
              " 'trapezoidal': 28337,\n",
              " 'transparency': 28336,\n",
              " 'transfusions': 28330,\n",
              " 'transfers': 28328,\n",
              " 'winfield': 28657,\n",
              " 'transcribes': 28323,\n",
              " 'tranquilizer': 28321,\n",
              " 'tramp': 28319,\n",
              " 'trademarked': 28316,\n",
              " 'tracys': 28315,\n",
              " 'toulouse': 28309,\n",
              " 'toshiko': 28308,\n",
              " 'tonality': 28300,\n",
              " 'tomás': 28299,\n",
              " 'tompkins': 28298,\n",
              " 'tombstone': 28295,\n",
              " 'tomas': 28294,\n",
              " 'tokyopop': 28290,\n",
              " 'toei': 28287,\n",
              " 'tk': 28284,\n",
              " 'tj': 28283,\n",
              " 'titius': 28282,\n",
              " 'titanic': 28279,\n",
              " 'tirat': 28278,\n",
              " 'tipu': 28277,\n",
              " 'tins': 28276,\n",
              " 'undertakings': 28434,\n",
              " 'tinge': 28275,\n",
              " 'timpani': 28274,\n",
              " 'timely': 28273,\n",
              " 'tightness': 28271,\n",
              " 'ticking': 28269,\n",
              " 'thwarted': 28267,\n",
              " 'thwart': 28266,\n",
              " 'thutmose': 28265,\n",
              " 'thumping': 28264,\n",
              " 'thugs': 28263,\n",
              " 'thrush': 28262,\n",
              " 'threadlike': 28257,\n",
              " 'thousandth': 28256,\n",
              " 'thinker': 28253,\n",
              " 'thimble': 28252,\n",
              " 'therosaurus': 28250,\n",
              " 'theba': 28248,\n",
              " 'theatrically': 28247,\n",
              " 'thanh': 28244,\n",
              " 'terria': 28240,\n",
              " 'terreplein': 28239,\n",
              " 'terrence': 28238,\n",
              " 'tensile': 28233,\n",
              " 'tendencies': 28231,\n",
              " 'tempting': 28229,\n",
              " 'telluride': 28225,\n",
              " 'teleplay': 28224,\n",
              " 'tedx': 28221,\n",
              " 'technica': 28219,\n",
              " 'tearful': 28218,\n",
              " 'tatparya': 28213,\n",
              " 'tasmanian': 28211,\n",
              " 'tartrate': 28210,\n",
              " 'tartar': 28209,\n",
              " 'tarrytown': 28208,\n",
              " 'tarore': 28207,\n",
              " 'tarmac': 28206,\n",
              " 'tarakasura': 28205,\n",
              " 'tantrik': 28204,\n",
              " 'tantalum': 28203,\n",
              " 'tangled': 28202,\n",
              " 'tandem': 28201,\n",
              " 'tamara': 28198,\n",
              " 'talok': 28197,\n",
              " 'taker': 28194,\n",
              " 'taikor': 28191,\n",
              " 'tachibana': 28187,\n",
              " 'tablebases': 28186,\n",
              " 'szent': 28182,\n",
              " 'syān': 28181,\n",
              " 'syndication': 28177,\n",
              " 'syncretism': 28175,\n",
              " 'syncopated': 28174,\n",
              " 'synchestra': 28173,\n",
              " 'symptom': 28172,\n",
              " 'sympathizers': 28170,\n",
              " 'symbionts': 28169,\n",
              " 'symbiont': 28168,\n",
              " 'sylvatic': 28167,\n",
              " 'sylvain': 28166,\n",
              " 'syd': 28164,\n",
              " 'sxste': 28163,\n",
              " 'swordsman': 28161,\n",
              " 'sweetums': 28159,\n",
              " 'swampy': 28151,\n",
              " 'sveaborg': 28149,\n",
              " 'svalbard': 28147,\n",
              " 'suzie': 28146,\n",
              " 'suwa': 28145,\n",
              " 'suvla': 28144,\n",
              " 'sutra': 28143,\n",
              " 'sustenance': 28141,\n",
              " 'sustainable': 28140,\n",
              " 'surrendering': 28133,\n",
              " 'surrealism': 28132,\n",
              " 'surmised': 28131,\n",
              " 'suppliers': 28129,\n",
              " 'superstitious': 28126,\n",
              " 'supermarket': 28125,\n",
              " 'supergiants': 28123,\n",
              " 'superfamily': 28122,\n",
              " 'supercomputer': 28121,\n",
              " 'sumner': 28115,\n",
              " 'suffragette': 28112,\n",
              " 'succumbing': 28109,\n",
              " 'subversion': 28108,\n",
              " 'subtext': 28107,\n",
              " 'subsidize': 28104,\n",
              " 'subscribed': 28100,\n",
              " 'subic': 28097,\n",
              " 'sturt': 28093,\n",
              " 'sturmovik': 28092,\n",
              " 'stupnitsky': 28090,\n",
              " 'stunted': 28089,\n",
              " 'stunningly': 28088,\n",
              " 'studs': 28086,\n",
              " 'sulmona': 28113,\n",
              " 'struts': 28082,\n",
              " 'strongholds': 28078,\n",
              " 'strobel': 28077,\n",
              " 'strife': 28076,\n",
              " 'strident': 28075,\n",
              " 'strickland': 28074,\n",
              " 'streisand': 28071,\n",
              " 'streetcar': 28069,\n",
              " 'straying': 28066,\n",
              " 'stravinsky': 28065,\n",
              " 'strategist': 28063,\n",
              " 'strata': 28062,\n",
              " 'strap': 28060,\n",
              " 'stranding': 28057,\n",
              " 'straining': 28056,\n",
              " 'stortford': 28051,\n",
              " 'stollard': 28047,\n",
              " 'stoichiometric': 28046,\n",
              " 'stjepan': 28044,\n",
              " 'stings': 28043,\n",
              " 'stimulus': 28042,\n",
              " 'stimulates': 28041,\n",
              " 'stillborn': 28039,\n",
              " 'stibium': 28038,\n",
              " 'stewardship': 28037,\n",
              " 'sternberg': 28035,\n",
              " 'sterigmata': 28034,\n",
              " 'stereotyping': 28033,\n",
              " 'stepfather': 28030,\n",
              " 'stent': 28029,\n",
              " 'stavro': 28025,\n",
              " 'starkly': 28022,\n",
              " 'starcraft': 28021,\n",
              " 'stalking': 28016,\n",
              " 'stale': 28015,\n",
              " 'stainless': 28012,\n",
              " 'stagnation': 28011,\n",
              " 'stagecoaches': 28009,\n",
              " 'trenchard': 28346,\n",
              " 'stabilizing': 28004,\n",
              " 'stabbing': 28003,\n",
              " 'stabbed': 28002,\n",
              " 'src': 28000,\n",
              " 'squirtle': 27999,\n",
              " 'squandering': 27997,\n",
              " 'spurring': 27996,\n",
              " 'sprinters': 27992,\n",
              " 'spondees': 27984,\n",
              " 'spokane': 27983,\n",
              " 'splitsider': 27982,\n",
              " 'splashes': 27981,\n",
              " 'spitsbergen': 27980,\n",
              " 'spiro': 27977,\n",
              " 'spire': 27975,\n",
              " 'spiny': 27974,\n",
              " 'spinster': 27973,\n",
              " 'spinner': 27971,\n",
              " 'spilled': 27968,\n",
              " 'spill': 27967,\n",
              " 'spiky': 27966,\n",
              " 'spiked': 27965,\n",
              " 'spice': 27961,\n",
              " 'winthrop': 28660,\n",
              " 'spes': 27960,\n",
              " 'speculator': 27958,\n",
              " 'speculations': 27957,\n",
              " 'speculating': 27956,\n",
              " 'spectrograph': 27954,\n",
              " 'specifics': 27952,\n",
              " 'specialising': 27951,\n",
              " 'spanky': 27948,\n",
              " 'spangled': 27947,\n",
              " 'southwesterly': 27946,\n",
              " 'sos': 27939,\n",
              " 'sorted': 27938,\n",
              " 'songbook': 27933,\n",
              " 'somme': 27931,\n",
              " 'solungen': 27929,\n",
              " 'solids': 27927,\n",
              " 'solenoid': 27926,\n",
              " 'soledad': 27924,\n",
              " 'sobriety': 27921,\n",
              " 'sobering': 27920,\n",
              " 'soared': 27917,\n",
              " 'snurposomes': 27915,\n",
              " 'sniping': 27912,\n",
              " 'snaps': 27910,\n",
              " 'sn': 27909,\n",
              " 'smothered': 27908,\n",
              " 'smoothbore': 27907,\n",
              " 'smn': 27905,\n",
              " 'smithy': 27904,\n",
              " 'smithsonian': 27903,\n",
              " 'smithers': 27902,\n",
              " 'smelling': 27901,\n",
              " 'sm': 27897,\n",
              " 'slows': 27894,\n",
              " 'sloped': 27892,\n",
              " 'sloop': 27891,\n",
              " 'slitting': 27890,\n",
              " 'sling': 27888,\n",
              " 'slighted': 27887,\n",
              " 'slezak': 27885,\n",
              " 'slavic': 27883,\n",
              " 'slates': 27882,\n",
              " 'slams': 27880,\n",
              " 'skywalker': 27878,\n",
              " 'skimpy': 27873,\n",
              " 'skilful': 27872,\n",
              " 'skiing': 27871,\n",
              " 'ska': 27869,\n",
              " 'sixties': 27868,\n",
              " 'siti': 27867,\n",
              " 'singaporean': 27862,\n",
              " 'simtek': 27860,\n",
              " 'simms': 27859,\n",
              " 'simango': 27858,\n",
              " 'simakis': 27857,\n",
              " 'silverstone': 27856,\n",
              " 'silverman': 27855,\n",
              " 'silva': 27854,\n",
              " 'silt': 27853,\n",
              " 'siloeman': 27852,\n",
              " 'silently': 27850,\n",
              " 'sihanoukville': 27849,\n",
              " 'signet': 27847,\n",
              " 'signatory': 27846,\n",
              " 'sigmund': 27845,\n",
              " 'sideshow': 27843,\n",
              " 'sidelines': 27842,\n",
              " 'sibley': 27840,\n",
              " 'siberian': 27839,\n",
              " 'shylock': 27837,\n",
              " 'shueisha': 27833,\n",
              " 'shrubbery': 27832,\n",
              " 'showered': 27829,\n",
              " 'showdown': 27828,\n",
              " 'shouldn': 27825,\n",
              " 'shortfall': 27823,\n",
              " 'shoals': 27821,\n",
              " 'shipwrecked': 27819,\n",
              " 'shingles': 27816,\n",
              " 'shines': 27815,\n",
              " 'shinde': 27814,\n",
              " 'shermarke': 27813,\n",
              " 'sherborne': 27812,\n",
              " 'shellac': 27809,\n",
              " 'shebelle': 27808,\n",
              " 'shave': 27806,\n",
              " 'synthpop': 28179,\n",
              " 'shastri': 27804,\n",
              " 'sharper': 27803,\n",
              " 'shank': 27800,\n",
              " 'shan': 27799,\n",
              " 'shalott': 27798,\n",
              " 'shallower': 27797,\n",
              " 'shakes': 27795,\n",
              " 'shaggy': 27793,\n",
              " 'shaffer': 27792,\n",
              " 'shadowed': 27791,\n",
              " 'sfor': 27784,\n",
              " 'wynn': 28687,\n",
              " 'sewell': 27783,\n",
              " 'sesame': 27781,\n",
              " 'serviced': 27780,\n",
              " 'server': 27779,\n",
              " 'serials': 27778,\n",
              " 'étude': 28751,\n",
              " 'serialization': 27777,\n",
              " 'seral': 27773,\n",
              " 'separatist': 27770,\n",
              " 'seoul': 27769,\n",
              " 'sensei': 27766,\n",
              " 'seneca': 27763,\n",
              " 'semilibera': 27762,\n",
              " 'semantic': 27761,\n",
              " 'selects': 27758,\n",
              " 'seitz': 27756,\n",
              " 'segunda': 27755,\n",
              " 'segersäll': 27754,\n",
              " 'seductive': 27752,\n",
              " 'sedis': 27751,\n",
              " 'sedimentation': 27750,\n",
              " 'securely': 27747,\n",
              " 'secretion': 27746,\n",
              " 'uncontested': 28424,\n",
              " 'secretariat': 27745,\n",
              " 'seaweed': 27742,\n",
              " 'seatech': 27741,\n",
              " 'seaplane': 27740,\n",
              " 'seamen': 27739,\n",
              " 'seahawks': 27738,\n",
              " 'seagrass': 27737,\n",
              " 'seafrance': 27736,\n",
              " 'seacouver': 27735,\n",
              " 'seabrook': 27734,\n",
              " 'scrolls': 27731,\n",
              " 'scroll': 27730,\n",
              " 'scrimmage': 27729,\n",
              " 'screws': 27727,\n",
              " 'screenplays': 27725,\n",
              " 'screenings': 27724,\n",
              " 'scraping': 27722,\n",
              " 'scotch': 27719,\n",
              " 'scorers': 27718,\n",
              " 'scolosaurus': 27717,\n",
              " 'schwimmer': 27714,\n",
              " 'schoolchildren': 27708,\n",
              " 'schilling': 27706,\n",
              " 'schauenburg': 27704,\n",
              " 'schadla': 27703,\n",
              " 'scavengers': 27702,\n",
              " 'scarlett': 27700,\n",
              " 'scarborough': 27699,\n",
              " 'scapteriscus': 27698,\n",
              " 'sb2s3': 27694,\n",
              " 'saxons': 27691,\n",
              " 'saville': 27690,\n",
              " 'saux': 27689,\n",
              " 'saul': 27686,\n",
              " 'sauce': 27685,\n",
              " 'saturated': 27684,\n",
              " 'sassy': 27681,\n",
              " 'sassanian': 27679,\n",
              " 'sardinia': 27677,\n",
              " 'sarcasm': 27676,\n",
              " 'santísima': 27672,\n",
              " 'sanskritic': 27671,\n",
              " 'sankara': 27669,\n",
              " 'sandpit': 27666,\n",
              " 'sandman': 27665,\n",
              " 'sancha': 27664,\n",
              " 'samora': 27662,\n",
              " 'sambha': 27661,\n",
              " 'salvo': 27658,\n",
              " 'salvaging': 27657,\n",
              " 'salute': 27656,\n",
              " 'salford': 27653,\n",
              " 'salaried': 27652,\n",
              " 'sakhir': 27650,\n",
              " 'saharan': 27647,\n",
              " 'safeguard': 27646,\n",
              " 'sadistic': 27644,\n",
              " 'saddleworth': 27643,\n",
              " 'régiment': 27637,\n",
              " 'rza': 27636,\n",
              " 'ruthenia': 27633,\n",
              " 'rusty': 27632,\n",
              " 'rust': 27630,\n",
              " 'russ': 27629,\n",
              " 'rushie': 27628,\n",
              " 'ruppert': 27626,\n",
              " 'rumoured': 27625,\n",
              " 'rulership': 27623,\n",
              " 'rukun': 27622,\n",
              " 'ruiz': 27621,\n",
              " 'ruinous': 27620,\n",
              " 'rueben': 27619,\n",
              " 'rudimentary': 27616,\n",
              " 'rubbed': 27614,\n",
              " 'rspb': 27612,\n",
              " 'rowlinson': 27608,\n",
              " 'rowan': 27606,\n",
              " 'routines': 27605,\n",
              " 'rounding': 27602,\n",
              " 'roundabouts': 27601,\n",
              " 'rotting': 27600,\n",
              " 'rotator': 27599,\n",
              " 'rotated': 27597,\n",
              " 'rosenblum': 27596,\n",
              " 'rosen': 27594,\n",
              " 'rosada': 27592,\n",
              " 'rosacarnis': 27591,\n",
              " 'roommates': 27589,\n",
              " 'ronk': 27588,\n",
              " 'ronaldo': 27586,\n",
              " 'rollefson': 27583,\n",
              " 'rolette': 27582,\n",
              " 'robbing': 27576,\n",
              " 'roald': 27575,\n",
              " 'roadside': 27574,\n",
              " 'roadbed': 27571,\n",
              " 'riverbed': 27570,\n",
              " 'rite': 27569,\n",
              " 'ripley': 27567,\n",
              " 'rip': 27566,\n",
              " 'ringtone': 27565,\n",
              " 'rimmer': 27564,\n",
              " 'rikshospitalet': 27563,\n",
              " 'rifled': 27559,\n",
              " 'riela': 27557,\n",
              " 'ridiculously': 27554,\n",
              " 'richdale': 27552,\n",
              " 'ribonuclease': 27550,\n",
              " 'ribchester': 27549,\n",
              " 'ri': 27545,\n",
              " 'rhizomorphs': 27544,\n",
              " 'rhett': 27543,\n",
              " 'rhea': 27541,\n",
              " 'rfc': 27540,\n",
              " 'rezzonico': 27538,\n",
              " 'revisit': 27531,\n",
              " 'reverses': 27529,\n",
              " 'retraction': 27524,\n",
              " 'retractable': 27523,\n",
              " 'retells': 27520,\n",
              " 'retelling': 27519,\n",
              " 'restorations': 27513,\n",
              " 'respectability': 27510,\n",
              " 'respawn': 27509,\n",
              " 'resorts': 27507,\n",
              " 'resorted': 27506,\n",
              " 'resor': 27505,\n",
              " 'resolutions': 27504,\n",
              " 'repute': 27499,\n",
              " 'reprising': 27498,\n",
              " 'reprimanded': 27496,\n",
              " 'repressive': 27495,\n",
              " 'replays': 27492,\n",
              " 'repatriated': 27488,\n",
              " 'reorganize': 27487,\n",
              " 'renovating': 27484,\n",
              " 'rennes': 27483,\n",
              " 'renal': 27479,\n",
              " 'remorse': 27477,\n",
              " 'remodeled': 27476,\n",
              " 'remembrance': 27475,\n",
              " 'remakes': 27474,\n",
              " 'rellstab': 27472,\n",
              " 'relive': 27471,\n",
              " 'reliquaries': 27469,\n",
              " 'relaxing': 27466,\n",
              " 'rekindle': 27464,\n",
              " 'reitan': 27460,\n",
              " 'rehab': 27457,\n",
              " 'regulator': 27456,\n",
              " 'regression': 27454,\n",
              " 'registering': 27453,\n",
              " 'regina': 27452,\n",
              " 'regimen': 27451,\n",
              " 'regia': 27450,\n",
              " 'regalis': 27448,\n",
              " 'refute': 27445,\n",
              " 'refreshed': 27442,\n",
              " 'uzbekistan': 28499,\n",
              " 'referenda': 27439,\n",
              " 'redknapp': 27433,\n",
              " 'suchar': 28110,\n",
              " 'rediscovery': 27432,\n",
              " 'redeployment': 27431,\n",
              " 'redeeming': 27429,\n",
              " 'redeemer': 27428,\n",
              " 'rectify': 27425,\n",
              " 'rectified': 27424,\n",
              " 'recourse': 27422,\n",
              " 'romanians': 27585,\n",
              " 'reconnoitre': 27420,\n",
              " 'receivership': 27415,\n",
              " 'rebuttal': 27413,\n",
              " 'rearmost': 27411,\n",
              " 'reared': 27410,\n",
              " 'realist': 27406,\n",
              " 'realisation': 27404,\n",
              " 'realignment': 27403,\n",
              " 'rb8': 27396,\n",
              " 'ravno': 27393,\n",
              " 'ravenwolf': 27389,\n",
              " 'ravel': 27388,\n",
              " 'raul': 27387,\n",
              " 'rationality': 27384,\n",
              " 'ratification': 27382,\n",
              " 'rashtrakutas': 27380,\n",
              " 'rashida': 27379,\n",
              " 'rashid': 27378,\n",
              " 'raonic': 27373,\n",
              " 'randomized': 27369,\n",
              " 'rance': 27367,\n",
              " 'ramírez': 27366,\n",
              " 'rambam': 27363,\n",
              " 'ramachandra': 27362,\n",
              " 'rahardjo': 27358,\n",
              " 'rafts': 27357,\n",
              " 'radii': 27354,\n",
              " 'radiative': 27353,\n",
              " 'radiating': 27352,\n",
              " 'rack': 27350,\n",
              " 'quraysh': 27348,\n",
              " 'quiz': 27347,\n",
              " 'quinine': 27345,\n",
              " 'qui': 27343,\n",
              " 'qufu': 27342,\n",
              " 'quests': 27341,\n",
              " 'query': 27340,\n",
              " 'queries': 27339,\n",
              " 'queried': 27338,\n",
              " 'quercus': 27337,\n",
              " 'quartered': 27336,\n",
              " 'qualifies': 27332,\n",
              " 'quaint': 27330,\n",
              " 'quail': 27329,\n",
              " 'quahog': 27328,\n",
              " 'qizhou': 27326,\n",
              " 'qiu': 27325,\n",
              " 'qc': 27322,\n",
              " 'pyrite': 27321,\n",
              " 'pyramids': 27320,\n",
              " 'pvc': 27319,\n",
              " 'putsch': 27318,\n",
              " 'pussycat': 27317,\n",
              " 'purposefully': 27316,\n",
              " 'purportedly': 27315,\n",
              " 'purifying': 27314,\n",
              " 'purana': 27312,\n",
              " 'punishments': 27309,\n",
              " 'pune': 27308,\n",
              " 'punched': 27307,\n",
              " 'pulmonary': 27305,\n",
              " 'puget': 27303,\n",
              " 'puffball': 27302,\n",
              " 'puff': 27301,\n",
              " 'puddle': 27300,\n",
              " 'publicist': 27297,\n",
              " 'ptf6': 27294,\n",
              " 'psittacosauridae': 27292,\n",
              " 'pseudonares': 27291,\n",
              " 'pseudo': 27290,\n",
              " 'psalter': 27289,\n",
              " 'prudential': 27287,\n",
              " 'prudence': 27286,\n",
              " 'providers': 27285,\n",
              " 'proudly': 27284,\n",
              " 'protestors': 27283,\n",
              " 'proteomics': 27282,\n",
              " 'prostrate': 27280,\n",
              " 'prospered': 27277,\n",
              " 'proprietors': 27274,\n",
              " 'promiscuity': 27269,\n",
              " 'promenade': 27268,\n",
              " 'prom': 27267,\n",
              " 'prolog': 27266,\n",
              " 'programmable': 27264,\n",
              " 'profitability': 27263,\n",
              " 'procyon': 27260,\n",
              " 'probing': 27258,\n",
              " 'pristine': 27257,\n",
              " 'prickly': 27254,\n",
              " 'prevails': 27252,\n",
              " 'prestwichii': 27250,\n",
              " 'transient': 28331,\n",
              " 'prestwich': 27249,\n",
              " 'presently': 27246,\n",
              " 'preoccupied': 27243,\n",
              " 'premieres': 27242,\n",
              " 'prejudice': 27240,\n",
              " 'prefix': 27237,\n",
              " 'prefaced': 27235,\n",
              " 'predominated': 27233,\n",
              " 'predicament': 27231,\n",
              " 'predetermined': 27230,\n",
              " 'precincts': 27225,\n",
              " 'precarious': 27223,\n",
              " 'practicable': 27219,\n",
              " 'potts': 27216,\n",
              " 'sequenced': 27772,\n",
              " 'possessive': 27212,\n",
              " 'porvenir': 27210,\n",
              " 'popularizing': 27206,\n",
              " 'popularise': 27205,\n",
              " 'popo': 27202,\n",
              " 'pony': 27200,\n",
              " 'pondered': 27197,\n",
              " 'pompeii': 27196,\n",
              " 'polypeptides': 27193,\n",
              " 'polymer': 27190,\n",
              " 'polity': 27189,\n",
              " 'politburo': 27187,\n",
              " 'polemical': 27186,\n",
              " 'polarized': 27185,\n",
              " 'poke': 27182,\n",
              " 'poise': 27181,\n",
              " 'poeti': 27179,\n",
              " 'poduke': 27178,\n",
              " 'podcast': 27177,\n",
              " 'pod': 27176,\n",
              " 'pneumocystis': 27174,\n",
              " 'pledging': 27173,\n",
              " 'pledges': 27172,\n",
              " 'platou': 27167,\n",
              " 'plata': 27165,\n",
              " 'plantagenet': 27164,\n",
              " 'plaintive': 27161,\n",
              " 'plainfield': 27159,\n",
              " 'placards': 27157,\n",
              " 'placard': 27156,\n",
              " 'pizhi': 27155,\n",
              " 'pixie': 27154,\n",
              " 'pitfalls': 27153,\n",
              " 'piracy': 27151,\n",
              " 'pining': 27148,\n",
              " 'pincers': 27146,\n",
              " 'pillsbury': 27145,\n",
              " 'piles': 27142,\n",
              " 'pilasters': 27141,\n",
              " 'pie': 27139,\n",
              " 'picpoul': 27138,\n",
              " 'picket': 27137,\n",
              " 'pickering': 27136,\n",
              " 'photometric': 27135,\n",
              " 'phoenicia': 27133,\n",
              " 'philosophically': 27132,\n",
              " 'philipp': 27131,\n",
              " 'philanthropic': 27130,\n",
              " 'phenotype': 27129,\n",
              " 'pheasant': 27127,\n",
              " 'phan': 27126,\n",
              " 'phallic': 27125,\n",
              " 'phalanges': 27124,\n",
              " 'petershagen': 27119,\n",
              " 'perversion': 27118,\n",
              " 'pervasive': 27117,\n",
              " 'peruvian': 27116,\n",
              " 'persuasive': 27115,\n",
              " 'personages': 27112,\n",
              " 'persistently': 27111,\n",
              " 'permeated': 27107,\n",
              " 'perianth': 27104,\n",
              " 'percentages': 27100,\n",
              " 'peptides': 27099,\n",
              " 'pensacola': 27095,\n",
              " 'pennant': 27093,\n",
              " 'penance': 27089,\n",
              " 'pedigree': 27086,\n",
              " 'pedestrians': 27085,\n",
              " 'peckhams': 27083,\n",
              " 'peccavi': 27082,\n",
              " 'peas': 27081,\n",
              " 'pdt': 27077,\n",
              " 'payoff': 27076,\n",
              " 'pavilions': 27073,\n",
              " 'pavelić': 27072,\n",
              " 'pavel': 27071,\n",
              " 'paulo': 27070,\n",
              " 'patterned': 27069,\n",
              " 'patter': 27068,\n",
              " 'pathology': 27066,\n",
              " 'paternity': 27065,\n",
              " 'patched': 27064,\n",
              " 'pasti': 27063,\n",
              " 'passively': 27062,\n",
              " 'passchendaele': 27061,\n",
              " 'passageways': 27060,\n",
              " 'pas': 27057,\n",
              " 'partway': 27056,\n",
              " 'particulate': 27054,\n",
              " 'parslow': 27053,\n",
              " 'parlabane': 27049,\n",
              " 'parietal': 27047,\n",
              " 'parentage': 27045,\n",
              " 'paraguay': 27043,\n",
              " 'papillae': 27040,\n",
              " 'panigrahana': 27039,\n",
              " 'panchganga': 27036,\n",
              " 'pampas': 27035,\n",
              " 'pals': 27034,\n",
              " 'palkuriki': 27033,\n",
              " 'palette': 27032,\n",
              " 'palermo': 27031,\n",
              " 'palatial': 27030,\n",
              " 'pal': 27026,\n",
              " 'paki': 27025,\n",
              " 'paisley': 27024,\n",
              " 'paik': 27023,\n",
              " 'padukone': 27019,\n",
              " 'ძ': 28775,\n",
              " 'padding': 27017,\n",
              " 'padded': 27016,\n",
              " 'pacifist': 27014,\n",
              " 'oxidizes': 27011,\n",
              " 'overtures': 27008,\n",
              " 'overshadow': 27007,\n",
              " 'overlaps': 27003,\n",
              " 'overhang': 27001,\n",
              " 'overcrowded': 26999,\n",
              " 'ovary': 26996,\n",
              " 'ouverture': 26995,\n",
              " 'outrageously': 26993,\n",
              " 'outfitting': 26989,\n",
              " 'outbursts': 26988,\n",
              " 'outburst': 26987,\n",
              " 'outbreaks': 26986,\n",
              " 'outback': 26984,\n",
              " 'ounces': 26982,\n",
              " 'ost': 26978,\n",
              " 'ornamented': 26972,\n",
              " 'orilla': 26969,\n",
              " 'originator': 26968,\n",
              " 'ordovician': 26967,\n",
              " 'ordinarily': 26966,\n",
              " 'ordeal': 26965,\n",
              " 'orci': 26964,\n",
              " 'orchestrations': 26962,\n",
              " 'orbited': 26960,\n",
              " 'orally': 26959,\n",
              " 'oradea': 26958,\n",
              " 'optioned': 26957,\n",
              " 'opportunistic': 26951,\n",
              " 'oppidum': 26950,\n",
              " 'opinionated': 26949,\n",
              " 'ophelia': 26948,\n",
              " 'onomatopoeia': 26947,\n",
              " 'oni': 26946,\n",
              " 'oncoming': 26944,\n",
              " 'tuscaloosa': 28392,\n",
              " 'omniscient': 26943,\n",
              " 'oliviers': 26941,\n",
              " 'olga': 26939,\n",
              " 'sinks': 27864,\n",
              " 'olfactory': 26938,\n",
              " 'oilers': 26936,\n",
              " 'offside': 26933,\n",
              " 'octave': 26927,\n",
              " 'obsolescent': 26923,\n",
              " 'obo': 26922,\n",
              " 'oblong': 26921,\n",
              " 'oblivious': 26920,\n",
              " 'oberon': 26918,\n",
              " 'oats': 26917,\n",
              " 'oarsmen': 26915,\n",
              " 'nzef': 26912,\n",
              " 'nylon': 26911,\n",
              " 'nx': 26909,\n",
              " 'numerically': 26906,\n",
              " 'numeric': 26905,\n",
              " 'nudity': 26903,\n",
              " 'nucleated': 26901,\n",
              " 'nu': 26898,\n",
              " 'npws': 26895,\n",
              " 'nppl': 26894,\n",
              " 'novorossiysk': 26893,\n",
              " 'novelty': 26890,\n",
              " 'novelists': 26888,\n",
              " 'nourrit': 26886,\n",
              " 'nourishing': 26885,\n",
              " 'notwithstanding': 26884,\n",
              " 'notify': 26882,\n",
              " 'northeasterly': 26879,\n",
              " 'norman-': 26877,\n",
              " 'norges': 26876,\n",
              " 'nord': 26874,\n",
              " 'nonstop': 26873,\n",
              " 'noncombatant': 26871,\n",
              " 'pagasa': 27020,\n",
              " 'nominating': 26870,\n",
              " ...}"
            ]
          },
          "metadata": {},
          "execution_count": 15
        }
      ]
    },
    {
      "cell_type": "code",
      "source": [
        "freqs = Counter()\n",
        "for tokens in map(tokenizer, train_iter):\n",
        "  freqs.update(tokens)"
      ],
      "metadata": {
        "id": "aDpG8EHFzmVK"
      },
      "execution_count": 19,
      "outputs": []
    },
    {
      "cell_type": "code",
      "source": [
        "freqs.most_common()[-6000:]"
      ],
      "metadata": {
        "colab": {
          "base_uri": "https://localhost:8080/"
        },
        "id": "xKTGXL9Xzq4v",
        "outputId": "ddf413ba-7852-4138-ee20-9ffa704fa525"
      },
      "execution_count": 20,
      "outputs": [
        {
          "output_type": "execute_result",
          "data": {
            "text/plain": [
              "[('refreshing', 4),\n",
              " ('aback', 4),\n",
              " ('uproar', 4),\n",
              " ('novi', 4),\n",
              " ('mshd', 4),\n",
              " ('881', 4),\n",
              " ('ibrahima', 4),\n",
              " ('1726', 4),\n",
              " ('mandé', 4),\n",
              " ('yalunka', 4),\n",
              " ('bundu', 4),\n",
              " ('almami', 4),\n",
              " ('donnel', 4),\n",
              " ('cctv', 4),\n",
              " ('fiancée', 4),\n",
              " ('fibres', 4),\n",
              " ('calmly', 4),\n",
              " ('gaviria', 4),\n",
              " ('andes', 4),\n",
              " ('stylized', 4),\n",
              " ('40th', 4),\n",
              " ('zurich', 4),\n",
              " ('rafa', 4),\n",
              " ('jonas', 4),\n",
              " ('mcenroe', 4),\n",
              " ('tiebreaker', 4),\n",
              " ('borg', 4),\n",
              " ('racquets', 4),\n",
              " ('battled', 4),\n",
              " ('tiebreak', 4),\n",
              " ('surpass', 4),\n",
              " ('prolonging', 4),\n",
              " ('baseline', 4),\n",
              " ('forehand', 4),\n",
              " ('dogfights', 4),\n",
              " ('simulators', 4),\n",
              " ('graphical', 4),\n",
              " ('hantzopoulos', 4),\n",
              " ('gauges', 4),\n",
              " ('itcz', 4),\n",
              " ('accelerating', 4),\n",
              " ('mudskippers', 4),\n",
              " ('tasting', 4),\n",
              " ('bbdo', 4),\n",
              " ('squirrels', 4),\n",
              " ('mustang', 4),\n",
              " ('overlapped', 4),\n",
              " ('stella', 4),\n",
              " ('mulhall', 4),\n",
              " ('windass', 4),\n",
              " ('oblivion', 4),\n",
              " ('californicus', 4),\n",
              " ('diets', 4),\n",
              " ('rabbits', 4),\n",
              " ('mites', 4),\n",
              " ('hares', 4),\n",
              " ('sonora', 4),\n",
              " ('wheatgrass', 4),\n",
              " ('coyote', 4),\n",
              " ('lupus', 4),\n",
              " ('tularemia', 4),\n",
              " ('carcasses', 4),\n",
              " ('ismailia', 4),\n",
              " ('kress', 4),\n",
              " ('railhead', 4),\n",
              " ('ferdan', 4),\n",
              " ('125th', 4),\n",
              " ('zealander', 4),\n",
              " ('redoubt', 4),\n",
              " ('hamisah', 4),\n",
              " ('greedy', 4),\n",
              " ('rogan', 4),\n",
              " ('willingly', 4),\n",
              " ('alisandros', 4),\n",
              " ('lana', 4),\n",
              " ('acknowledgment', 4),\n",
              " ('boletinellus', 4),\n",
              " ('gyroporus', 4),\n",
              " ('phlebopus', 4),\n",
              " ('calostoma', 4),\n",
              " ('diplocystis', 4),\n",
              " ('isotopic', 4),\n",
              " ('competitively', 4),\n",
              " ('abeam', 4),\n",
              " ('blitt', 4),\n",
              " ('meg', 4),\n",
              " ('agaricales', 4),\n",
              " ('donoghue', 4),\n",
              " ('penannular', 4),\n",
              " ('brooch', 4),\n",
              " ('whalebone', 4),\n",
              " ('miniatures', 4),\n",
              " ('quatrain', 4),\n",
              " ('ingenuity', 4),\n",
              " ('goodall', 4),\n",
              " ('carmen', 4),\n",
              " ('pagliacci', 4),\n",
              " ('soloists', 4),\n",
              " ('figaro', 4),\n",
              " ('instituted', 4),\n",
              " ('springboks', 4),\n",
              " ('gibbs', 4),\n",
              " ('spirituals', 4),\n",
              " ('gestures', 4),\n",
              " ('deficit', 4),\n",
              " ('seddon', 4),\n",
              " ('1619', 4),\n",
              " ('mikołaj', 4),\n",
              " ('widacki', 4),\n",
              " ('1641', 4),\n",
              " ('regimentarz', 4),\n",
              " ('conclusive', 4),\n",
              " ('wansel', 4),\n",
              " ('popcrush', 4),\n",
              " ('kellman', 4),\n",
              " ('060', 4),\n",
              " ('usable', 4),\n",
              " ('autobiographies', 4),\n",
              " ('bantam', 4),\n",
              " ('fundamentalists', 4),\n",
              " ('unregulated', 4),\n",
              " ('antidote', 4),\n",
              " ('reflective', 4),\n",
              " ('amphorae', 4),\n",
              " ('yangjiang', 4),\n",
              " ('guangxi', 4),\n",
              " ('¥', 4),\n",
              " ('cny', 4),\n",
              " ('chung', 4),\n",
              " ('lifeguard', 4),\n",
              " ('cphc', 4),\n",
              " ('stocked', 4),\n",
              " ('danko', 4),\n",
              " ('reels', 4),\n",
              " ('pacifier', 4),\n",
              " ('cartwright', 4),\n",
              " ('hallmark', 4),\n",
              " ('itchy', 4),\n",
              " ('scratchy', 4),\n",
              " ('rescind', 4),\n",
              " ('rita', 4),\n",
              " ('toby', 4),\n",
              " ('drinks', 4),\n",
              " ('soundstage', 4),\n",
              " ('fantasia', 4),\n",
              " ('infants', 4),\n",
              " ('assurance', 4),\n",
              " ('furlongs', 4),\n",
              " ('filly', 4),\n",
              " ('northcentral', 4),\n",
              " ('montoursville', 4),\n",
              " ('sludge', 4),\n",
              " ('tanning', 4),\n",
              " ('lumbering', 4),\n",
              " ('705', 4),\n",
              " ('bede', 4),\n",
              " ('hexafluoride', 4),\n",
              " ('oxidizing', 4),\n",
              " ('difluoride', 4),\n",
              " ('asymptotic', 4),\n",
              " ('129i', 4),\n",
              " ('133xe', 4),\n",
              " ('polarization', 4),\n",
              " ('emanating', 4),\n",
              " ('meteorites', 4),\n",
              " ('perxenate', 4),\n",
              " ('computed', 4),\n",
              " ('argentines', 4),\n",
              " ('kirchner', 4),\n",
              " ('rivaled', 4),\n",
              " ('antónio', 4),\n",
              " ('inequality', 4),\n",
              " ('lashes', 4),\n",
              " ('cabildo', 4),\n",
              " ('¡', 4),\n",
              " ('agitation', 4),\n",
              " ('oversized', 4),\n",
              " ('fascism', 4),\n",
              " ('maleev', 4),\n",
              " ('ackerson', 4),\n",
              " ('bulletin', 4),\n",
              " ('helgenberger', 4),\n",
              " ('seductress', 4),\n",
              " ('procedural', 4),\n",
              " ('arecibo', 4),\n",
              " ('lennox', 4),\n",
              " ('mutant', 4),\n",
              " ('weed', 4),\n",
              " ('aspirations', 4),\n",
              " ('visualize', 4),\n",
              " ('1225', 4),\n",
              " ('1228', 4),\n",
              " ('1231', 4),\n",
              " ('minstrel', 4),\n",
              " ('reims', 4),\n",
              " ('1205', 4),\n",
              " ('ayyubid', 4),\n",
              " ('pillaged', 4),\n",
              " ('1214', 4),\n",
              " ('negotiation', 4),\n",
              " ('whitewater', 4),\n",
              " ('ecoregion', 4),\n",
              " ('snowmelt', 4),\n",
              " ('cottonwood', 4),\n",
              " ('shrubby', 4),\n",
              " ('grizzly', 4),\n",
              " ('ranch', 4),\n",
              " ('horseshoe', 4),\n",
              " ('prakash', 4),\n",
              " ('catapulted', 4),\n",
              " ('takia', 4),\n",
              " ('pretended', 4),\n",
              " ('mumaith', 4),\n",
              " ('obscene', 4),\n",
              " ('nizam', 4),\n",
              " ('consolidating', 4),\n",
              " ('ferraris', 4),\n",
              " ('chassis', 4),\n",
              " ('jenson', 4),\n",
              " ('glock', 4),\n",
              " ('piquet', 4),\n",
              " ('sutil', 4),\n",
              " ('frontrunners', 4),\n",
              " ('impeded', 4),\n",
              " ('bronzes', 4),\n",
              " ('mules', 4),\n",
              " ('nots', 4),\n",
              " ('rudder', 4),\n",
              " ('unproven', 4),\n",
              " ('seeping', 4),\n",
              " ('megawatts', 4),\n",
              " ('twh', 4),\n",
              " ('denard', 4),\n",
              " ('comoros', 4),\n",
              " ('enlisting', 4),\n",
              " ('cadres', 4),\n",
              " ('asthma', 4),\n",
              " ('ps3', 4),\n",
              " ('stingaree', 4),\n",
              " ('cracksman', 4),\n",
              " ('satisfaction', 4),\n",
              " ('virtuosity', 4),\n",
              " ('eton', 4),\n",
              " ('adamant', 4),\n",
              " ('tryon', 4),\n",
              " ('distributors', 4),\n",
              " ('aloof', 4),\n",
              " ('sandals', 4),\n",
              " ('mort', 4),\n",
              " ('nijmegen', 4),\n",
              " ('jv', 4),\n",
              " ('étienne', 4),\n",
              " ('absolutism', 4),\n",
              " ('mirroring', 4),\n",
              " ('cropped', 4),\n",
              " ('ictus', 4),\n",
              " ('unpredictability', 4),\n",
              " ('spisevognselskap', 4),\n",
              " ('dovre', 4),\n",
              " ('landlady', 4),\n",
              " ('grinder', 4),\n",
              " ('hinds', 4),\n",
              " ('servilia', 4),\n",
              " ('octavia', 4),\n",
              " ('stoic', 4),\n",
              " ('tumultuous', 4),\n",
              " ('lurid', 4),\n",
              " ('nobodies', 4),\n",
              " ('tetsuya', 4),\n",
              " ('modify', 4),\n",
              " ('ansem', 4),\n",
              " ('xemnas', 4),\n",
              " ('amano', 4),\n",
              " ('zx', 4),\n",
              " ('padres', 4),\n",
              " ('unicameral', 4),\n",
              " ('tiered', 4),\n",
              " ('sud', 4),\n",
              " ('josipović', 4),\n",
              " ('kenyan', 4),\n",
              " ('commune', 4),\n",
              " ('scanlan', 4),\n",
              " ('testify', 4),\n",
              " ('batson', 4),\n",
              " ('fraternal', 4),\n",
              " ('undrafted', 4),\n",
              " ('devils', 4),\n",
              " ('crutches', 4),\n",
              " ('vie', 4),\n",
              " ('scoutz', 4),\n",
              " ('syrup', 4),\n",
              " ('milhouse', 4),\n",
              " ('meanders', 4),\n",
              " ('irv', 4),\n",
              " ('cisski', 4),\n",
              " ('wuthering', 4),\n",
              " ('auditorium', 4),\n",
              " ('bfi', 4),\n",
              " ('kean', 4),\n",
              " ('lejeune', 4),\n",
              " ('korda', 4),\n",
              " ('eclipsed', 4),\n",
              " ('searing', 4),\n",
              " ('bragg', 4),\n",
              " ('darlington', 4),\n",
              " ('chandos', 4),\n",
              " ('1706', 4),\n",
              " ('assertiveness', 4),\n",
              " ('entice', 4),\n",
              " ('rudders', 4),\n",
              " ('volts', 4),\n",
              " ('467', 4),\n",
              " ('jammed', 4),\n",
              " ('tripod', 4),\n",
              " ('crippled', 4),\n",
              " ('casablanca', 4),\n",
              " ('puncture', 4),\n",
              " ('gy', 4),\n",
              " ('gastrointestinal', 4),\n",
              " ('lund', 4),\n",
              " ('fluids', 4),\n",
              " ('swamped', 4),\n",
              " ('fremantle', 4),\n",
              " ('entrained', 4),\n",
              " ('lemnos', 4),\n",
              " ('webisode', 4),\n",
              " ('kern', 4),\n",
              " ('blythe', 4),\n",
              " ('hauser', 4),\n",
              " ('cornell', 4),\n",
              " ('infective', 4),\n",
              " ('godsmack', 4),\n",
              " ('turnovers', 4),\n",
              " ('shrank', 4),\n",
              " ('vishnuvardhana', 4),\n",
              " ('dvaita', 4),\n",
              " ('ashtaka', 4),\n",
              " ('janna', 4),\n",
              " ('1330', 4),\n",
              " ('ramanujacharya', 4),\n",
              " ('bards', 4),\n",
              " ('padmarasa', 4),\n",
              " ('1189', 4),\n",
              " ('charitra', 4),\n",
              " ('infatuation', 4),\n",
              " ('resurfacing', 4),\n",
              " ('asceticism', 4),\n",
              " ('adi', 4),\n",
              " ('nirnaya', 4),\n",
              " ('colima', 4),\n",
              " ('cotrona', 4),\n",
              " ('palicki', 4),\n",
              " ('hopping', 4),\n",
              " ('redone', 4),\n",
              " ('ungulates', 4),\n",
              " ('onça', 4),\n",
              " ('cheetah', 4),\n",
              " ('couguar', 4),\n",
              " ('sprints', 4),\n",
              " ('seals', 4),\n",
              " ('shrinks', 4),\n",
              " ('kittens', 4),\n",
              " ('winnebago', 4),\n",
              " ('paradoxical', 4),\n",
              " ('przewalski', 4),\n",
              " ('krayot', 4),\n",
              " ('samak', 4),\n",
              " ('sycaminon', 4),\n",
              " ('kishon', 4),\n",
              " ('retook', 4),\n",
              " ('maris', 4),\n",
              " ('tiberias', 4),\n",
              " ('interred', 4),\n",
              " ('redeployed', 4),\n",
              " ('ashdod', 4),\n",
              " ('merkaz', 4),\n",
              " ('9n', 4),\n",
              " ('cerezo', 4),\n",
              " ('expiration', 4),\n",
              " ('tattoo', 4),\n",
              " ('gators', 4),\n",
              " ('moba', 4),\n",
              " ('collects', 4),\n",
              " ('radiant', 4),\n",
              " ('feak', 4),\n",
              " ('gamescom', 4),\n",
              " ('contributor', 4),\n",
              " ('gametrailers', 4),\n",
              " ('swarm', 4),\n",
              " ('toye', 4),\n",
              " ('toads', 4),\n",
              " ('showrunner', 4),\n",
              " ('immensely', 4),\n",
              " ('brogan', 4),\n",
              " ('swallows', 4),\n",
              " ('nonviolent', 4),\n",
              " ('gawker', 4),\n",
              " ('hackers', 4),\n",
              " ('prolexic', 4),\n",
              " ('pouw', 4),\n",
              " ('melvin', 4),\n",
              " ('aggravated', 4),\n",
              " ('coerced', 4),\n",
              " ('harney', 4),\n",
              " ('boulevards', 4),\n",
              " ('mormon', 4),\n",
              " ('680', 4),\n",
              " ('serene', 4),\n",
              " ('buena', 4),\n",
              " ('vista', 4),\n",
              " ('malayan', 4),\n",
              " ('seclusion', 4),\n",
              " ('autoharp', 4),\n",
              " ('toes', 4),\n",
              " ('1k', 4),\n",
              " ('tancherês', 4),\n",
              " ('ptahhotep', 4),\n",
              " ('courtiers', 4),\n",
              " ('hellenized', 4),\n",
              " ('nyuserre', 4),\n",
              " ('meresankh', 4),\n",
              " ('neserkauhor', 4),\n",
              " ('senedjemib', 4),\n",
              " ('sed', 4),\n",
              " ('inti', 4),\n",
              " ('byblos', 4),\n",
              " ('merenre', 4),\n",
              " ('pepi', 4),\n",
              " ('silverside', 4),\n",
              " ('forester', 4),\n",
              " ('tåsen', 4),\n",
              " ('korsvoll', 4),\n",
              " ('1264', 4),\n",
              " ('secwepemc', 4),\n",
              " ('nehru', 4),\n",
              " ('hoisting', 4),\n",
              " ('jana', 4),\n",
              " ('premonition', 4),\n",
              " ('belize', 4),\n",
              " ('martinique', 4),\n",
              " ('javier', 4),\n",
              " ('lattimore', 4),\n",
              " ('453', 4),\n",
              " ('chesham', 4),\n",
              " ('churchmen', 4),\n",
              " ('propellers', 4),\n",
              " ('tjoet', 4),\n",
              " ('nja', 4),\n",
              " ('pasir', 4),\n",
              " ('sesuatu', 4),\n",
              " ('indah', 4),\n",
              " ('kerikil', 4),\n",
              " ('bandung', 4),\n",
              " ('pavers', 4),\n",
              " ('diabolus', 4),\n",
              " ('mats', 4),\n",
              " ('karagias', 4),\n",
              " ('wrestle', 4),\n",
              " ('wildside', 4),\n",
              " ('pwi', 4),\n",
              " ('wellness', 4),\n",
              " ('wizard', 4),\n",
              " ('neckbreaker', 4),\n",
              " ('groton', 4),\n",
              " ('separatists', 4),\n",
              " ('twisse', 4),\n",
              " ('propositions', 4),\n",
              " ('creeds', 4),\n",
              " ('parishes', 4),\n",
              " ('lochmarne', 4),\n",
              " ('thew', 4),\n",
              " ('kickstarter', 4),\n",
              " ('overflow', 4),\n",
              " ('wippleman', 4),\n",
              " ('loser', 4),\n",
              " ('fatu', 4),\n",
              " ('buyrate', 4),\n",
              " ('theorems', 4),\n",
              " ('theorem', 4),\n",
              " ('schank', 4),\n",
              " ('dependency', 4),\n",
              " ('papert', 4),\n",
              " ('micro', 4),\n",
              " ('sussman', 4),\n",
              " ('cmu', 4),\n",
              " ('mips', 4),\n",
              " ('predicts', 4),\n",
              " ('oc', 4),\n",
              " ('appellation', 4),\n",
              " ('syrah', 4),\n",
              " ('chardonnay', 4),\n",
              " ('vins', 4),\n",
              " ('napier', 4),\n",
              " ('aravind', 4),\n",
              " ('chakraborty', 4),\n",
              " ('gharana', 4),\n",
              " ('ngô', 4),\n",
              " ('tấn', 4),\n",
              " ('plaf', 4),\n",
              " ('quảng', 4),\n",
              " ('tomasevich', 4),\n",
              " ('cyrillic', 4),\n",
              " ('ip', 4),\n",
              " ('delineated', 4),\n",
              " ('hallucinogenic', 4),\n",
              " ('boiling', 4),\n",
              " ('detoxified', 4),\n",
              " ('lithuanians', 4),\n",
              " ('shamans', 4),\n",
              " ('cedars', 4),\n",
              " ('denounce', 4),\n",
              " ('1351', 4),\n",
              " ('1656', 4),\n",
              " ('newgate', 4),\n",
              " ('arundel', 4),\n",
              " ('menagerie', 4),\n",
              " ('ichiro', 4),\n",
              " ('swings', 4),\n",
              " ('milano', 4),\n",
              " ('joss', 4),\n",
              " ('solitarius', 4),\n",
              " ('subfossils', 4),\n",
              " ('pieter', 4),\n",
              " ('holsteyn', 4),\n",
              " ('leguat', 4),\n",
              " ('savery', 4),\n",
              " ('sieur', 4),\n",
              " ('feuilley', 4),\n",
              " ('cao', 4),\n",
              " ('karnow', 4),\n",
              " ('quinta', 4),\n",
              " ('fronted', 4),\n",
              " ('peregrine', 4),\n",
              " ('dissipate', 4),\n",
              " ('kenna', 4),\n",
              " ('298', 4),\n",
              " ('522', 4),\n",
              " ('odile', 4),\n",
              " ('anita', 4),\n",
              " ('hurdling', 4),\n",
              " ('decathlon', 4),\n",
              " ('wenlock', 4),\n",
              " ('organisers', 4),\n",
              " ('mayson', 4),\n",
              " ('heidelberg', 4),\n",
              " ('instalments', 4),\n",
              " ('acton', 4),\n",
              " ('nown', 4),\n",
              " ('dharma', 4),\n",
              " ('ethnically', 4),\n",
              " ('bleiler', 4),\n",
              " ('wandered', 4),\n",
              " ('embankments', 4),\n",
              " ('loaf', 4),\n",
              " ('glued', 4),\n",
              " ('stegosaurians', 4),\n",
              " ('pareiasaur', 4),\n",
              " ('para', 4),\n",
              " ('ornithopods', 4),\n",
              " ('nares', 4),\n",
              " ('premaxillary', 4),\n",
              " ('kentrosaurus', 4),\n",
              " ('huayangosaurus', 4),\n",
              " ('353', 4),\n",
              " ('kamara', 4),\n",
              " ('overclocked', 4),\n",
              " ('screwattack', 4),\n",
              " ('gravestone', 4),\n",
              " ('pembina', 4),\n",
              " ('hidatsa', 4),\n",
              " ('hirosaki', 4),\n",
              " ('conde', 4),\n",
              " ('koma', 4),\n",
              " ('judoka', 4),\n",
              " ('yamashita', 4),\n",
              " ('taka', 4),\n",
              " ('tokugoro', 4),\n",
              " ('laku', 4),\n",
              " ('shimitsu', 4),\n",
              " ('gastão', 4),\n",
              " ('tofu', 4),\n",
              " ('tama', 4),\n",
              " ('shingen', 4),\n",
              " ('polow', 4),\n",
              " ('hologram', 4),\n",
              " ('sternum', 4),\n",
              " ('rimu', 4),\n",
              " ('beaks', 4),\n",
              " ('rakiura', 4),\n",
              " ('skins', 4),\n",
              " ('browsing', 4),\n",
              " ('andi', 4),\n",
              " ('hut', 4),\n",
              " ('fredericksburg', 4),\n",
              " ('wetmore', 4),\n",
              " ('romulans', 4),\n",
              " ('indecent', 4),\n",
              " ('guam', 4),\n",
              " ('orderings', 4),\n",
              " ('np', 4),\n",
              " ('subgraph', 4),\n",
              " ('endpoint', 4),\n",
              " ('kōkaku', 4),\n",
              " ('cybernetic', 4),\n",
              " ('2501', 4),\n",
              " ('yamato', 4),\n",
              " ('undecided', 4),\n",
              " ('sociologists', 4),\n",
              " ('verbally', 4),\n",
              " ('balch', 4),\n",
              " ('abduction', 4),\n",
              " ('kringen', 4),\n",
              " ('supervisory', 4),\n",
              " ('longues', 4),\n",
              " ('avre', 4),\n",
              " ('harbours', 4),\n",
              " ('northumbrian', 4),\n",
              " ('231st', 4),\n",
              " ('rasc', 4),\n",
              " ('orne', 4),\n",
              " ('crépon', 4),\n",
              " ('occupants', 4),\n",
              " ('varpas', 4),\n",
              " ('findspot', 4),\n",
              " ('shinnok', 4),\n",
              " ('quan', 4),\n",
              " ('yorke', 4),\n",
              " ('horner', 4),\n",
              " ('q3', 4),\n",
              " ('magnussen', 4),\n",
              " ('stewards', 4),\n",
              " ('ludacris', 4),\n",
              " ('shawnna', 4),\n",
              " ('therepio', 4),\n",
              " ('alla', 4),\n",
              " ('qur', 4),\n",
              " ('ā', 4),\n",
              " ('rainforests', 4),\n",
              " ('bites', 4),\n",
              " ('ld50', 4),\n",
              " ('fowley', 4),\n",
              " ('ngebe', 4),\n",
              " ('ryūjinmura', 4),\n",
              " ('shigure', 4),\n",
              " ('tenets', 4),\n",
              " ('locusts', 4),\n",
              " ('vineae', 4),\n",
              " ('pathogens', 4),\n",
              " ('scapterisci', 4),\n",
              " ('pastures', 4),\n",
              " ('blazed', 4),\n",
              " ('853d', 4),\n",
              " ('souper', 4),\n",
              " ('robespierre', 4),\n",
              " ('caizhou', 4),\n",
              " ('1140', 4),\n",
              " ('yingtianfu', 4),\n",
              " ('xiangyang', 4),\n",
              " ('shizong', 4),\n",
              " ('火礮', 4),\n",
              " ('hmc', 4),\n",
              " ('t30s', 4),\n",
              " ('nod', 4),\n",
              " ('tittenhurst', 4),\n",
              " ('triatomine', 4),\n",
              " ('trypomastigotes', 4),\n",
              " ('triatoma', 4),\n",
              " ('bahía', 4),\n",
              " ('undulating', 4),\n",
              " ('nurseries', 4),\n",
              " ('kiplin', 4),\n",
              " ('seminoles', 4),\n",
              " ('sawgrass', 4),\n",
              " ('glades', 4),\n",
              " ('biscayne', 4),\n",
              " ('stoneman', 4),\n",
              " ('eaa', 4),\n",
              " ('dcpa', 4),\n",
              " ('honeymooners', 4),\n",
              " ('hyman', 4),\n",
              " ('upt', 4),\n",
              " ('cordon', 4),\n",
              " ('osmond', 4),\n",
              " ('aweary', 4),\n",
              " ('fatima', 4),\n",
              " ('a5', 4),\n",
              " ('manorina', 4),\n",
              " ('leachi', 4),\n",
              " ('ironbark', 4),\n",
              " ('bathe', 4),\n",
              " ('coteries', 4),\n",
              " ('eater', 4),\n",
              " ('merops', 4),\n",
              " ('exclusivity', 4),\n",
              " ('karyopherins', 4),\n",
              " ('heterochromatin', 4),\n",
              " ('paraspeckles', 4),\n",
              " ('coilin', 4),\n",
              " ('interchromatin', 4),\n",
              " ('rangtp', 4),\n",
              " ('disassembly', 4),\n",
              " ('apoptosis', 4),\n",
              " ('hydrated', 4),\n",
              " ('·', 4),\n",
              " ('cerium', 4),\n",
              " ('sublimation', 4),\n",
              " ('keck', 4),\n",
              " ('declination', 4),\n",
              " ('peninsulas', 4),\n",
              " ('strathaird', 4),\n",
              " ('meic', 4),\n",
              " ('oxymoron', 4),\n",
              " ('oahe', 4),\n",
              " ('km3', 4),\n",
              " ('gavins', 4),\n",
              " ('meriwether', 4),\n",
              " ('tulloch', 4),\n",
              " ('bland', 4),\n",
              " ('conduit', 4),\n",
              " ('thrive', 4),\n",
              " ('idina', 4),\n",
              " ('mckinley', 4),\n",
              " ('kubicek', 4),\n",
              " ('clichéd', 4),\n",
              " ('respers', 4),\n",
              " ('futterman', 4),\n",
              " ('larroquette', 4),\n",
              " ('ramsbury', 4),\n",
              " ('hagiography', 4),\n",
              " ('gallimard', 4),\n",
              " ('stis', 4),\n",
              " ('polyisoprene', 4),\n",
              " ('std', 4),\n",
              " ('allergic', 4),\n",
              " ('nonoxynol', 4),\n",
              " ('glans', 4),\n",
              " ('pugliese', 4),\n",
              " ('rossiya', 4),\n",
              " ('molotovsk', 4),\n",
              " ('sardi', 4),\n",
              " ('giring', 4),\n",
              " ('walidah', 4),\n",
              " ('barremian', 4),\n",
              " ('camptosaurus', 4),\n",
              " ('dollo', 4),\n",
              " ('iguanodonts', 4),\n",
              " ('fours', 4),\n",
              " ('cassowary', 4),\n",
              " ('joystick', 4),\n",
              " ('muybridge', 4),\n",
              " ('scars', 4),\n",
              " ('um', 4),\n",
              " ('teddy', 4),\n",
              " ('jowell', 4),\n",
              " ('berm', 4),\n",
              " ('olorotitan', 4),\n",
              " ('integument', 4),\n",
              " ('kritosaurus', 4),\n",
              " ('premaxillaries', 4),\n",
              " ('prefrontals', 4),\n",
              " ('trackage', 4),\n",
              " ('vāda', 4),\n",
              " ('syāt', 4),\n",
              " ('samantabhadra', 4),\n",
              " ('asti', 4),\n",
              " ('nāsti', 4),\n",
              " ('avaktavyaḥ', 4),\n",
              " ('indescribable', 4),\n",
              " ('dravya', 4),\n",
              " ('hinduism', 4),\n",
              " ('oosterbeek', 4),\n",
              " ('naruhodō', 4),\n",
              " ('layton', 4),\n",
              " ('vietnamization', 4),\n",
              " ('cham', 4),\n",
              " ('ptychoverpa', 4),\n",
              " ('kolkata', 4),\n",
              " ('kanpur', 4),\n",
              " ('tulsidas', 4),\n",
              " ('kabir', 4),\n",
              " ('maratha', 4),\n",
              " ('varuna', 4),\n",
              " ('assi', 4),\n",
              " ('mosques', 4),\n",
              " ('agglomeration', 4),\n",
              " ('ayurvedic', 4),\n",
              " ('jantar', 4),\n",
              " ('mantar', 4),\n",
              " ('maharaj', 4),\n",
              " ('sunspot', 4),\n",
              " ('anketell', 4),\n",
              " ('northam', 4),\n",
              " ('rabaul', 4),\n",
              " ('sumatra', 4),\n",
              " ('mashtots', 4),\n",
              " ('ჯ', 4),\n",
              " ('ი', 4),\n",
              " ('ო', 4),\n",
              " ('ხ', 4),\n",
              " ('ossetian', 4),\n",
              " ('ვ', 4),\n",
              " ('კ', 4),\n",
              " ('tbilisi', 4),\n",
              " ('yamu', 4),\n",
              " ('bhandara', 4),\n",
              " ('151eu', 4),\n",
              " ('154eu', 4),\n",
              " ('gadolinium', 4),\n",
              " ('bulbs', 4),\n",
              " ('lerew', 4),\n",
              " ('usaaf', 4),\n",
              " ('capensis', 4),\n",
              " ('haga', 4),\n",
              " ('wag', 4),\n",
              " ('segmental', 4),\n",
              " ('trapdoor', 4),\n",
              " ('brackenburn', 4),\n",
              " ('cheevers', 4),\n",
              " ('fetishist', 4),\n",
              " ('necrophiliac', 4),\n",
              " ('supercar', 4),\n",
              " ('dyneley', 4),\n",
              " ('piloted', 4),\n",
              " ('kyrano', 4),\n",
              " ('bignell', 4),\n",
              " ('cull', 4),\n",
              " ('carbuncle', 4),\n",
              " ('boobs', 4),\n",
              " ('broadoak', 4),\n",
              " ('bogotá', 4),\n",
              " ('vergara', 4),\n",
              " ('oxbow', 4),\n",
              " ('carnation', 4),\n",
              " ('niassa', 4),\n",
              " ('lourenço', 4),\n",
              " ('machel', 4),\n",
              " ('tete', 4),\n",
              " ('landmines', 4),\n",
              " ('pide', 4),\n",
              " ('kaúlza', 4),\n",
              " ('flechas', 4),\n",
              " ('wiriyamu', 4),\n",
              " ('threepwood', 4),\n",
              " ('eshmunazar', 4),\n",
              " ('bodashtart', 4),\n",
              " ('nymphaeum', 4),\n",
              " ('düsseldorf', 4),\n",
              " ('kaspar', 4),\n",
              " ('bassermann', 4),\n",
              " ('filucius', 4),\n",
              " ('kinetics', 4),\n",
              " ('steffie', 4),\n",
              " ('pulsar', 4),\n",
              " ('galactic', 4),\n",
              " ('monogram', 4),\n",
              " ('firs', 4),\n",
              " ('pianists', 4),\n",
              " ('sorabji', 4),\n",
              " ('napoléon', 4),\n",
              " ('solfège', 4),\n",
              " ('franck', 4),\n",
              " ('marmontel', 4),\n",
              " ('préludes', 4),\n",
              " ('hiller', 4),\n",
              " ('tous', 4),\n",
              " ('érard', 4),\n",
              " ('sturnus', 4),\n",
              " ('sturnidae', 4),\n",
              " ('zetlandicus', 4),\n",
              " ('flea', 4),\n",
              " ('戦場のヴァルキュリア3', 3),\n",
              " ('europan', 3),\n",
              " ('honjou', 3),\n",
              " ('hitoshi', 3),\n",
              " ('ozawa', 3),\n",
              " ('potentials', 3),\n",
              " ('innate', 3),\n",
              " ('impede', 3),\n",
              " ('imca', 3),\n",
              " ('stats', 3),\n",
              " ('falsely', 3),\n",
              " ('redeem', 3),\n",
              " ('riela', 3),\n",
              " ('422nd', 3),\n",
              " ('benefactor', 3),\n",
              " ('newfound', 3),\n",
              " ('individuality', 3),\n",
              " ('unpopularity', 3),\n",
              " ('tweaks', 3),\n",
              " ('geddes', 3),\n",
              " ('enjoying', 3),\n",
              " ('kotaku', 3),\n",
              " ('jockey', 3),\n",
              " ('harrel', 3),\n",
              " ('surrendering', 3),\n",
              " ('fabrication', 3),\n",
              " ('confederates', 3),\n",
              " ('smoothbore', 3),\n",
              " ('864', 3),\n",
              " ('364', 3),\n",
              " ('surmised', 3),\n",
              " ('mustered', 3),\n",
              " ('destitute', 3),\n",
              " ('undertakings', 3),\n",
              " ('conscripted', 3),\n",
              " ('236', 3),\n",
              " ('packages', 3),\n",
              " ('hoist', 3),\n",
              " ('unoccupied', 3),\n",
              " ('babcock', 3),\n",
              " ('girlhood', 3),\n",
              " ('artworks', 3),\n",
              " ('fundraisers', 3),\n",
              " ('waddon', 3),\n",
              " ('caldecott', 3),\n",
              " ('advertiser', 3),\n",
              " ('calthrop', 3),\n",
              " ('borrow', 3),\n",
              " ('whitby', 3),\n",
              " ('fondness', 3),\n",
              " ('rushie', 3),\n",
              " ('necklaces', 3),\n",
              " ('₤', 3),\n",
              " ('sos', 3),\n",
              " ('tamba', 3),\n",
              " ('abuses', 3),\n",
              " ('staffers', 3),\n",
              " ('neotrygon', 3),\n",
              " ('annotata', 3),\n",
              " ('bottomed', 3),\n",
              " ('patterned', 3),\n",
              " ('trawls', 3),\n",
              " ('gracile', 3),\n",
              " ('csiro', 3),\n",
              " ('sequenced', 3),\n",
              " ('sorted', 3),\n",
              " ('converge', 3),\n",
              " ('flap', 3),\n",
              " ('papillae', 3),\n",
              " ('stings', 3),\n",
              " ('denticles', 3),\n",
              " ('midline', 3),\n",
              " ('dweller', 3),\n",
              " ('hunts', 3),\n",
              " ('ovary', 3),\n",
              " ('newborns', 3),\n",
              " ('widths', 3),\n",
              " ('fished', 3),\n",
              " ('intensively', 3),\n",
              " ('oilers', 3),\n",
              " ('islanders', 3),\n",
              " ('canucks', 3),\n",
              " ('waive', 3),\n",
              " ('thanked', 3),\n",
              " ('reiterating', 3),\n",
              " ('froze', 3),\n",
              " ('000th', 3),\n",
              " ('1580', 3),\n",
              " ('della', 3),\n",
              " ('embellished', 3),\n",
              " ('gilii', 3),\n",
              " ('comets', 3),\n",
              " ('conforming', 3),\n",
              " ('meteorologist', 3),\n",
              " ('272', 3),\n",
              " ('bromide', 3),\n",
              " ('calming', 3),\n",
              " ('muhammed', 3),\n",
              " ('denouncing', 3),\n",
              " ('idealistic', 3),\n",
              " ('wyo', 3),\n",
              " ('courthouse', 3),\n",
              " ('tonnage', 3),\n",
              " ('762', 3),\n",
              " ('rounding', 3),\n",
              " ('006', 3),\n",
              " ('angled', 3),\n",
              " ('191', 3),\n",
              " ('508', 3),\n",
              " ('lever', 3),\n",
              " ('forsaken', 3),\n",
              " ('leaks', 3),\n",
              " ('josiah', 3),\n",
              " ('timely', 3),\n",
              " ('coaling', 3),\n",
              " ('tugboat', 3),\n",
              " ('cleanly', 3),\n",
              " ('dahlgren', 3),\n",
              " ('sylvain', 3),\n",
              " ('aspired', 3),\n",
              " ('jasmine', 3),\n",
              " ('ndtv', 3),\n",
              " ('rajeev', 3),\n",
              " ('masand', 3),\n",
              " ('gaurav', 3),\n",
              " ('tempting', 3),\n",
              " ('padukone', 3),\n",
              " ('pretentious', 3),\n",
              " ('jha', 3),\n",
              " ('emotive', 3),\n",
              " ...]"
            ]
          },
          "metadata": {},
          "execution_count": 20
        }
      ]
    },
    {
      "cell_type": "markdown",
      "source": [
        "##Data preprocessing and preparation process"
      ],
      "metadata": {
        "id": "ggaNowjpOns1"
      }
    },
    {
      "cell_type": "code",
      "source": [
        "def data_process(text_iter,seq_len):\n",
        "  data = torch.cat([torch.LongTensor(vocab(tokenizer(line))) for line in text_iter])\n",
        "\n",
        "  M = len(data) // seq_len\n",
        "  r = len(data) % seq_len\n",
        "  data = torch.cat((data,torch.LongTensor([0]))) if r == 0 else data\n",
        "\n",
        "  inputs = data[: M*seq_len]\n",
        "  inputs = inputs.reshape(-1,seq_len)\n",
        "\n",
        "  targets = data[1: M*seq_len+1]\n",
        "  targets = targets.reshape(-1,seq_len)\n",
        "\n",
        "  return inputs,targets"
      ],
      "metadata": {
        "id": "C4r5uUQNzsmo"
      },
      "execution_count": 21,
      "outputs": []
    },
    {
      "cell_type": "code",
      "source": [
        "inputs, targets = data_process(text_iter=train_iter,seq_len=120)\n",
        "inputs.shape,targets.shape"
      ],
      "metadata": {
        "colab": {
          "base_uri": "https://localhost:8080/"
        },
        "id": "iyw0yd_qz1-x",
        "outputId": "f43ac235-f092-4ef9-906e-d23804253586"
      },
      "execution_count": 23,
      "outputs": [
        {
          "output_type": "execute_result",
          "data": {
            "text/plain": [
              "(torch.Size([17083, 120]), torch.Size([17083, 120]))"
            ]
          },
          "metadata": {},
          "execution_count": 23
        }
      ]
    },
    {
      "cell_type": "code",
      "source": [
        "del  inputs, targets"
      ],
      "metadata": {
        "id": "YOqEfAHxz4pF"
      },
      "execution_count": 24,
      "outputs": []
    },
    {
      "cell_type": "code",
      "source": [
        "seq_len = 35\n",
        "\n",
        "x_train,y_train = data_process(text_iter=train_iter ,seq_len=seq_len)\n",
        "x_valid, y_valid = data_process(text_iter=valid_iter,seq_len=seq_len)\n",
        "x_test, y_test = data_process(text_iter=test_iter,seq_len=seq_len)\n",
        "\n",
        "x_train.shape,y_train.shape,x_valid.shape,y_valid.shape,x_test.shape,y_test.shape"
      ],
      "metadata": {
        "colab": {
          "base_uri": "https://localhost:8080/"
        },
        "id": "GHHoKza6z-p1",
        "outputId": "64439a34-a0f1-450c-c858-c29bba2d0382"
      },
      "execution_count": 27,
      "outputs": [
        {
          "output_type": "execute_result",
          "data": {
            "text/plain": [
              "(torch.Size([58571, 35]),\n",
              " torch.Size([58571, 35]),\n",
              " torch.Size([6126, 35]),\n",
              " torch.Size([6126, 35]),\n",
              " torch.Size([6910, 35]),\n",
              " torch.Size([6910, 35]))"
            ]
          },
          "metadata": {},
          "execution_count": 27
        }
      ]
    },
    {
      "cell_type": "markdown",
      "source": [
        "##custom dataset"
      ],
      "metadata": {
        "id": "RkdFP7B6Oszo"
      }
    },
    {
      "cell_type": "code",
      "source": [
        "class LanguageModelDataset(Dataset):\n",
        "  def __init__(self,inputs,targets):\n",
        "    self.inputs = inputs\n",
        "    self.targets = targets\n",
        "\n",
        "  def __len__(self):\n",
        "    return self.inputs.shape[0]\n",
        "\n",
        "  def __getitem__(self,idx):\n",
        "    return self.inputs[idx],self.targets[idx]"
      ],
      "metadata": {
        "id": "RK-s6Wj40FGW"
      },
      "execution_count": 28,
      "outputs": []
    },
    {
      "cell_type": "code",
      "source": [
        "train_set = LanguageModelDataset(x_train,y_train)\n",
        "valid_set = LanguageModelDataset(x_valid,y_valid)\n",
        "test_set = LanguageModelDataset(x_test,y_test)"
      ],
      "metadata": {
        "id": "vieMqXki0H3z"
      },
      "execution_count": 29,
      "outputs": []
    },
    {
      "cell_type": "code",
      "source": [
        "train_set[0]"
      ],
      "metadata": {
        "colab": {
          "base_uri": "https://localhost:8080/"
        },
        "id": "yCP97HpW0JzX",
        "outputId": "8fabd312-4d9d-408c-f3ef-6b07f98d188a"
      },
      "execution_count": 30,
      "outputs": [
        {
          "output_type": "execute_result",
          "data": {
            "text/plain": [
              "(tensor([    9,  3849,  3869,   881,     9, 20000,    83,  3849,    88,     0,\n",
              "          3869,    21,   780, 28780,     2,  6182,     3,  3849,     4,     1,\n",
              "          5023,    88,    20,     2,  1837,  1018,     7,    14,  3849,  3869,\n",
              "           881,   629,   976,     2,    23]),\n",
              " tensor([ 3849,  3869,   881,     9, 20000,    83,  3849,    88,     0,  3869,\n",
              "            21,   780, 28780,     2,  6182,     3,  3849,     4,     1,  5023,\n",
              "            88,    20,     2,  1837,  1018,     7,    14,  3849,  3869,   881,\n",
              "           629,   976,     2,    23,     8]))"
            ]
          },
          "metadata": {},
          "execution_count": 30
        }
      ]
    },
    {
      "cell_type": "code",
      "source": [
        "batch_size = 20\n",
        "\n",
        "train_loader = DataLoader(train_set, batch_size=batch_size, shuffle= True)\n",
        "valid_loader = DataLoader(valid_set, batch_size=batch_size, shuffle= False)\n",
        "test_loader = DataLoader(test_set, batch_size= batch_size, shuffle= False)"
      ],
      "metadata": {
        "id": "__AVqZdi0LnZ"
      },
      "execution_count": 31,
      "outputs": []
    },
    {
      "cell_type": "code",
      "source": [
        "x_iter, y_iter = next(iter(train_loader))\n",
        "x_iter.shape,y_iter.shape"
      ],
      "metadata": {
        "colab": {
          "base_uri": "https://localhost:8080/"
        },
        "id": "nIf1WpwT0QoM",
        "outputId": "0ca1cd12-de62-4b41-9a61-fe9f3dba8d47"
      },
      "execution_count": 32,
      "outputs": [
        {
          "output_type": "execute_result",
          "data": {
            "text/plain": [
              "(torch.Size([20, 35]), torch.Size([20, 35]))"
            ]
          },
          "metadata": {},
          "execution_count": 32
        }
      ]
    },
    {
      "cell_type": "markdown",
      "source": [
        "## language Model class"
      ],
      "metadata": {
        "id": "qad9V9gvPC12"
      }
    },
    {
      "cell_type": "code",
      "source": [
        "class LanguageModel(nn.Module):\n",
        "  def __init__(self,vocab_size, embedding_dim, hidden_dim,num_layers, dropout_embd= 0.5, dropout_rnn= 0.5):\n",
        "    super().__init__()\n",
        "    self.num_layers = num_layers\n",
        "    self.hidden_dim = hidden_dim\n",
        "    self.embedding_dim = embedding_dim\n",
        "\n",
        "    self.embedding = nn.Embedding(vocab_size, embedding_dim)\n",
        "    self.embedding.weight.data.uniform_(-0.1,0.1)\n",
        "    self.dropout = nn.Dropout(p = dropout_embd)\n",
        "\n",
        "    self.lstm = nn.LSTM(embedding_dim, hidden_dim, num_layers = num_layers, dropout= dropout_rnn, batch_first = True)\n",
        "    self.fc = nn.Linear(hidden_dim, vocab_size)\n",
        "\n",
        "  def forward(self, src):\n",
        "    embedding = self.dropout(self.embedding(src))\n",
        "    output, hidden = self.lstm(embedding)\n",
        "    prediction = self.fc(output)\n",
        "    return prediction"
      ],
      "metadata": {
        "id": "Aql7bqC30SkZ"
      },
      "execution_count": 33,
      "outputs": []
    },
    {
      "cell_type": "code",
      "source": [
        "model = LanguageModel(vocab_size= len(vocab),\n",
        "                      embedding_dim= 300,\n",
        "                      hidden_dim = 512,\n",
        "                      num_layers= 2,\n",
        "                      dropout_embd= 0.65,\n",
        "                      dropout_rnn= 0.5)\n",
        "model"
      ],
      "metadata": {
        "colab": {
          "base_uri": "https://localhost:8080/"
        },
        "id": "rK-pkr5C0UkJ",
        "outputId": "8e6f247f-e06e-45cf-beec-57d981d1df85"
      },
      "execution_count": 34,
      "outputs": [
        {
          "output_type": "execute_result",
          "data": {
            "text/plain": [
              "LanguageModel(\n",
              "  (embedding): Embedding(28782, 300)\n",
              "  (dropout): Dropout(p=0.65, inplace=False)\n",
              "  (lstm): LSTM(300, 512, num_layers=2, batch_first=True, dropout=0.5)\n",
              "  (fc): Linear(in_features=512, out_features=28782, bias=True)\n",
              ")"
            ]
          },
          "metadata": {},
          "execution_count": 34
        }
      ]
    },
    {
      "cell_type": "code",
      "source": [
        "x_batch, y_batch = next(iter(train_loader))\n",
        "\n",
        "model(x_batch).shape"
      ],
      "metadata": {
        "colab": {
          "base_uri": "https://localhost:8080/"
        },
        "id": "1ZXR_DFP0XE3",
        "outputId": "f3d4666c-ea5a-4c8a-97a7-b49af5b8923d"
      },
      "execution_count": 35,
      "outputs": [
        {
          "output_type": "execute_result",
          "data": {
            "text/plain": [
              "torch.Size([20, 35, 28782])"
            ]
          },
          "metadata": {},
          "execution_count": 35
        }
      ]
    },
    {
      "cell_type": "code",
      "source": [
        "num_trainable_params(model.embedding), num_trainable_params(model.lstm), num_trainable_params(model.fc)"
      ],
      "metadata": {
        "colab": {
          "base_uri": "https://localhost:8080/"
        },
        "id": "LxPmhO_P0Y8Z",
        "outputId": "6f6bffdc-0e50-427d-ea7c-5ad27e6b1891"
      },
      "execution_count": 36,
      "outputs": [
        {
          "output_type": "execute_result",
          "data": {
            "text/plain": [
              "(8.6346, 3.76832, 14.765166)"
            ]
          },
          "metadata": {},
          "execution_count": 36
        }
      ]
    },
    {
      "cell_type": "code",
      "source": [
        "device = 'cuda' if torch.cuda.is_available() else 'cpu'\n",
        "device"
      ],
      "metadata": {
        "colab": {
          "base_uri": "https://localhost:8080/",
          "height": 35
        },
        "id": "7_-gM2jM0bQ2",
        "outputId": "b7e0a6c6-ccf9-4112-89be-5f70cf821092"
      },
      "execution_count": 37,
      "outputs": [
        {
          "output_type": "execute_result",
          "data": {
            "text/plain": [
              "'cuda'"
            ],
            "application/vnd.google.colaboratory.intrinsic+json": {
              "type": "string"
            }
          },
          "metadata": {},
          "execution_count": 37
        }
      ]
    },
    {
      "cell_type": "code",
      "source": [
        "vocab_size = len(vocab)\n",
        "embedding_dim = 300\n",
        "hidden_dim = 512\n",
        "num_layers = 2\n",
        "dropout_embd = 0.5\n",
        "dropout_rnn = 0.2\n",
        "\n",
        "model = LanguageModel(vocab_size, embedding_dim, hidden_dim,\n",
        "                      num_layers, dropout_embd, dropout_rnn).to(device)"
      ],
      "metadata": {
        "id": "Tao7O7mD0d9z"
      },
      "execution_count": 40,
      "outputs": []
    },
    {
      "cell_type": "code",
      "source": [
        "optimizser = optim.SGD(model.parameters(), lr = 0.5, weight_decay=0, momentum=0.9, nesterov=True)\n",
        "\n",
        "loss_fn = nn.CrossEntropyLoss()"
      ],
      "metadata": {
        "id": "ENnn8BP90gUs"
      },
      "execution_count": 41,
      "outputs": []
    },
    {
      "cell_type": "code",
      "source": [
        "class Perplexity(tm.Metric):\n",
        "    def __init__(self):\n",
        "        super(Perplexity, self).__init__()\n",
        "        self.add_state(\"total_loss\", default=torch.tensor(0.0).to(device), dist_reduce_fx=\"sum\")  # Ensure on device\n",
        "        self.add_state(\"num_samples\", default=torch.tensor(0).to(device), dist_reduce_fx=\"sum\")  # Ensure on device\n",
        "        self.criterion = nn.CrossEntropyLoss(reduction='sum')  # Summing losses\n",
        "\n",
        "    def update(self, logits, labels):\n",
        "        # Ensure logits and labels are on the same device as the metric\n",
        "        logits = logits.to(device)\n",
        "        labels = labels.to(device)\n",
        "\n",
        "        # Calculate the loss\n",
        "        loss = self.criterion(logits.view(-1, logits.size(-1)), labels.view(-1))\n",
        "        self.total_loss += loss\n",
        "        self.num_samples += labels.numel()  # Count total number of labels\n",
        "\n",
        "    def compute(self):\n",
        "        # Calculate perplexity\n",
        "        return torch.exp(self.total_loss / self.num_samples)\n",
        "\n",
        "    def reset(self):\n",
        "        # Reset states for next evaluation\n",
        "        self.total_loss = torch.tensor(0.0).to(device)\n",
        "        self.num_samples = torch.tensor(0).to(device)"
      ],
      "metadata": {
        "id": "3IIwzox20m6g"
      },
      "execution_count": 42,
      "outputs": []
    },
    {
      "cell_type": "code",
      "source": [
        "metric = Perplexity().to(device)\n",
        "clip = 0.25"
      ],
      "metadata": {
        "id": "nOE-lxkI0tEv"
      },
      "execution_count": 43,
      "outputs": []
    },
    {
      "cell_type": "markdown",
      "source": [
        "## train function and avaluate function"
      ],
      "metadata": {
        "id": "E0Y9pavxPZBG"
      }
    },
    {
      "cell_type": "code",
      "source": [
        "def train_one_epoch(model, train_loader, loss_fn, optimizer, metric, epoch= None):\n",
        "  model.train()\n",
        "  loss_train = AverageMeter()\n",
        "  metric.reset()\n",
        "\n",
        "  with tqdm.tqdm(train_loader, unit= \"epoch\") as tepoch:\n",
        "    for inputs, targets in tepoch:\n",
        "      if epoch:\n",
        "        tepoch.set_description(f\"Epoch {epoch}\")\n",
        "\n",
        "      inputs = inputs.to(device)\n",
        "      targets = targets.to(device)\n",
        "\n",
        "      outputs = model(inputs)\n",
        "\n",
        "      loss = loss_fn(outputs.reshape(-1, outputs.shape[-1]), targets.flatten())\n",
        "\n",
        "      loss.backward()\n",
        "\n",
        "      nn.utils.clip_grad.clip_grad_norm_(model.parameters(), max_norm= clip)\n",
        "\n",
        "      optimizer.step()\n",
        "      optimizer.zero_grad()\n",
        "\n",
        "      loss_train.update(loss.item(), n= len(targets))\n",
        "      metric.update(outputs, targets)\n",
        "\n",
        "      tepoch.set_postfix(loss= loss_train.avg, metric = metric.compute().item())\n",
        "\n",
        "  return model, loss_train.avg, metric.compute().item()"
      ],
      "metadata": {
        "id": "h23pZyYv0vaY"
      },
      "execution_count": 44,
      "outputs": []
    },
    {
      "cell_type": "code",
      "source": [
        "def evaluate(model, test_loader, loss_fn, metric):\n",
        "  model.eval()\n",
        "  loss_eval = AverageMeter()\n",
        "  metric.reset()\n",
        "\n",
        "  with torch.inference_mode():\n",
        "    for inputs, targets in test_loader:\n",
        "      inputs = inputs.to(device)\n",
        "      targets = targets.to(device)\n",
        "\n",
        "      outputs = model(inputs)\n",
        "\n",
        "      loss = loss_fn(outputs.reshape(-1, outputs.shape[-1]), targets.flatten())\n",
        "      loss_eval.update(loss.item(), n=len(targets))\n",
        "\n",
        "      metric(outputs, targets)\n",
        "\n",
        "  return loss_eval.avg, metric.compute().item()"
      ],
      "metadata": {
        "id": "PNSLqWjA0xN_"
      },
      "execution_count": 45,
      "outputs": []
    },
    {
      "cell_type": "code",
      "source": [
        "model = LanguageModel(len(vocab), embedding_dim= 300, hidden_dim= 512, num_layers= 2,\n",
        "                      dropout_embd= 0.5, dropout_rnn= 0.2,).to(device)\n",
        "\n",
        "inputs, targets = next(iter(train_loader))\n",
        "inputs = inputs.to(device)\n",
        "targets = targets.to(device)\n",
        "\n",
        "with torch.no_grad():\n",
        "  outputs = model(inputs)\n",
        "  loss = loss_fn(outputs.reshape(-1, outputs.shape[-1]), targets.flatten())\n",
        "\n",
        "print(loss)"
      ],
      "metadata": {
        "colab": {
          "base_uri": "https://localhost:8080/"
        },
        "id": "2uH-VY3z0zDc",
        "outputId": "ca8b47a7-d362-4b8a-fb8a-1f40453c69b1"
      },
      "execution_count": 46,
      "outputs": [
        {
          "output_type": "stream",
          "name": "stdout",
          "text": [
            "tensor(10.2692, device='cuda:0')\n"
          ]
        }
      ]
    },
    {
      "cell_type": "code",
      "source": [
        "outputs.reshape(-1, outputs.shape[-1]).shape, targets.flatten().shape"
      ],
      "metadata": {
        "colab": {
          "base_uri": "https://localhost:8080/"
        },
        "id": "lZpCDxbr01FR",
        "outputId": "791bcb85-12eb-432c-c1e2-1c1fc0578aac"
      },
      "execution_count": 47,
      "outputs": [
        {
          "output_type": "execute_result",
          "data": {
            "text/plain": [
              "(torch.Size([700, 28782]), torch.Size([700]))"
            ]
          },
          "metadata": {},
          "execution_count": 47
        }
      ]
    },
    {
      "cell_type": "code",
      "source": [
        "torch.cuda.empty_cache()"
      ],
      "metadata": {
        "id": "O_6rSjUx03es"
      },
      "execution_count": 48,
      "outputs": []
    },
    {
      "cell_type": "code",
      "source": [
        "model = LanguageModel(len(vocab), embedding_dim= 300, hidden_dim=512,\n",
        "                      num_layers= 2, dropout_embd= 0.5, dropout_rnn= 0.2).to(device)\n",
        "\n",
        "optimizer = optim.SGD(model.parameters(), lr= 0.9, momentum= 0.9)"
      ],
      "metadata": {
        "id": "RJqeNzDQ0573"
      },
      "execution_count": 49,
      "outputs": []
    },
    {
      "cell_type": "code",
      "source": [
        "mini_train_size = 1000\n",
        "_, mini_train_dataset = random_split(train_set, (len(train_set) - mini_train_size, mini_train_size))\n",
        "mini_train_loader = DataLoader(mini_train_dataset, 20)"
      ],
      "metadata": {
        "id": "CiAmYxNr08L6"
      },
      "execution_count": null,
      "outputs": []
    },
    {
      "cell_type": "code",
      "source": [
        "num_epochs = 100\n",
        "for epoch in range(num_epochs):\n",
        "  model, _, _ = train_one_epoch(model, mini_train_loader, loss_fn, optimizer, metric, epoch)"
      ],
      "metadata": {
        "colab": {
          "base_uri": "https://localhost:8080/"
        },
        "id": "QTiZxuBz0_ch",
        "outputId": "7766b381-de79-4f4d-d234-9a3b8da88541"
      },
      "execution_count": null,
      "outputs": [
        {
          "output_type": "stream",
          "name": "stderr",
          "text": [
            "100%|██████████| 50/50 [00:02<00:00, 23.16epoch/s, loss=8.28, metric=3.96e+3]\n",
            "Epoch 1: 100%|██████████| 50/50 [00:01<00:00, 27.97epoch/s, loss=7.15, metric=1.28e+3]\n",
            "Epoch 2: 100%|██████████| 50/50 [00:01<00:00, 27.96epoch/s, loss=6.97, metric=1.06e+3]\n",
            "Epoch 3: 100%|██████████| 50/50 [00:01<00:00, 27.82epoch/s, loss=6.89, metric=981]\n",
            "Epoch 4: 100%|██████████| 50/50 [00:01<00:00, 27.69epoch/s, loss=6.78, metric=881]\n",
            "Epoch 5: 100%|██████████| 50/50 [00:01<00:00, 27.65epoch/s, loss=6.65, metric=774]\n",
            "Epoch 6: 100%|██████████| 50/50 [00:01<00:00, 26.54epoch/s, loss=6.53, metric=686]\n",
            "Epoch 7: 100%|██████████| 50/50 [00:01<00:00, 25.23epoch/s, loss=6.44, metric=627]\n",
            "Epoch 8: 100%|██████████| 50/50 [00:01<00:00, 26.12epoch/s, loss=6.37, metric=582]\n",
            "Epoch 9: 100%|██████████| 50/50 [00:01<00:00, 27.42epoch/s, loss=6.29, metric=540]\n",
            "Epoch 10: 100%|██████████| 50/50 [00:01<00:00, 27.32epoch/s, loss=6.21, metric=500]\n",
            "Epoch 11: 100%|██████████| 50/50 [00:01<00:00, 25.61epoch/s, loss=6.15, metric=468]\n",
            "Epoch 12: 100%|██████████| 50/50 [00:01<00:00, 26.24epoch/s, loss=6.09, metric=440]\n",
            "Epoch 13: 100%|██████████| 50/50 [00:01<00:00, 26.95epoch/s, loss=6.01, metric=409]\n",
            "Epoch 14: 100%|██████████| 50/50 [00:01<00:00, 26.62epoch/s, loss=5.93, metric=378]\n",
            "Epoch 15: 100%|██████████| 50/50 [00:01<00:00, 26.62epoch/s, loss=5.87, metric=353]\n",
            "Epoch 16: 100%|██████████| 50/50 [00:01<00:00, 27.02epoch/s, loss=5.78, metric=324]\n",
            "Epoch 17: 100%|██████████| 50/50 [00:01<00:00, 26.90epoch/s, loss=5.7, metric=298]\n",
            "Epoch 18: 100%|██████████| 50/50 [00:01<00:00, 26.99epoch/s, loss=5.6, metric=272]\n",
            "Epoch 19: 100%|██████████| 50/50 [00:01<00:00, 26.86epoch/s, loss=5.52, metric=248]\n",
            "Epoch 20: 100%|██████████| 50/50 [00:01<00:00, 26.71epoch/s, loss=5.43, metric=229]\n",
            "Epoch 21: 100%|██████████| 50/50 [00:01<00:00, 25.52epoch/s, loss=5.37, metric=216]\n",
            "Epoch 22: 100%|██████████| 50/50 [00:01<00:00, 26.49epoch/s, loss=5.3, metric=201]\n",
            "Epoch 23: 100%|██████████| 50/50 [00:01<00:00, 26.43epoch/s, loss=5.21, metric=183]\n",
            "Epoch 24: 100%|██████████| 50/50 [00:01<00:00, 26.37epoch/s, loss=5.11, metric=166]\n",
            "Epoch 25: 100%|██████████| 50/50 [00:01<00:00, 26.47epoch/s, loss=5.03, metric=153]\n",
            "Epoch 26: 100%|██████████| 50/50 [00:01<00:00, 26.40epoch/s, loss=4.96, metric=143]\n",
            "Epoch 27: 100%|██████████| 50/50 [00:01<00:00, 25.89epoch/s, loss=4.87, metric=130]\n",
            "Epoch 28: 100%|██████████| 50/50 [00:01<00:00, 25.33epoch/s, loss=4.78, metric=119]\n",
            "Epoch 29: 100%|██████████| 50/50 [00:01<00:00, 25.99epoch/s, loss=4.68, metric=108]\n",
            "Epoch 30: 100%|██████████| 50/50 [00:01<00:00, 26.17epoch/s, loss=4.57, metric=96.2]\n",
            "Epoch 31: 100%|██████████| 50/50 [00:01<00:00, 26.11epoch/s, loss=4.45, metric=85.9]\n",
            "Epoch 32: 100%|██████████| 50/50 [00:01<00:00, 26.17epoch/s, loss=4.34, metric=76.8]\n",
            "Epoch 33: 100%|██████████| 50/50 [00:01<00:00, 25.49epoch/s, loss=4.25, metric=70.3]\n",
            "Epoch 34: 100%|██████████| 50/50 [00:02<00:00, 22.71epoch/s, loss=4.18, metric=65.3]\n",
            "Epoch 35: 100%|██████████| 50/50 [00:01<00:00, 25.49epoch/s, loss=4.1, metric=60.3]\n",
            "Epoch 36: 100%|██████████| 50/50 [00:01<00:00, 25.99epoch/s, loss=4.01, metric=55.2]\n",
            "Epoch 37: 100%|██████████| 50/50 [00:01<00:00, 25.99epoch/s, loss=3.91, metric=49.7]\n",
            "Epoch 38: 100%|██████████| 50/50 [00:01<00:00, 26.17epoch/s, loss=3.8, metric=44.8]\n",
            "Epoch 39: 100%|██████████| 50/50 [00:01<00:00, 26.07epoch/s, loss=3.72, metric=41.1]\n",
            "Epoch 40: 100%|██████████| 50/50 [00:01<00:00, 26.10epoch/s, loss=3.61, metric=37]\n",
            "Epoch 41: 100%|██████████| 50/50 [00:01<00:00, 25.57epoch/s, loss=3.5, metric=33.1]\n",
            "Epoch 42: 100%|██████████| 50/50 [00:01<00:00, 25.59epoch/s, loss=3.4, metric=30.1]\n",
            "Epoch 43: 100%|██████████| 50/50 [00:01<00:00, 26.33epoch/s, loss=3.34, metric=28.4]\n",
            "Epoch 44: 100%|██████████| 50/50 [00:01<00:00, 26.26epoch/s, loss=3.25, metric=25.8]\n",
            "Epoch 45: 100%|██████████| 50/50 [00:01<00:00, 26.31epoch/s, loss=3.16, metric=23.5]\n",
            "Epoch 46: 100%|██████████| 50/50 [00:01<00:00, 26.29epoch/s, loss=3.07, metric=21.5]\n",
            "Epoch 47: 100%|██████████| 50/50 [00:01<00:00, 26.28epoch/s, loss=2.95, metric=19]\n",
            "Epoch 48: 100%|██████████| 50/50 [00:01<00:00, 25.63epoch/s, loss=2.85, metric=17.2]\n",
            "Epoch 49: 100%|██████████| 50/50 [00:01<00:00, 26.09epoch/s, loss=2.75, metric=15.6]\n",
            "Epoch 50: 100%|██████████| 50/50 [00:01<00:00, 26.58epoch/s, loss=2.64, metric=14.1]\n",
            "Epoch 51: 100%|██████████| 50/50 [00:01<00:00, 26.51epoch/s, loss=2.54, metric=12.7]\n",
            "Epoch 52: 100%|██████████| 50/50 [00:01<00:00, 26.40epoch/s, loss=2.44, metric=11.4]\n",
            "Epoch 53: 100%|██████████| 50/50 [00:01<00:00, 26.40epoch/s, loss=2.33, metric=10.2]\n",
            "Epoch 54: 100%|██████████| 50/50 [00:01<00:00, 26.29epoch/s, loss=2.22, metric=9.22]\n",
            "Epoch 55: 100%|██████████| 50/50 [00:01<00:00, 25.50epoch/s, loss=2.16, metric=8.66]\n",
            "Epoch 56: 100%|██████████| 50/50 [00:01<00:00, 26.36epoch/s, loss=2.1, metric=8.2]\n",
            "Epoch 57: 100%|██████████| 50/50 [00:01<00:00, 26.52epoch/s, loss=2.04, metric=7.72]\n",
            "Epoch 58: 100%|██████████| 50/50 [00:01<00:00, 26.49epoch/s, loss=2, metric=7.37]\n",
            "Epoch 59: 100%|██████████| 50/50 [00:01<00:00, 26.33epoch/s, loss=1.93, metric=6.87]\n",
            "Epoch 60: 100%|██████████| 50/50 [00:01<00:00, 26.54epoch/s, loss=1.83, metric=6.21]\n",
            "Epoch 61: 100%|██████████| 50/50 [00:01<00:00, 26.20epoch/s, loss=1.74, metric=5.71]\n",
            "Epoch 62: 100%|██████████| 50/50 [00:01<00:00, 25.85epoch/s, loss=1.67, metric=5.3]\n",
            "Epoch 63: 100%|██████████| 50/50 [00:01<00:00, 26.38epoch/s, loss=1.56, metric=4.74]\n",
            "Epoch 64: 100%|██████████| 50/50 [00:01<00:00, 26.58epoch/s, loss=1.45, metric=4.28]\n",
            "Epoch 65: 100%|██████████| 50/50 [00:01<00:00, 26.35epoch/s, loss=1.35, metric=3.86]\n",
            "Epoch 66: 100%|██████████| 50/50 [00:01<00:00, 26.37epoch/s, loss=1.27, metric=3.57]\n",
            "Epoch 67: 100%|██████████| 50/50 [00:01<00:00, 26.52epoch/s, loss=1.21, metric=3.36]\n",
            "Epoch 68: 100%|██████████| 50/50 [00:01<00:00, 26.16epoch/s, loss=1.13, metric=3.09]\n",
            "Epoch 69: 100%|██████████| 50/50 [00:01<00:00, 25.56epoch/s, loss=1.05, metric=2.87]\n",
            "Epoch 70: 100%|██████████| 50/50 [00:01<00:00, 26.04epoch/s, loss=1.05, metric=2.84]\n",
            "Epoch 71: 100%|██████████| 50/50 [00:01<00:00, 26.42epoch/s, loss=1, metric=2.72]\n",
            "Epoch 72: 100%|██████████| 50/50 [00:01<00:00, 26.32epoch/s, loss=0.962, metric=2.62]\n",
            "Epoch 73: 100%|██████████| 50/50 [00:01<00:00, 26.25epoch/s, loss=0.922, metric=2.51]\n",
            "Epoch 74: 100%|██████████| 50/50 [00:01<00:00, 26.30epoch/s, loss=0.846, metric=2.33]\n",
            "Epoch 75: 100%|██████████| 50/50 [00:01<00:00, 25.97epoch/s, loss=0.785, metric=2.19]\n",
            "Epoch 76: 100%|██████████| 50/50 [00:01<00:00, 25.50epoch/s, loss=0.733, metric=2.08]\n",
            "Epoch 77: 100%|██████████| 50/50 [00:01<00:00, 26.22epoch/s, loss=0.691, metric=1.99]\n",
            "Epoch 78: 100%|██████████| 50/50 [00:01<00:00, 26.24epoch/s, loss=0.653, metric=1.92]\n",
            "Epoch 79: 100%|██████████| 50/50 [00:01<00:00, 26.35epoch/s, loss=0.626, metric=1.87]\n",
            "Epoch 80: 100%|██████████| 50/50 [00:01<00:00, 26.19epoch/s, loss=0.591, metric=1.81]\n",
            "Epoch 81: 100%|██████████| 50/50 [00:01<00:00, 26.23epoch/s, loss=0.573, metric=1.77]\n",
            "Epoch 82: 100%|██████████| 50/50 [00:01<00:00, 25.76epoch/s, loss=0.535, metric=1.71]\n",
            "Epoch 83: 100%|██████████| 50/50 [00:01<00:00, 25.49epoch/s, loss=0.52, metric=1.68]\n",
            "Epoch 84: 100%|██████████| 50/50 [00:01<00:00, 26.39epoch/s, loss=0.487, metric=1.63]\n",
            "Epoch 85: 100%|██████████| 50/50 [00:01<00:00, 26.22epoch/s, loss=0.464, metric=1.59]\n",
            "Epoch 86: 100%|██████████| 50/50 [00:01<00:00, 26.23epoch/s, loss=0.443, metric=1.56]\n",
            "Epoch 87: 100%|██████████| 50/50 [00:01<00:00, 26.11epoch/s, loss=0.433, metric=1.54]\n",
            "Epoch 88: 100%|██████████| 50/50 [00:01<00:00, 26.17epoch/s, loss=0.416, metric=1.52]\n",
            "Epoch 89: 100%|██████████| 50/50 [00:01<00:00, 25.43epoch/s, loss=0.397, metric=1.49]\n",
            "Epoch 90: 100%|██████████| 50/50 [00:01<00:00, 26.09epoch/s, loss=0.382, metric=1.46]\n",
            "Epoch 91: 100%|██████████| 50/50 [00:01<00:00, 26.23epoch/s, loss=0.362, metric=1.44]\n",
            "Epoch 92: 100%|██████████| 50/50 [00:01<00:00, 26.25epoch/s, loss=0.353, metric=1.42]\n",
            "Epoch 93: 100%|██████████| 50/50 [00:01<00:00, 26.40epoch/s, loss=0.332, metric=1.39]\n",
            "Epoch 94: 100%|██████████| 50/50 [00:01<00:00, 26.31epoch/s, loss=0.318, metric=1.37]\n",
            "Epoch 95: 100%|██████████| 50/50 [00:01<00:00, 26.32epoch/s, loss=0.313, metric=1.37]\n",
            "Epoch 96: 100%|██████████| 50/50 [00:01<00:00, 25.87epoch/s, loss=0.299, metric=1.35]\n",
            "Epoch 97: 100%|██████████| 50/50 [00:01<00:00, 25.76epoch/s, loss=0.293, metric=1.34]\n",
            "Epoch 98: 100%|██████████| 50/50 [00:02<00:00, 24.59epoch/s, loss=0.283, metric=1.33]\n",
            "Epoch 99: 100%|██████████| 50/50 [00:01<00:00, 25.64epoch/s, loss=0.271, metric=1.31]\n"
          ]
        }
      ]
    },
    {
      "cell_type": "markdown",
      "source": [
        "## To initialize hyper parameters"
      ],
      "metadata": {
        "id": "APC-u4kYP5K0"
      }
    },
    {
      "cell_type": "code",
      "source": [
        "num_epoch = 1\n",
        "for lr in [2, 0.9, 0.5, 0.3, 0.09, 0.05]:\n",
        "  print(f\"LR = {lr}\")\n",
        "\n",
        "  model = LanguageModel(len(vocab), embedding_dim=300,\n",
        "                        hidden_dim= 512, num_layers= 2,\n",
        "                        dropout_embd = 0.5, dropout_rnn = 0.2).to(device)\n",
        "\n",
        "  optimizer = optim.SGD(model.parameters(), lr= lr, weight_decay=1e-6, momentum=0.9)\n",
        "\n",
        "  for epoch in range(num_epoch):\n",
        "    model, _, _ = train_one_epoch(model, train_loader, loss_fn, optimizer, metric, epoch)\n",
        "\n",
        "  print()"
      ],
      "metadata": {
        "colab": {
          "base_uri": "https://localhost:8080/",
          "height": 654
        },
        "id": "pRdSIlEt1Bdj",
        "outputId": "5b4703f7-8594-4efb-d633-bf90c603d805"
      },
      "execution_count": null,
      "outputs": [
        {
          "output_type": "stream",
          "name": "stdout",
          "text": [
            "LR = 2\n"
          ]
        },
        {
          "output_type": "stream",
          "name": "stderr",
          "text": [
            "100%|██████████| 2929/2929 [01:51<00:00, 26.23epoch/s, loss=5.97, metric=390]\n"
          ]
        },
        {
          "output_type": "stream",
          "name": "stdout",
          "text": [
            "\n",
            "LR = 0.9\n"
          ]
        },
        {
          "output_type": "stream",
          "name": "stderr",
          "text": [
            "100%|██████████| 2929/2929 [01:51<00:00, 26.30epoch/s, loss=6.18, metric=484]\n"
          ]
        },
        {
          "output_type": "stream",
          "name": "stdout",
          "text": [
            "\n",
            "LR = 0.5\n"
          ]
        },
        {
          "output_type": "stream",
          "name": "stderr",
          "text": [
            "100%|██████████| 2929/2929 [01:51<00:00, 26.22epoch/s, loss=6.43, metric=622]\n"
          ]
        },
        {
          "output_type": "stream",
          "name": "stdout",
          "text": [
            "\n",
            "LR = 0.3\n"
          ]
        },
        {
          "output_type": "stream",
          "name": "stderr",
          "text": [
            "  3%|▎         | 86/2929 [00:03<01:50, 25.77epoch/s, loss=8.3, metric=4.02e+3]\n"
          ]
        },
        {
          "output_type": "error",
          "ename": "KeyboardInterrupt",
          "evalue": "",
          "traceback": [
            "\u001b[0;31m---------------------------------------------------------------------------\u001b[0m",
            "\u001b[0;31mKeyboardInterrupt\u001b[0m                         Traceback (most recent call last)",
            "\u001b[0;32m<ipython-input-57-a7c7c58a045f>\u001b[0m in \u001b[0;36m<cell line: 2>\u001b[0;34m()\u001b[0m\n\u001b[1;32m     10\u001b[0m \u001b[0;34m\u001b[0m\u001b[0m\n\u001b[1;32m     11\u001b[0m   \u001b[0;32mfor\u001b[0m \u001b[0mepoch\u001b[0m \u001b[0;32min\u001b[0m \u001b[0mrange\u001b[0m\u001b[0;34m(\u001b[0m\u001b[0mnum_epoch\u001b[0m\u001b[0;34m)\u001b[0m\u001b[0;34m:\u001b[0m\u001b[0;34m\u001b[0m\u001b[0;34m\u001b[0m\u001b[0m\n\u001b[0;32m---> 12\u001b[0;31m     \u001b[0mmodel\u001b[0m\u001b[0;34m,\u001b[0m \u001b[0m_\u001b[0m\u001b[0;34m,\u001b[0m \u001b[0m_\u001b[0m \u001b[0;34m=\u001b[0m \u001b[0mtrain_one_epoch\u001b[0m\u001b[0;34m(\u001b[0m\u001b[0mmodel\u001b[0m\u001b[0;34m,\u001b[0m \u001b[0mtrain_loader\u001b[0m\u001b[0;34m,\u001b[0m \u001b[0mloss_fn\u001b[0m\u001b[0;34m,\u001b[0m \u001b[0moptimizer\u001b[0m\u001b[0;34m,\u001b[0m \u001b[0mmetric\u001b[0m\u001b[0;34m,\u001b[0m \u001b[0mepoch\u001b[0m\u001b[0;34m)\u001b[0m\u001b[0;34m\u001b[0m\u001b[0;34m\u001b[0m\u001b[0m\n\u001b[0m\u001b[1;32m     13\u001b[0m \u001b[0;34m\u001b[0m\u001b[0m\n\u001b[1;32m     14\u001b[0m   \u001b[0mprint\u001b[0m\u001b[0;34m(\u001b[0m\u001b[0;34m)\u001b[0m\u001b[0;34m\u001b[0m\u001b[0;34m\u001b[0m\u001b[0m\n",
            "\u001b[0;32m<ipython-input-49-c560d230a230>\u001b[0m in \u001b[0;36mtrain_one_epoch\u001b[0;34m(model, train_loader, loss_fn, optimizer, metric, epoch)\u001b[0m\n\u001b[1;32m     18\u001b[0m       \u001b[0mloss\u001b[0m\u001b[0;34m.\u001b[0m\u001b[0mbackward\u001b[0m\u001b[0;34m(\u001b[0m\u001b[0;34m)\u001b[0m\u001b[0;34m\u001b[0m\u001b[0;34m\u001b[0m\u001b[0m\n\u001b[1;32m     19\u001b[0m \u001b[0;34m\u001b[0m\u001b[0m\n\u001b[0;32m---> 20\u001b[0;31m       \u001b[0mnn\u001b[0m\u001b[0;34m.\u001b[0m\u001b[0mutils\u001b[0m\u001b[0;34m.\u001b[0m\u001b[0mclip_grad\u001b[0m\u001b[0;34m.\u001b[0m\u001b[0mclip_grad_norm_\u001b[0m\u001b[0;34m(\u001b[0m\u001b[0mmodel\u001b[0m\u001b[0;34m.\u001b[0m\u001b[0mparameters\u001b[0m\u001b[0;34m(\u001b[0m\u001b[0;34m)\u001b[0m\u001b[0;34m,\u001b[0m \u001b[0mmax_norm\u001b[0m\u001b[0;34m=\u001b[0m \u001b[0mclip\u001b[0m\u001b[0;34m)\u001b[0m\u001b[0;34m\u001b[0m\u001b[0;34m\u001b[0m\u001b[0m\n\u001b[0m\u001b[1;32m     21\u001b[0m \u001b[0;34m\u001b[0m\u001b[0m\n\u001b[1;32m     22\u001b[0m       \u001b[0moptimizer\u001b[0m\u001b[0;34m.\u001b[0m\u001b[0mstep\u001b[0m\u001b[0;34m(\u001b[0m\u001b[0;34m)\u001b[0m\u001b[0;34m\u001b[0m\u001b[0;34m\u001b[0m\u001b[0m\n",
            "\u001b[0;32m/usr/local/lib/python3.10/dist-packages/torch/nn/utils/clip_grad.py\u001b[0m in \u001b[0;36mclip_grad_norm_\u001b[0;34m(parameters, max_norm, norm_type, error_if_nonfinite, foreach)\u001b[0m\n\u001b[1;32m     74\u001b[0m     \u001b[0;32mfor\u001b[0m \u001b[0;34m(\u001b[0m\u001b[0;34m(\u001b[0m\u001b[0mdevice\u001b[0m\u001b[0;34m,\u001b[0m \u001b[0m_\u001b[0m\u001b[0;34m)\u001b[0m\u001b[0;34m,\u001b[0m \u001b[0;34m[\u001b[0m\u001b[0mgrads\u001b[0m\u001b[0;34m]\u001b[0m\u001b[0;34m)\u001b[0m \u001b[0;32min\u001b[0m \u001b[0mgrouped_grads\u001b[0m\u001b[0;34m.\u001b[0m\u001b[0mitems\u001b[0m\u001b[0;34m(\u001b[0m\u001b[0;34m)\u001b[0m\u001b[0;34m:\u001b[0m\u001b[0;34m\u001b[0m\u001b[0;34m\u001b[0m\u001b[0m\n\u001b[1;32m     75\u001b[0m         \u001b[0;32mif\u001b[0m \u001b[0;34m(\u001b[0m\u001b[0mforeach\u001b[0m \u001b[0;32mis\u001b[0m \u001b[0;32mNone\u001b[0m \u001b[0;32mor\u001b[0m \u001b[0mforeach\u001b[0m\u001b[0;34m)\u001b[0m \u001b[0;32mand\u001b[0m \u001b[0m_has_foreach_support\u001b[0m\u001b[0;34m(\u001b[0m\u001b[0mgrads\u001b[0m\u001b[0;34m,\u001b[0m \u001b[0mdevice\u001b[0m\u001b[0;34m=\u001b[0m\u001b[0mdevice\u001b[0m\u001b[0;34m)\u001b[0m\u001b[0;34m:\u001b[0m\u001b[0;34m\u001b[0m\u001b[0;34m\u001b[0m\u001b[0m\n\u001b[0;32m---> 76\u001b[0;31m             \u001b[0mtorch\u001b[0m\u001b[0;34m.\u001b[0m\u001b[0m_foreach_mul_\u001b[0m\u001b[0;34m(\u001b[0m\u001b[0mgrads\u001b[0m\u001b[0;34m,\u001b[0m \u001b[0mclip_coef_clamped\u001b[0m\u001b[0;34m.\u001b[0m\u001b[0mto\u001b[0m\u001b[0;34m(\u001b[0m\u001b[0mdevice\u001b[0m\u001b[0;34m)\u001b[0m\u001b[0;34m)\u001b[0m  \u001b[0;31m# type: ignore[call-overload]\u001b[0m\u001b[0;34m\u001b[0m\u001b[0;34m\u001b[0m\u001b[0m\n\u001b[0m\u001b[1;32m     77\u001b[0m         \u001b[0;32melif\u001b[0m \u001b[0mforeach\u001b[0m\u001b[0;34m:\u001b[0m\u001b[0;34m\u001b[0m\u001b[0;34m\u001b[0m\u001b[0m\n\u001b[1;32m     78\u001b[0m             \u001b[0;32mraise\u001b[0m \u001b[0mRuntimeError\u001b[0m\u001b[0;34m(\u001b[0m\u001b[0;34mf'foreach=True was passed, but can\\'t use the foreach API on {device.type} tensors'\u001b[0m\u001b[0;34m)\u001b[0m\u001b[0;34m\u001b[0m\u001b[0;34m\u001b[0m\u001b[0m\n",
            "\u001b[0;31mKeyboardInterrupt\u001b[0m: "
          ]
        }
      ]
    },
    {
      "cell_type": "code",
      "source": [
        "num_epoch = 1\n",
        "for lr in [5,3,1]:\n",
        "  print(f\"LR = {lr}\")\n",
        "\n",
        "  model = LanguageModel(len(vocab), embedding_dim=300,\n",
        "                        hidden_dim= 512, num_layers= 2,\n",
        "                        dropout_embd = 0.5, dropout_rnn = 0.2).to(device)\n",
        "\n",
        "  optimizer = optim.SGD(model.parameters(), lr= lr, weight_decay=1e-6, momentum=0.9)\n",
        "\n",
        "  for epoch in range(num_epoch):\n",
        "    model, _, _ = train_one_epoch(model, train_loader, loss_fn, optimizer, metric, epoch)\n",
        "\n",
        "  print()"
      ],
      "metadata": {
        "colab": {
          "base_uri": "https://localhost:8080/",
          "height": 602
        },
        "id": "83ti5d3s1yGJ",
        "outputId": "55b02a69-e3ef-40f7-e084-0b861d59ec1f"
      },
      "execution_count": null,
      "outputs": [
        {
          "output_type": "stream",
          "name": "stdout",
          "text": [
            "LR = 5\n"
          ]
        },
        {
          "output_type": "stream",
          "name": "stderr",
          "text": [
            "100%|██████████| 2929/2929 [01:51<00:00, 26.16epoch/s, loss=5.83, metric=339]\n"
          ]
        },
        {
          "output_type": "stream",
          "name": "stdout",
          "text": [
            "\n",
            "LR = 3\n"
          ]
        },
        {
          "output_type": "stream",
          "name": "stderr",
          "text": [
            "100%|██████████| 2929/2929 [01:51<00:00, 26.19epoch/s, loss=5.89, metric=363]\n"
          ]
        },
        {
          "output_type": "stream",
          "name": "stdout",
          "text": [
            "\n",
            "LR = 1\n"
          ]
        },
        {
          "output_type": "stream",
          "name": "stderr",
          "text": [
            "  3%|▎         | 97/2929 [00:03<01:49, 25.95epoch/s, loss=7.85, metric=2.56e+3]\n"
          ]
        },
        {
          "output_type": "error",
          "ename": "KeyboardInterrupt",
          "evalue": "",
          "traceback": [
            "\u001b[0;31m---------------------------------------------------------------------------\u001b[0m",
            "\u001b[0;31mKeyboardInterrupt\u001b[0m                         Traceback (most recent call last)",
            "\u001b[0;32m<ipython-input-58-8b5c89c0fe00>\u001b[0m in \u001b[0;36m<cell line: 2>\u001b[0;34m()\u001b[0m\n\u001b[1;32m     10\u001b[0m \u001b[0;34m\u001b[0m\u001b[0m\n\u001b[1;32m     11\u001b[0m   \u001b[0;32mfor\u001b[0m \u001b[0mepoch\u001b[0m \u001b[0;32min\u001b[0m \u001b[0mrange\u001b[0m\u001b[0;34m(\u001b[0m\u001b[0mnum_epoch\u001b[0m\u001b[0;34m)\u001b[0m\u001b[0;34m:\u001b[0m\u001b[0;34m\u001b[0m\u001b[0;34m\u001b[0m\u001b[0m\n\u001b[0;32m---> 12\u001b[0;31m     \u001b[0mmodel\u001b[0m\u001b[0;34m,\u001b[0m \u001b[0m_\u001b[0m\u001b[0;34m,\u001b[0m \u001b[0m_\u001b[0m \u001b[0;34m=\u001b[0m \u001b[0mtrain_one_epoch\u001b[0m\u001b[0;34m(\u001b[0m\u001b[0mmodel\u001b[0m\u001b[0;34m,\u001b[0m \u001b[0mtrain_loader\u001b[0m\u001b[0;34m,\u001b[0m \u001b[0mloss_fn\u001b[0m\u001b[0;34m,\u001b[0m \u001b[0moptimizer\u001b[0m\u001b[0;34m,\u001b[0m \u001b[0mmetric\u001b[0m\u001b[0;34m,\u001b[0m \u001b[0mepoch\u001b[0m\u001b[0;34m)\u001b[0m\u001b[0;34m\u001b[0m\u001b[0;34m\u001b[0m\u001b[0m\n\u001b[0m\u001b[1;32m     13\u001b[0m \u001b[0;34m\u001b[0m\u001b[0m\n\u001b[1;32m     14\u001b[0m   \u001b[0mprint\u001b[0m\u001b[0;34m(\u001b[0m\u001b[0;34m)\u001b[0m\u001b[0;34m\u001b[0m\u001b[0;34m\u001b[0m\u001b[0m\n",
            "\u001b[0;32m<ipython-input-49-c560d230a230>\u001b[0m in \u001b[0;36mtrain_one_epoch\u001b[0;34m(model, train_loader, loss_fn, optimizer, metric, epoch)\u001b[0m\n\u001b[1;32m     18\u001b[0m       \u001b[0mloss\u001b[0m\u001b[0;34m.\u001b[0m\u001b[0mbackward\u001b[0m\u001b[0;34m(\u001b[0m\u001b[0;34m)\u001b[0m\u001b[0;34m\u001b[0m\u001b[0;34m\u001b[0m\u001b[0m\n\u001b[1;32m     19\u001b[0m \u001b[0;34m\u001b[0m\u001b[0m\n\u001b[0;32m---> 20\u001b[0;31m       \u001b[0mnn\u001b[0m\u001b[0;34m.\u001b[0m\u001b[0mutils\u001b[0m\u001b[0;34m.\u001b[0m\u001b[0mclip_grad\u001b[0m\u001b[0;34m.\u001b[0m\u001b[0mclip_grad_norm_\u001b[0m\u001b[0;34m(\u001b[0m\u001b[0mmodel\u001b[0m\u001b[0;34m.\u001b[0m\u001b[0mparameters\u001b[0m\u001b[0;34m(\u001b[0m\u001b[0;34m)\u001b[0m\u001b[0;34m,\u001b[0m \u001b[0mmax_norm\u001b[0m\u001b[0;34m=\u001b[0m \u001b[0mclip\u001b[0m\u001b[0;34m)\u001b[0m\u001b[0;34m\u001b[0m\u001b[0;34m\u001b[0m\u001b[0m\n\u001b[0m\u001b[1;32m     21\u001b[0m \u001b[0;34m\u001b[0m\u001b[0m\n\u001b[1;32m     22\u001b[0m       \u001b[0moptimizer\u001b[0m\u001b[0;34m.\u001b[0m\u001b[0mstep\u001b[0m\u001b[0;34m(\u001b[0m\u001b[0;34m)\u001b[0m\u001b[0;34m\u001b[0m\u001b[0;34m\u001b[0m\u001b[0m\n",
            "\u001b[0;32m/usr/local/lib/python3.10/dist-packages/torch/nn/utils/clip_grad.py\u001b[0m in \u001b[0;36mclip_grad_norm_\u001b[0;34m(parameters, max_norm, norm_type, error_if_nonfinite, foreach)\u001b[0m\n\u001b[1;32m     74\u001b[0m     \u001b[0;32mfor\u001b[0m \u001b[0;34m(\u001b[0m\u001b[0;34m(\u001b[0m\u001b[0mdevice\u001b[0m\u001b[0;34m,\u001b[0m \u001b[0m_\u001b[0m\u001b[0;34m)\u001b[0m\u001b[0;34m,\u001b[0m \u001b[0;34m[\u001b[0m\u001b[0mgrads\u001b[0m\u001b[0;34m]\u001b[0m\u001b[0;34m)\u001b[0m \u001b[0;32min\u001b[0m \u001b[0mgrouped_grads\u001b[0m\u001b[0;34m.\u001b[0m\u001b[0mitems\u001b[0m\u001b[0;34m(\u001b[0m\u001b[0;34m)\u001b[0m\u001b[0;34m:\u001b[0m\u001b[0;34m\u001b[0m\u001b[0;34m\u001b[0m\u001b[0m\n\u001b[1;32m     75\u001b[0m         \u001b[0;32mif\u001b[0m \u001b[0;34m(\u001b[0m\u001b[0mforeach\u001b[0m \u001b[0;32mis\u001b[0m \u001b[0;32mNone\u001b[0m \u001b[0;32mor\u001b[0m \u001b[0mforeach\u001b[0m\u001b[0;34m)\u001b[0m \u001b[0;32mand\u001b[0m \u001b[0m_has_foreach_support\u001b[0m\u001b[0;34m(\u001b[0m\u001b[0mgrads\u001b[0m\u001b[0;34m,\u001b[0m \u001b[0mdevice\u001b[0m\u001b[0;34m=\u001b[0m\u001b[0mdevice\u001b[0m\u001b[0;34m)\u001b[0m\u001b[0;34m:\u001b[0m\u001b[0;34m\u001b[0m\u001b[0;34m\u001b[0m\u001b[0m\n\u001b[0;32m---> 76\u001b[0;31m             \u001b[0mtorch\u001b[0m\u001b[0;34m.\u001b[0m\u001b[0m_foreach_mul_\u001b[0m\u001b[0;34m(\u001b[0m\u001b[0mgrads\u001b[0m\u001b[0;34m,\u001b[0m \u001b[0mclip_coef_clamped\u001b[0m\u001b[0;34m.\u001b[0m\u001b[0mto\u001b[0m\u001b[0;34m(\u001b[0m\u001b[0mdevice\u001b[0m\u001b[0;34m)\u001b[0m\u001b[0;34m)\u001b[0m  \u001b[0;31m# type: ignore[call-overload]\u001b[0m\u001b[0;34m\u001b[0m\u001b[0;34m\u001b[0m\u001b[0m\n\u001b[0m\u001b[1;32m     77\u001b[0m         \u001b[0;32melif\u001b[0m \u001b[0mforeach\u001b[0m\u001b[0;34m:\u001b[0m\u001b[0;34m\u001b[0m\u001b[0;34m\u001b[0m\u001b[0m\n\u001b[1;32m     78\u001b[0m             \u001b[0;32mraise\u001b[0m \u001b[0mRuntimeError\u001b[0m\u001b[0;34m(\u001b[0m\u001b[0;34mf'foreach=True was passed, but can\\'t use the foreach API on {device.type} tensors'\u001b[0m\u001b[0;34m)\u001b[0m\u001b[0;34m\u001b[0m\u001b[0;34m\u001b[0m\u001b[0m\n",
            "\u001b[0;31mKeyboardInterrupt\u001b[0m: "
          ]
        }
      ]
    },
    {
      "cell_type": "code",
      "source": [
        "num_epoch = 1\n",
        "for lr in [7,6]:\n",
        "  print(f\"LR = {lr}\")\n",
        "\n",
        "  model = LanguageModel(len(vocab), embedding_dim=300,\n",
        "                        hidden_dim= 512, num_layers= 2,\n",
        "                        dropout_embd = 0.5, dropout_rnn = 0.2).to(device)\n",
        "\n",
        "  optimizer = optim.SGD(model.parameters(), lr= lr, weight_decay=1e-6, momentum=0.9)\n",
        "\n",
        "  for epoch in range(num_epoch):\n",
        "    model, _, _ = train_one_epoch(model, train_loader, loss_fn, optimizer, metric, epoch)\n",
        "\n",
        "  print()"
      ],
      "metadata": {
        "colab": {
          "base_uri": "https://localhost:8080/"
        },
        "id": "EL86fjqZ3GOm",
        "outputId": "98d5c5c0-910b-4a94-8f93-71629bd20a14"
      },
      "execution_count": null,
      "outputs": [
        {
          "output_type": "stream",
          "name": "stdout",
          "text": [
            "LR = 7\n"
          ]
        },
        {
          "output_type": "stream",
          "name": "stderr",
          "text": [
            "100%|██████████| 2929/2929 [01:53<00:00, 25.86epoch/s, loss=5.87, metric=355]\n"
          ]
        },
        {
          "output_type": "stream",
          "name": "stdout",
          "text": [
            "\n",
            "LR = 6\n"
          ]
        },
        {
          "output_type": "stream",
          "name": "stderr",
          "text": [
            "100%|██████████| 2929/2929 [01:52<00:00, 26.13epoch/s, loss=5.85, metric=348]"
          ]
        },
        {
          "output_type": "stream",
          "name": "stdout",
          "text": [
            "\n"
          ]
        },
        {
          "output_type": "stream",
          "name": "stderr",
          "text": [
            "\n"
          ]
        }
      ]
    },
    {
      "cell_type": "code",
      "source": [
        "num_epochs = 1\n",
        "lr = 5\n",
        "for wd in [1e-4,1e-5, 1e-8, 0]:\n",
        "  print(f\"LR={lr}, Wd= {wd}\")\n",
        "\n",
        "  model = LanguageModel(len(vocab), embedding_dim=300,\n",
        "                        hidden_dim= 512, num_layers= 2,\n",
        "                        dropout_embd = 0.5, dropout_rnn = 0.2).to(device)\n",
        "  optimizer = optim.SGD(model.parameters(), lr= lr, weight_decay= wd, momentum= 0.9)\n",
        "\n",
        "  for epoch in range(num_epochs):\n",
        "    model, _, _ = train_one_epoch(model, train_loader, loss_fn, optimizer, metric, epoch)\n",
        "\n",
        "  print()"
      ],
      "metadata": {
        "colab": {
          "base_uri": "https://localhost:8080/"
        },
        "id": "bfFD6Wa03_cR",
        "outputId": "930be6c0-a482-41b7-8d13-f718bfa0a75a"
      },
      "execution_count": null,
      "outputs": [
        {
          "output_type": "stream",
          "name": "stdout",
          "text": [
            "LR=5, Wd= 0.0001\n"
          ]
        },
        {
          "output_type": "stream",
          "name": "stderr",
          "text": [
            "100%|██████████| 2929/2929 [01:52<00:00, 26.09epoch/s, loss=6.33, metric=562]\n"
          ]
        },
        {
          "output_type": "stream",
          "name": "stdout",
          "text": [
            "\n",
            "LR=5, Wd= 1e-05\n"
          ]
        },
        {
          "output_type": "stream",
          "name": "stderr",
          "text": [
            "100%|██████████| 2929/2929 [01:53<00:00, 25.86epoch/s, loss=5.9, metric=365]\n"
          ]
        },
        {
          "output_type": "stream",
          "name": "stdout",
          "text": [
            "\n",
            "LR=5, Wd= 1e-08\n"
          ]
        },
        {
          "output_type": "stream",
          "name": "stderr",
          "text": [
            "100%|██████████| 2929/2929 [01:51<00:00, 26.25epoch/s, loss=5.83, metric=339]\n"
          ]
        },
        {
          "output_type": "stream",
          "name": "stdout",
          "text": [
            "\n",
            "LR=5, Wd= 0\n"
          ]
        },
        {
          "output_type": "stream",
          "name": "stderr",
          "text": [
            "100%|██████████| 2929/2929 [01:47<00:00, 27.16epoch/s, loss=5.82, metric=338]"
          ]
        },
        {
          "output_type": "stream",
          "name": "stdout",
          "text": [
            "\n"
          ]
        },
        {
          "output_type": "stream",
          "name": "stderr",
          "text": [
            "\n"
          ]
        }
      ]
    },
    {
      "cell_type": "markdown",
      "source": [
        "# Training"
      ],
      "metadata": {
        "id": "DPImk9HzP-S2"
      }
    },
    {
      "cell_type": "code",
      "source": [
        "lr = 5\n",
        "wd = 1e-8\n",
        "optimizer = optim.SGD(model.parameters(), lr= lr, weight_decay= wd, momentum= 0.9)"
      ],
      "metadata": {
        "id": "Ad870gv34WHU"
      },
      "execution_count": null,
      "outputs": []
    },
    {
      "cell_type": "code",
      "source": [
        "loss_train_hist = []\n",
        "loss_valid_hist = []\n",
        "\n",
        "metric_train_hist = []\n",
        "metric_valid_hist = []\n",
        "\n",
        "best_loss_valid = torch.inf\n",
        "epoch_counter = 0"
      ],
      "metadata": {
        "id": "opne9dPr5rmk"
      },
      "execution_count": null,
      "outputs": []
    },
    {
      "cell_type": "code",
      "source": [
        "num_epochs = 30\n",
        "\n",
        "for epoch in range(1, num_epochs+1):\n",
        "  #train\n",
        "  model, loss_train, metric_train = train_one_epoch(model,\n",
        "                                                    train_loader,\n",
        "                                                    loss_fn,\n",
        "                                                    optimizer,\n",
        "                                                    metric,\n",
        "                                                    epoch)\n",
        "  #validation\n",
        "  loss_valid, metric_valid = evaluate(model,\n",
        "                                             valid_loader,\n",
        "                                             loss_fn,\n",
        "                                             metric)\n",
        "\n",
        "  loss_train_hist.append(loss_train)\n",
        "  loss_valid_hist.append(loss_valid)\n",
        "\n",
        "  metric_train_hist.append(metric_train)\n",
        "  metric_valid_hist.append(metric_valid)\n",
        "\n",
        "  if loss_valid < best_loss_valid:\n",
        "    torch.save(model, f\"model.pt\")\n",
        "    best_loss_valid = loss_valid\n",
        "    print(\"Model Saved\")\n",
        "\n",
        "    print(f'Valid: Loss = {loss_valid:.4}, Metric = {metric_valid:.4}')\n",
        "  print()\n",
        "\n",
        "  epoch_counter += 1"
      ],
      "metadata": {
        "colab": {
          "base_uri": "https://localhost:8080/"
        },
        "id": "y9G00jgj5eeM",
        "outputId": "c9a67724-aee5-44e0-ce11-963bb3ee434d"
      },
      "execution_count": null,
      "outputs": [
        {
          "output_type": "stream",
          "name": "stderr",
          "text": [
            "Epoch 1: 100%|██████████| 2929/2929 [01:56<00:00, 25.09epoch/s, loss=5.26, metric=193]\n"
          ]
        },
        {
          "output_type": "stream",
          "name": "stdout",
          "text": [
            "Model Saved\n",
            "Valid: Loss = 5.142, Metric = 171.0\n",
            "\n"
          ]
        },
        {
          "output_type": "stream",
          "name": "stderr",
          "text": [
            "Epoch 2: 100%|██████████| 2929/2929 [01:56<00:00, 25.20epoch/s, loss=5.06, metric=158]\n"
          ]
        },
        {
          "output_type": "stream",
          "name": "stdout",
          "text": [
            "Model Saved\n",
            "Valid: Loss = 5.088, Metric = 162.1\n",
            "\n"
          ]
        },
        {
          "output_type": "stream",
          "name": "stderr",
          "text": [
            "Epoch 3: 100%|██████████| 2929/2929 [01:56<00:00, 25.18epoch/s, loss=4.92, metric=137]\n"
          ]
        },
        {
          "output_type": "stream",
          "name": "stdout",
          "text": [
            "Model Saved\n",
            "Valid: Loss = 5.088, Metric = 162.0\n",
            "\n"
          ]
        },
        {
          "output_type": "stream",
          "name": "stderr",
          "text": [
            "Epoch 4: 100%|██████████| 2929/2929 [01:56<00:00, 25.19epoch/s, loss=4.81, metric=123]\n"
          ]
        },
        {
          "output_type": "stream",
          "name": "stdout",
          "text": [
            "\n"
          ]
        },
        {
          "output_type": "stream",
          "name": "stderr",
          "text": [
            "Epoch 5: 100%|██████████| 2929/2929 [01:56<00:00, 25.20epoch/s, loss=4.72, metric=112]\n"
          ]
        },
        {
          "output_type": "stream",
          "name": "stdout",
          "text": [
            "Model Saved\n",
            "Valid: Loss = 5.071, Metric = 159.3\n",
            "\n"
          ]
        },
        {
          "output_type": "stream",
          "name": "stderr",
          "text": [
            "Epoch 6: 100%|██████████| 2929/2929 [01:56<00:00, 25.21epoch/s, loss=4.65, metric=104]\n"
          ]
        },
        {
          "output_type": "stream",
          "name": "stdout",
          "text": [
            "\n"
          ]
        },
        {
          "output_type": "stream",
          "name": "stderr",
          "text": [
            "Epoch 7: 100%|██████████| 2929/2929 [01:56<00:00, 25.20epoch/s, loss=4.58, metric=97.7]\n"
          ]
        },
        {
          "output_type": "stream",
          "name": "stdout",
          "text": [
            "\n"
          ]
        },
        {
          "output_type": "stream",
          "name": "stderr",
          "text": [
            "Epoch 8: 100%|██████████| 2929/2929 [01:55<00:00, 25.26epoch/s, loss=4.53, metric=92.3]\n"
          ]
        },
        {
          "output_type": "stream",
          "name": "stdout",
          "text": [
            "\n"
          ]
        },
        {
          "output_type": "stream",
          "name": "stderr",
          "text": [
            "Epoch 9: 100%|██████████| 2929/2929 [01:56<00:00, 25.14epoch/s, loss=4.47, metric=87.5]\n"
          ]
        },
        {
          "output_type": "stream",
          "name": "stdout",
          "text": [
            "\n"
          ]
        },
        {
          "output_type": "stream",
          "name": "stderr",
          "text": [
            "Epoch 10: 100%|██████████| 2929/2929 [01:56<00:00, 25.20epoch/s, loss=4.42, metric=83.5]\n"
          ]
        },
        {
          "output_type": "stream",
          "name": "stdout",
          "text": [
            "\n"
          ]
        },
        {
          "output_type": "stream",
          "name": "stderr",
          "text": [
            "Epoch 11: 100%|██████████| 2929/2929 [01:55<00:00, 25.28epoch/s, loss=4.38, metric=80]\n"
          ]
        },
        {
          "output_type": "stream",
          "name": "stdout",
          "text": [
            "\n"
          ]
        },
        {
          "output_type": "stream",
          "name": "stderr",
          "text": [
            "Epoch 12: 100%|██████████| 2929/2929 [01:56<00:00, 25.23epoch/s, loss=4.34, metric=77]\n"
          ]
        },
        {
          "output_type": "stream",
          "name": "stdout",
          "text": [
            "\n"
          ]
        },
        {
          "output_type": "stream",
          "name": "stderr",
          "text": [
            "Epoch 13: 100%|██████████| 2929/2929 [01:55<00:00, 25.25epoch/s, loss=4.31, metric=74.4]\n"
          ]
        },
        {
          "output_type": "stream",
          "name": "stdout",
          "text": [
            "\n"
          ]
        },
        {
          "output_type": "stream",
          "name": "stderr",
          "text": [
            "Epoch 14: 100%|██████████| 2929/2929 [01:55<00:00, 25.28epoch/s, loss=4.28, metric=72]\n"
          ]
        },
        {
          "output_type": "stream",
          "name": "stdout",
          "text": [
            "\n"
          ]
        },
        {
          "output_type": "stream",
          "name": "stderr",
          "text": [
            "Epoch 15: 100%|██████████| 2929/2929 [01:57<00:00, 24.88epoch/s, loss=4.25, metric=69.8]\n"
          ]
        },
        {
          "output_type": "stream",
          "name": "stdout",
          "text": [
            "\n"
          ]
        },
        {
          "output_type": "stream",
          "name": "stderr",
          "text": [
            "Epoch 16: 100%|██████████| 2929/2929 [01:56<00:00, 25.16epoch/s, loss=4.22, metric=68]\n"
          ]
        },
        {
          "output_type": "stream",
          "name": "stdout",
          "text": [
            "\n"
          ]
        },
        {
          "output_type": "stream",
          "name": "stderr",
          "text": [
            "Epoch 17: 100%|██████████| 2929/2929 [01:55<00:00, 25.26epoch/s, loss=4.19, metric=66.2]\n"
          ]
        },
        {
          "output_type": "stream",
          "name": "stdout",
          "text": [
            "\n"
          ]
        },
        {
          "output_type": "stream",
          "name": "stderr",
          "text": [
            "Epoch 18: 100%|██████████| 2929/2929 [01:56<00:00, 25.25epoch/s, loss=4.17, metric=64.7]\n"
          ]
        },
        {
          "output_type": "stream",
          "name": "stdout",
          "text": [
            "\n"
          ]
        },
        {
          "output_type": "stream",
          "name": "stderr",
          "text": [
            "Epoch 19: 100%|██████████| 2929/2929 [01:55<00:00, 25.26epoch/s, loss=4.15, metric=63.4]\n"
          ]
        },
        {
          "output_type": "stream",
          "name": "stdout",
          "text": [
            "\n"
          ]
        },
        {
          "output_type": "stream",
          "name": "stderr",
          "text": [
            "Epoch 20: 100%|██████████| 2929/2929 [01:56<00:00, 25.24epoch/s, loss=4.13, metric=62]\n"
          ]
        },
        {
          "output_type": "stream",
          "name": "stdout",
          "text": [
            "\n"
          ]
        },
        {
          "output_type": "stream",
          "name": "stderr",
          "text": [
            "Epoch 21: 100%|██████████| 2929/2929 [01:55<00:00, 25.26epoch/s, loss=4.11, metric=60.8]\n"
          ]
        },
        {
          "output_type": "stream",
          "name": "stdout",
          "text": [
            "\n"
          ]
        },
        {
          "output_type": "stream",
          "name": "stderr",
          "text": [
            "Epoch 22: 100%|██████████| 2929/2929 [01:56<00:00, 25.21epoch/s, loss=4.09, metric=59.8]\n"
          ]
        },
        {
          "output_type": "stream",
          "name": "stdout",
          "text": [
            "\n"
          ]
        },
        {
          "output_type": "stream",
          "name": "stderr",
          "text": [
            "Epoch 23: 100%|██████████| 2929/2929 [01:56<00:00, 25.22epoch/s, loss=4.07, metric=58.6]\n"
          ]
        },
        {
          "output_type": "stream",
          "name": "stdout",
          "text": [
            "\n"
          ]
        },
        {
          "output_type": "stream",
          "name": "stderr",
          "text": [
            "Epoch 24: 100%|██████████| 2929/2929 [01:56<00:00, 25.22epoch/s, loss=4.05, metric=57.6]\n"
          ]
        },
        {
          "output_type": "stream",
          "name": "stdout",
          "text": [
            "\n"
          ]
        },
        {
          "output_type": "stream",
          "name": "stderr",
          "text": [
            "Epoch 25: 100%|██████████| 2929/2929 [01:56<00:00, 25.23epoch/s, loss=4.04, metric=56.8]\n"
          ]
        },
        {
          "output_type": "stream",
          "name": "stdout",
          "text": [
            "\n"
          ]
        },
        {
          "output_type": "stream",
          "name": "stderr",
          "text": [
            "Epoch 26: 100%|██████████| 2929/2929 [01:56<00:00, 25.23epoch/s, loss=4.02, metric=55.9]\n"
          ]
        },
        {
          "output_type": "stream",
          "name": "stdout",
          "text": [
            "\n"
          ]
        },
        {
          "output_type": "stream",
          "name": "stderr",
          "text": [
            "Epoch 27: 100%|██████████| 2929/2929 [01:58<00:00, 24.69epoch/s, loss=4.01, metric=55.2]\n"
          ]
        },
        {
          "output_type": "stream",
          "name": "stdout",
          "text": [
            "\n"
          ]
        },
        {
          "output_type": "stream",
          "name": "stderr",
          "text": [
            "Epoch 28: 100%|██████████| 2929/2929 [01:56<00:00, 25.14epoch/s, loss=4, metric=54.5]\n"
          ]
        },
        {
          "output_type": "stream",
          "name": "stdout",
          "text": [
            "\n"
          ]
        },
        {
          "output_type": "stream",
          "name": "stderr",
          "text": [
            "Epoch 29: 100%|██████████| 2929/2929 [01:56<00:00, 25.17epoch/s, loss=3.99, metric=53.9]\n"
          ]
        },
        {
          "output_type": "stream",
          "name": "stdout",
          "text": [
            "\n"
          ]
        },
        {
          "output_type": "stream",
          "name": "stderr",
          "text": [
            "Epoch 30: 100%|██████████| 2929/2929 [01:56<00:00, 25.15epoch/s, loss=3.98, metric=53.4]\n"
          ]
        },
        {
          "output_type": "stream",
          "name": "stdout",
          "text": [
            "\n"
          ]
        }
      ]
    },
    {
      "cell_type": "markdown",
      "source": [
        "# learning curve"
      ],
      "metadata": {
        "id": "LowHARYfQE7i"
      }
    },
    {
      "cell_type": "code",
      "source": [
        "plt.figure(figsize = (8,6))\n",
        "plt.plot(range(epoch_counter), loss_train_hist, 'r-', label = \"Train\")\n",
        "plt.plot(range(epoch_counter), loss_valid_hist, 'b-', label = \"Validation\")\n",
        "\n",
        "plt.xlabel(\"epoch\")\n",
        "plt.ylabel(\"loss\")\n",
        "\n",
        "plt.grid(True)\n",
        "plt.legend()"
      ],
      "metadata": {
        "colab": {
          "base_uri": "https://localhost:8080/",
          "height": 531
        },
        "id": "U-tIBxFJ62RJ",
        "outputId": "1004dea9-0eb5-46f0-8e16-12f7da9f7c56"
      },
      "execution_count": null,
      "outputs": [
        {
          "output_type": "execute_result",
          "data": {
            "text/plain": [
              "<matplotlib.legend.Legend at 0x7d8fb921af20>"
            ]
          },
          "metadata": {},
          "execution_count": 64
        },
        {
          "output_type": "display_data",
          "data": {
            "text/plain": [
              "<Figure size 800x600 with 1 Axes>"
            ],
            "image/png": "[encoded data removed]"
          },
          "metadata": {}
        }
      ]
    },
    {
      "cell_type": "code",
      "source": [
        "lr = 0.9\n",
        "wd = 1e-8\n",
        "optimizer = optim.SGD(model.parameters(), lr= lr, weight_decay= wd, momentum= 0.9)"
      ],
      "metadata": {
        "id": "xohfeb9IIsDG"
      },
      "execution_count": null,
      "outputs": []
    },
    {
      "cell_type": "code",
      "source": [
        "loss_train_hist = []\n",
        "loss_valid_hist = []\n",
        "\n",
        "metric_train_hist = []\n",
        "metric_valid_hist = []\n",
        "\n",
        "best_loss_valid = torch.inf\n",
        "epoch_counter = 0"
      ],
      "metadata": {
        "id": "9tOfVpHcJUIG"
      },
      "execution_count": null,
      "outputs": []
    },
    {
      "cell_type": "code",
      "source": [
        "num_epochs = 30\n",
        "\n",
        "for epoch in range(1, num_epochs+1):\n",
        "  #train\n",
        "  model, loss_train, metric_train = train_one_epoch(model,\n",
        "                                                    train_loader,\n",
        "                                                    loss_fn,\n",
        "                                                    optimizer,\n",
        "                                                    metric,\n",
        "                                                    epoch)\n",
        "  #validation\n",
        "  loss_valid, metric_valid = evaluate(model,\n",
        "                                             valid_loader,\n",
        "                                             loss_fn,\n",
        "                                             metric)\n",
        "\n",
        "  loss_train_hist.append(loss_train)\n",
        "  loss_valid_hist.append(loss_valid)\n",
        "\n",
        "  metric_train_hist.append(metric_train)\n",
        "  metric_valid_hist.append(metric_valid)\n",
        "\n",
        "  if loss_valid < best_loss_valid:\n",
        "    torch.save(model, f\"model_2.pt\")\n",
        "    best_loss_valid = loss_valid\n",
        "    print(\"Model Saved\")\n",
        "\n",
        "    print(f'Valid: Loss = {loss_valid:.4}, Metric = {metric_valid:.4}')\n",
        "  print()\n",
        "\n",
        "  epoch_counter += 1"
      ],
      "metadata": {
        "colab": {
          "base_uri": "https://localhost:8080/",
          "height": 741
        },
        "id": "jsgve8WqJbbw",
        "outputId": "2d165f48-5b59-4293-89ac-f5a96a6e0953"
      },
      "execution_count": null,
      "outputs": [
        {
          "output_type": "stream",
          "name": "stderr",
          "text": [
            "Epoch 1: 100%|██████████| 2929/2929 [01:56<00:00, 25.13epoch/s, loss=3.74, metric=42.1]\n"
          ]
        },
        {
          "output_type": "stream",
          "name": "stdout",
          "text": [
            "Model Saved\n",
            "Valid: Loss = 5.336, Metric = 207.7\n",
            "\n"
          ]
        },
        {
          "output_type": "stream",
          "name": "stderr",
          "text": [
            "Epoch 2: 100%|██████████| 2929/2929 [01:55<00:00, 25.26epoch/s, loss=3.71, metric=40.8]\n"
          ]
        },
        {
          "output_type": "stream",
          "name": "stdout",
          "text": [
            "Model Saved\n",
            "Valid: Loss = 5.336, Metric = 207.6\n",
            "\n"
          ]
        },
        {
          "output_type": "stream",
          "name": "stderr",
          "text": [
            "Epoch 3: 100%|██████████| 2929/2929 [01:55<00:00, 25.25epoch/s, loss=3.68, metric=39.8]\n"
          ]
        },
        {
          "output_type": "stream",
          "name": "stdout",
          "text": [
            "\n"
          ]
        },
        {
          "output_type": "stream",
          "name": "stderr",
          "text": [
            "Epoch 4: 100%|██████████| 2929/2929 [01:55<00:00, 25.26epoch/s, loss=3.67, metric=39.1]\n"
          ]
        },
        {
          "output_type": "stream",
          "name": "stdout",
          "text": [
            "\n"
          ]
        },
        {
          "output_type": "stream",
          "name": "stderr",
          "text": [
            "Epoch 5: 100%|██████████| 2929/2929 [01:56<00:00, 25.25epoch/s, loss=3.65, metric=38.4]\n"
          ]
        },
        {
          "output_type": "stream",
          "name": "stdout",
          "text": [
            "\n"
          ]
        },
        {
          "output_type": "stream",
          "name": "stderr",
          "text": [
            "Epoch 6: 100%|██████████| 2929/2929 [01:55<00:00, 25.28epoch/s, loss=3.63, metric=37.9]\n"
          ]
        },
        {
          "output_type": "stream",
          "name": "stdout",
          "text": [
            "\n"
          ]
        },
        {
          "output_type": "stream",
          "name": "stderr",
          "text": [
            "Epoch 7:   4%|▍         | 111/2929 [00:04<01:52, 25.08epoch/s, loss=3.58, metric=35.9]\n"
          ]
        },
        {
          "output_type": "error",
          "ename": "KeyboardInterrupt",
          "evalue": "",
          "traceback": [
            "\u001b[0;31m---------------------------------------------------------------------------\u001b[0m",
            "\u001b[0;31mKeyboardInterrupt\u001b[0m                         Traceback (most recent call last)",
            "\u001b[0;32m<ipython-input-70-512555ea7387>\u001b[0m in \u001b[0;36m<cell line: 3>\u001b[0;34m()\u001b[0m\n\u001b[1;32m      3\u001b[0m \u001b[0;32mfor\u001b[0m \u001b[0mepoch\u001b[0m \u001b[0;32min\u001b[0m \u001b[0mrange\u001b[0m\u001b[0;34m(\u001b[0m\u001b[0;36m1\u001b[0m\u001b[0;34m,\u001b[0m \u001b[0mnum_epochs\u001b[0m\u001b[0;34m+\u001b[0m\u001b[0;36m1\u001b[0m\u001b[0;34m)\u001b[0m\u001b[0;34m:\u001b[0m\u001b[0;34m\u001b[0m\u001b[0;34m\u001b[0m\u001b[0m\n\u001b[1;32m      4\u001b[0m   \u001b[0;31m#train\u001b[0m\u001b[0;34m\u001b[0m\u001b[0;34m\u001b[0m\u001b[0m\n\u001b[0;32m----> 5\u001b[0;31m   model, loss_train, metric_train = train_one_epoch(model,\n\u001b[0m\u001b[1;32m      6\u001b[0m                                                     \u001b[0mtrain_loader\u001b[0m\u001b[0;34m,\u001b[0m\u001b[0;34m\u001b[0m\u001b[0;34m\u001b[0m\u001b[0m\n\u001b[1;32m      7\u001b[0m                                                     \u001b[0mloss_fn\u001b[0m\u001b[0;34m,\u001b[0m\u001b[0;34m\u001b[0m\u001b[0;34m\u001b[0m\u001b[0m\n",
            "\u001b[0;32m<ipython-input-49-c560d230a230>\u001b[0m in \u001b[0;36mtrain_one_epoch\u001b[0;34m(model, train_loader, loss_fn, optimizer, metric, epoch)\u001b[0m\n\u001b[1;32m     18\u001b[0m       \u001b[0mloss\u001b[0m\u001b[0;34m.\u001b[0m\u001b[0mbackward\u001b[0m\u001b[0;34m(\u001b[0m\u001b[0;34m)\u001b[0m\u001b[0;34m\u001b[0m\u001b[0;34m\u001b[0m\u001b[0m\n\u001b[1;32m     19\u001b[0m \u001b[0;34m\u001b[0m\u001b[0m\n\u001b[0;32m---> 20\u001b[0;31m       \u001b[0mnn\u001b[0m\u001b[0;34m.\u001b[0m\u001b[0mutils\u001b[0m\u001b[0;34m.\u001b[0m\u001b[0mclip_grad\u001b[0m\u001b[0;34m.\u001b[0m\u001b[0mclip_grad_norm_\u001b[0m\u001b[0;34m(\u001b[0m\u001b[0mmodel\u001b[0m\u001b[0;34m.\u001b[0m\u001b[0mparameters\u001b[0m\u001b[0;34m(\u001b[0m\u001b[0;34m)\u001b[0m\u001b[0;34m,\u001b[0m \u001b[0mmax_norm\u001b[0m\u001b[0;34m=\u001b[0m \u001b[0mclip\u001b[0m\u001b[0;34m)\u001b[0m\u001b[0;34m\u001b[0m\u001b[0;34m\u001b[0m\u001b[0m\n\u001b[0m\u001b[1;32m     21\u001b[0m \u001b[0;34m\u001b[0m\u001b[0m\n\u001b[1;32m     22\u001b[0m       \u001b[0moptimizer\u001b[0m\u001b[0;34m.\u001b[0m\u001b[0mstep\u001b[0m\u001b[0;34m(\u001b[0m\u001b[0;34m)\u001b[0m\u001b[0;34m\u001b[0m\u001b[0;34m\u001b[0m\u001b[0m\n",
            "\u001b[0;32m/usr/local/lib/python3.10/dist-packages/torch/nn/utils/clip_grad.py\u001b[0m in \u001b[0;36mclip_grad_norm_\u001b[0;34m(parameters, max_norm, norm_type, error_if_nonfinite, foreach)\u001b[0m\n\u001b[1;32m     74\u001b[0m     \u001b[0;32mfor\u001b[0m \u001b[0;34m(\u001b[0m\u001b[0;34m(\u001b[0m\u001b[0mdevice\u001b[0m\u001b[0;34m,\u001b[0m \u001b[0m_\u001b[0m\u001b[0;34m)\u001b[0m\u001b[0;34m,\u001b[0m \u001b[0;34m[\u001b[0m\u001b[0mgrads\u001b[0m\u001b[0;34m]\u001b[0m\u001b[0;34m)\u001b[0m \u001b[0;32min\u001b[0m \u001b[0mgrouped_grads\u001b[0m\u001b[0;34m.\u001b[0m\u001b[0mitems\u001b[0m\u001b[0;34m(\u001b[0m\u001b[0;34m)\u001b[0m\u001b[0;34m:\u001b[0m\u001b[0;34m\u001b[0m\u001b[0;34m\u001b[0m\u001b[0m\n\u001b[1;32m     75\u001b[0m         \u001b[0;32mif\u001b[0m \u001b[0;34m(\u001b[0m\u001b[0mforeach\u001b[0m \u001b[0;32mis\u001b[0m \u001b[0;32mNone\u001b[0m \u001b[0;32mor\u001b[0m \u001b[0mforeach\u001b[0m\u001b[0;34m)\u001b[0m \u001b[0;32mand\u001b[0m \u001b[0m_has_foreach_support\u001b[0m\u001b[0;34m(\u001b[0m\u001b[0mgrads\u001b[0m\u001b[0;34m,\u001b[0m \u001b[0mdevice\u001b[0m\u001b[0;34m=\u001b[0m\u001b[0mdevice\u001b[0m\u001b[0;34m)\u001b[0m\u001b[0;34m:\u001b[0m\u001b[0;34m\u001b[0m\u001b[0;34m\u001b[0m\u001b[0m\n\u001b[0;32m---> 76\u001b[0;31m             \u001b[0mtorch\u001b[0m\u001b[0;34m.\u001b[0m\u001b[0m_foreach_mul_\u001b[0m\u001b[0;34m(\u001b[0m\u001b[0mgrads\u001b[0m\u001b[0;34m,\u001b[0m \u001b[0mclip_coef_clamped\u001b[0m\u001b[0;34m.\u001b[0m\u001b[0mto\u001b[0m\u001b[0;34m(\u001b[0m\u001b[0mdevice\u001b[0m\u001b[0;34m)\u001b[0m\u001b[0;34m)\u001b[0m  \u001b[0;31m# type: ignore[call-overload]\u001b[0m\u001b[0;34m\u001b[0m\u001b[0;34m\u001b[0m\u001b[0m\n\u001b[0m\u001b[1;32m     77\u001b[0m         \u001b[0;32melif\u001b[0m \u001b[0mforeach\u001b[0m\u001b[0;34m:\u001b[0m\u001b[0;34m\u001b[0m\u001b[0;34m\u001b[0m\u001b[0m\n\u001b[1;32m     78\u001b[0m             \u001b[0;32mraise\u001b[0m \u001b[0mRuntimeError\u001b[0m\u001b[0;34m(\u001b[0m\u001b[0;34mf'foreach=True was passed, but can\\'t use the foreach API on {device.type} tensors'\u001b[0m\u001b[0;34m)\u001b[0m\u001b[0;34m\u001b[0m\u001b[0;34m\u001b[0m\u001b[0m\n",
            "\u001b[0;31mKeyboardInterrupt\u001b[0m: "
          ]
        }
      ]
    },
    {
      "cell_type": "code",
      "source": [
        "plt.figure(figsize = (8,6))\n",
        "plt.plot(range(epoch_counter), loss_train_hist, 'r-', label = \"Train\")\n",
        "plt.plot(range(epoch_counter), loss_valid_hist, 'b-', label = \"Validation\")\n",
        "\n",
        "plt.xlabel(\"epoch\")\n",
        "plt.ylabel(\"loss\")\n",
        "\n",
        "plt.grid(True)\n",
        "plt.legend()"
      ],
      "metadata": {
        "colab": {
          "base_uri": "https://localhost:8080/",
          "height": 526
        },
        "id": "anL0iAkwJhDo",
        "outputId": "03f7f6e6-cd63-48c0-9db9-9c573a858aeb"
      },
      "execution_count": null,
      "outputs": [
        {
          "output_type": "execute_result",
          "data": {
            "text/plain": [
              "<matplotlib.legend.Legend at 0x7d8fb91faa10>"
            ]
          },
          "metadata": {},
          "execution_count": 71
        },
        {
          "output_type": "display_data",
          "data": {
            "text/plain": [
              "<Figure size 800x600 with 1 Axes>"
            ],
            "image/png": "[encoded data removed]"
          },
          "metadata": {}
        }
      ]
    },
    {
      "cell_type": "code",
      "source": [
        "lr = 2.0\n",
        "wd = 1e-8\n",
        "optimizer = optim.SGD(model.parameters(), lr= lr, weight_decay= wd, momentum= 0.9)"
      ],
      "metadata": {
        "id": "_t9TpN0NMlrr"
      },
      "execution_count": null,
      "outputs": []
    },
    {
      "cell_type": "code",
      "source": [
        "loss_train_hist = []\n",
        "loss_valid_hist = []\n",
        "\n",
        "metric_train_hist = []\n",
        "metric_valid_hist = []\n",
        "\n",
        "best_loss_valid = torch.inf\n",
        "epoch_counter = 0"
      ],
      "metadata": {
        "id": "y29DKWdYMuGZ"
      },
      "execution_count": null,
      "outputs": []
    },
    {
      "cell_type": "code",
      "source": [
        "num_epochs = 30\n",
        "\n",
        "for epoch in range(1, num_epochs+1):\n",
        "  #train\n",
        "  model, loss_train, metric_train = train_one_epoch(model,\n",
        "                                                    train_loader,\n",
        "                                                    loss_fn,\n",
        "                                                    optimizer,\n",
        "                                                    metric,\n",
        "                                                    epoch)\n",
        "  #validation\n",
        "  loss_valid, metric_valid = evaluate(model,\n",
        "                                             valid_loader,\n",
        "                                             loss_fn,\n",
        "                                             metric)\n",
        "\n",
        "  loss_train_hist.append(loss_train)\n",
        "  loss_valid_hist.append(loss_valid)\n",
        "\n",
        "  metric_train_hist.append(metric_train)\n",
        "  metric_valid_hist.append(metric_valid)\n",
        "\n",
        "  if loss_valid < best_loss_valid:\n",
        "    torch.save(model, f\"model_2.pt\")\n",
        "    best_loss_valid = loss_valid\n",
        "    print(\"Model Saved\")\n",
        "\n",
        "    print(f'Valid: Loss = {loss_valid:.4}, Metric = {metric_valid:.4}')\n",
        "  print()\n",
        "\n",
        "  epoch_counter += 1"
      ],
      "metadata": {
        "colab": {
          "base_uri": "https://localhost:8080/",
          "height": 671
        },
        "id": "CguExbLVM10e",
        "outputId": "db9505f2-f1af-4623-e750-187d3e48d609"
      },
      "execution_count": null,
      "outputs": [
        {
          "output_type": "stream",
          "name": "stderr",
          "text": [
            "Epoch 1: 100%|██████████| 2929/2929 [01:57<00:00, 24.91epoch/s, loss=3.69, metric=39.9]\n"
          ]
        },
        {
          "output_type": "stream",
          "name": "stdout",
          "text": [
            "Model Saved\n",
            "Valid: Loss = 5.361, Metric = 212.9\n",
            "\n"
          ]
        },
        {
          "output_type": "stream",
          "name": "stderr",
          "text": [
            "Epoch 2: 100%|██████████| 2929/2929 [01:56<00:00, 25.20epoch/s, loss=3.68, metric=39.5]\n"
          ]
        },
        {
          "output_type": "stream",
          "name": "stdout",
          "text": [
            "\n"
          ]
        },
        {
          "output_type": "stream",
          "name": "stderr",
          "text": [
            "Epoch 3: 100%|██████████| 2929/2929 [01:56<00:00, 25.23epoch/s, loss=3.66, metric=38.9]\n"
          ]
        },
        {
          "output_type": "stream",
          "name": "stdout",
          "text": [
            "\n"
          ]
        },
        {
          "output_type": "stream",
          "name": "stderr",
          "text": [
            "Epoch 4: 100%|██████████| 2929/2929 [01:55<00:00, 25.26epoch/s, loss=3.64, metric=38.2]\n"
          ]
        },
        {
          "output_type": "stream",
          "name": "stdout",
          "text": [
            "\n"
          ]
        },
        {
          "output_type": "stream",
          "name": "stderr",
          "text": [
            "Epoch 5: 100%|██████████| 2929/2929 [01:55<00:00, 25.27epoch/s, loss=3.63, metric=37.8]\n"
          ]
        },
        {
          "output_type": "stream",
          "name": "stdout",
          "text": [
            "\n"
          ]
        },
        {
          "output_type": "stream",
          "name": "stderr",
          "text": [
            "Epoch 6:  47%|████▋     | 1379/2929 [00:54<01:01, 25.32epoch/s, loss=3.58, metric=36]\n"
          ]
        },
        {
          "output_type": "error",
          "ename": "KeyboardInterrupt",
          "evalue": "",
          "traceback": [
            "\u001b[0;31m---------------------------------------------------------------------------\u001b[0m",
            "\u001b[0;31mKeyboardInterrupt\u001b[0m                         Traceback (most recent call last)",
            "\u001b[0;32m<ipython-input-76-512555ea7387>\u001b[0m in \u001b[0;36m<cell line: 3>\u001b[0;34m()\u001b[0m\n\u001b[1;32m      3\u001b[0m \u001b[0;32mfor\u001b[0m \u001b[0mepoch\u001b[0m \u001b[0;32min\u001b[0m \u001b[0mrange\u001b[0m\u001b[0;34m(\u001b[0m\u001b[0;36m1\u001b[0m\u001b[0;34m,\u001b[0m \u001b[0mnum_epochs\u001b[0m\u001b[0;34m+\u001b[0m\u001b[0;36m1\u001b[0m\u001b[0;34m)\u001b[0m\u001b[0;34m:\u001b[0m\u001b[0;34m\u001b[0m\u001b[0;34m\u001b[0m\u001b[0m\n\u001b[1;32m      4\u001b[0m   \u001b[0;31m#train\u001b[0m\u001b[0;34m\u001b[0m\u001b[0;34m\u001b[0m\u001b[0m\n\u001b[0;32m----> 5\u001b[0;31m   model, loss_train, metric_train = train_one_epoch(model,\n\u001b[0m\u001b[1;32m      6\u001b[0m                                                     \u001b[0mtrain_loader\u001b[0m\u001b[0;34m,\u001b[0m\u001b[0;34m\u001b[0m\u001b[0;34m\u001b[0m\u001b[0m\n\u001b[1;32m      7\u001b[0m                                                     \u001b[0mloss_fn\u001b[0m\u001b[0;34m,\u001b[0m\u001b[0;34m\u001b[0m\u001b[0;34m\u001b[0m\u001b[0m\n",
            "\u001b[0;32m<ipython-input-49-c560d230a230>\u001b[0m in \u001b[0;36mtrain_one_epoch\u001b[0;34m(model, train_loader, loss_fn, optimizer, metric, epoch)\u001b[0m\n\u001b[1;32m     18\u001b[0m       \u001b[0mloss\u001b[0m\u001b[0;34m.\u001b[0m\u001b[0mbackward\u001b[0m\u001b[0;34m(\u001b[0m\u001b[0;34m)\u001b[0m\u001b[0;34m\u001b[0m\u001b[0;34m\u001b[0m\u001b[0m\n\u001b[1;32m     19\u001b[0m \u001b[0;34m\u001b[0m\u001b[0m\n\u001b[0;32m---> 20\u001b[0;31m       \u001b[0mnn\u001b[0m\u001b[0;34m.\u001b[0m\u001b[0mutils\u001b[0m\u001b[0;34m.\u001b[0m\u001b[0mclip_grad\u001b[0m\u001b[0;34m.\u001b[0m\u001b[0mclip_grad_norm_\u001b[0m\u001b[0;34m(\u001b[0m\u001b[0mmodel\u001b[0m\u001b[0;34m.\u001b[0m\u001b[0mparameters\u001b[0m\u001b[0;34m(\u001b[0m\u001b[0;34m)\u001b[0m\u001b[0;34m,\u001b[0m \u001b[0mmax_norm\u001b[0m\u001b[0;34m=\u001b[0m \u001b[0mclip\u001b[0m\u001b[0;34m)\u001b[0m\u001b[0;34m\u001b[0m\u001b[0;34m\u001b[0m\u001b[0m\n\u001b[0m\u001b[1;32m     21\u001b[0m \u001b[0;34m\u001b[0m\u001b[0m\n\u001b[1;32m     22\u001b[0m       \u001b[0moptimizer\u001b[0m\u001b[0;34m.\u001b[0m\u001b[0mstep\u001b[0m\u001b[0;34m(\u001b[0m\u001b[0;34m)\u001b[0m\u001b[0;34m\u001b[0m\u001b[0;34m\u001b[0m\u001b[0m\n",
            "\u001b[0;32m/usr/local/lib/python3.10/dist-packages/torch/nn/utils/clip_grad.py\u001b[0m in \u001b[0;36mclip_grad_norm_\u001b[0;34m(parameters, max_norm, norm_type, error_if_nonfinite, foreach)\u001b[0m\n\u001b[1;32m     74\u001b[0m     \u001b[0;32mfor\u001b[0m \u001b[0;34m(\u001b[0m\u001b[0;34m(\u001b[0m\u001b[0mdevice\u001b[0m\u001b[0;34m,\u001b[0m \u001b[0m_\u001b[0m\u001b[0;34m)\u001b[0m\u001b[0;34m,\u001b[0m \u001b[0;34m[\u001b[0m\u001b[0mgrads\u001b[0m\u001b[0;34m]\u001b[0m\u001b[0;34m)\u001b[0m \u001b[0;32min\u001b[0m \u001b[0mgrouped_grads\u001b[0m\u001b[0;34m.\u001b[0m\u001b[0mitems\u001b[0m\u001b[0;34m(\u001b[0m\u001b[0;34m)\u001b[0m\u001b[0;34m:\u001b[0m\u001b[0;34m\u001b[0m\u001b[0;34m\u001b[0m\u001b[0m\n\u001b[1;32m     75\u001b[0m         \u001b[0;32mif\u001b[0m \u001b[0;34m(\u001b[0m\u001b[0mforeach\u001b[0m \u001b[0;32mis\u001b[0m \u001b[0;32mNone\u001b[0m \u001b[0;32mor\u001b[0m \u001b[0mforeach\u001b[0m\u001b[0;34m)\u001b[0m \u001b[0;32mand\u001b[0m \u001b[0m_has_foreach_support\u001b[0m\u001b[0;34m(\u001b[0m\u001b[0mgrads\u001b[0m\u001b[0;34m,\u001b[0m \u001b[0mdevice\u001b[0m\u001b[0;34m=\u001b[0m\u001b[0mdevice\u001b[0m\u001b[0;34m)\u001b[0m\u001b[0;34m:\u001b[0m\u001b[0;34m\u001b[0m\u001b[0;34m\u001b[0m\u001b[0m\n\u001b[0;32m---> 76\u001b[0;31m             \u001b[0mtorch\u001b[0m\u001b[0;34m.\u001b[0m\u001b[0m_foreach_mul_\u001b[0m\u001b[0;34m(\u001b[0m\u001b[0mgrads\u001b[0m\u001b[0;34m,\u001b[0m \u001b[0mclip_coef_clamped\u001b[0m\u001b[0;34m.\u001b[0m\u001b[0mto\u001b[0m\u001b[0;34m(\u001b[0m\u001b[0mdevice\u001b[0m\u001b[0;34m)\u001b[0m\u001b[0;34m)\u001b[0m  \u001b[0;31m# type: ignore[call-overload]\u001b[0m\u001b[0;34m\u001b[0m\u001b[0;34m\u001b[0m\u001b[0m\n\u001b[0m\u001b[1;32m     77\u001b[0m         \u001b[0;32melif\u001b[0m \u001b[0mforeach\u001b[0m\u001b[0;34m:\u001b[0m\u001b[0;34m\u001b[0m\u001b[0;34m\u001b[0m\u001b[0m\n\u001b[1;32m     78\u001b[0m             \u001b[0;32mraise\u001b[0m \u001b[0mRuntimeError\u001b[0m\u001b[0;34m(\u001b[0m\u001b[0;34mf'foreach=True was passed, but can\\'t use the foreach API on {device.type} tensors'\u001b[0m\u001b[0;34m)\u001b[0m\u001b[0;34m\u001b[0m\u001b[0;34m\u001b[0m\u001b[0m\n",
            "\u001b[0;31mKeyboardInterrupt\u001b[0m: "
          ]
        }
      ]
    },
    {
      "cell_type": "code",
      "source": [
        "plt.figure(figsize = (8,6))\n",
        "plt.plot(range(epoch_counter), loss_train_hist, 'r-', label = \"Train\")\n",
        "plt.plot(range(epoch_counter), loss_valid_hist, 'b-', label = \"Validation\")\n",
        "\n",
        "plt.xlabel(\"epoch\")\n",
        "plt.ylabel(\"loss\")\n",
        "\n",
        "plt.grid(True)\n",
        "plt.legend()"
      ],
      "metadata": {
        "colab": {
          "base_uri": "https://localhost:8080/",
          "height": 526
        },
        "id": "uyqQZS1WM5iS",
        "outputId": "41538355-5941-4a86-b856-e09ecbf84708"
      },
      "execution_count": null,
      "outputs": [
        {
          "output_type": "execute_result",
          "data": {
            "text/plain": [
              "<matplotlib.legend.Legend at 0x7d8fb6f3a260>"
            ]
          },
          "metadata": {},
          "execution_count": 77
        },
        {
          "output_type": "display_data",
          "data": {
            "text/plain": [
              "<Figure size 800x600 with 1 Axes>"
            ],
            "image/png": "[encoded data removed]"
          },
          "metadata": {}
        }
      ]
    },
    {
      "cell_type": "code",
      "source": [
        "lr = 3.0\n",
        "wd = 1e-6\n",
        "optimizer = optim.SGD(model.parameters(), lr= lr, weight_decay= wd, momentum= 0.9)"
      ],
      "metadata": {
        "id": "ciimICUQPdE2"
      },
      "execution_count": null,
      "outputs": []
    },
    {
      "cell_type": "code",
      "source": [
        "loss_train_hist = []\n",
        "loss_valid_hist = []\n",
        "\n",
        "metric_train_hist = []\n",
        "metric_valid_hist = []\n",
        "\n",
        "best_loss_valid = torch.inf\n",
        "epoch_counter = 0"
      ],
      "metadata": {
        "id": "EwdwF05iPjRA"
      },
      "execution_count": null,
      "outputs": []
    },
    {
      "cell_type": "code",
      "source": [
        "num_epochs = 30\n",
        "\n",
        "for epoch in range(1, num_epochs+1):\n",
        "  #train\n",
        "  model, loss_train, metric_train = train_one_epoch(model,\n",
        "                                                    train_loader,\n",
        "                                                    loss_fn,\n",
        "                                                    optimizer,\n",
        "                                                    metric,\n",
        "                                                    epoch)\n",
        "  #validation\n",
        "  loss_valid, metric_valid = evaluate(model,\n",
        "                                             valid_loader,\n",
        "                                             loss_fn,\n",
        "                                             metric)\n",
        "\n",
        "  loss_train_hist.append(loss_train)\n",
        "  loss_valid_hist.append(loss_valid)\n",
        "\n",
        "  metric_train_hist.append(metric_train)\n",
        "  metric_valid_hist.append(metric_valid)\n",
        "\n",
        "  if loss_valid < best_loss_valid:\n",
        "    torch.save(model, f\"model_3.pt\")\n",
        "    best_loss_valid = loss_valid\n",
        "    print(\"Model Saved\")\n",
        "\n",
        "    print(f'Valid: Loss = {loss_valid:.4}, Metric = {metric_valid:.4}')\n",
        "  print()\n",
        "\n",
        "  epoch_counter += 1"
      ],
      "metadata": {
        "colab": {
          "base_uri": "https://localhost:8080/"
        },
        "id": "6i2betfZPnKJ",
        "outputId": "3273851a-534b-418f-960e-7d065dc8bcf3"
      },
      "execution_count": null,
      "outputs": [
        {
          "metadata": {
            "tags": null
          },
          "name": "stderr",
          "output_type": "stream",
          "text": [
            "Epoch 1: 100%|██████████| 2929/2929 [01:56<00:00, 25.04epoch/s, loss=3.75, metric=42.6]\n"
          ]
        },
        {
          "metadata": {
            "tags": null
          },
          "name": "stdout",
          "output_type": "stream",
          "text": [
            "Model Saved\n",
            "Valid: Loss = 5.252, Metric = 190.9\n",
            "\n"
          ]
        },
        {
          "metadata": {
            "tags": null
          },
          "name": "stderr",
          "output_type": "stream",
          "text": [
            "Epoch 2: 100%|██████████| 2929/2929 [01:55<00:00, 25.28epoch/s, loss=3.78, metric=43.9]\n"
          ]
        },
        {
          "metadata": {
            "tags": null
          },
          "name": "stdout",
          "output_type": "stream",
          "text": [
            "Model Saved\n",
            "Valid: Loss = 5.219, Metric = 184.8\n",
            "\n"
          ]
        },
        {
          "metadata": {
            "tags": null
          },
          "name": "stderr",
          "output_type": "stream",
          "text": [
            "Epoch 3: 100%|██████████| 2929/2929 [01:56<00:00, 25.24epoch/s, loss=3.81, metric=45.2]\n"
          ]
        },
        {
          "metadata": {
            "tags": null
          },
          "name": "stdout",
          "output_type": "stream",
          "text": [
            "Model Saved\n",
            "Valid: Loss = 5.206, Metric = 182.4\n",
            "\n"
          ]
        },
        {
          "metadata": {
            "tags": null
          },
          "name": "stderr",
          "output_type": "stream",
          "text": [
            "Epoch 4: 100%|██████████| 2929/2929 [01:56<00:00, 25.24epoch/s, loss=3.83, metric=46.3]\n"
          ]
        },
        {
          "metadata": {
            "tags": null
          },
          "name": "stdout",
          "output_type": "stream",
          "text": [
            "Model Saved\n",
            "Valid: Loss = 5.188, Metric = 179.2\n",
            "\n"
          ]
        },
        {
          "metadata": {
            "tags": null
          },
          "name": "stderr",
          "output_type": "stream",
          "text": [
            "Epoch 5: 100%|██████████| 2929/2929 [01:56<00:00, 25.20epoch/s, loss=3.85, metric=47.1]\n"
          ]
        },
        {
          "metadata": {
            "tags": null
          },
          "name": "stdout",
          "output_type": "stream",
          "text": [
            "Model Saved\n",
            "Valid: Loss = 5.174, Metric = 176.6\n",
            "\n"
          ]
        },
        {
          "metadata": {
            "tags": null
          },
          "name": "stderr",
          "output_type": "stream",
          "text": [
            "Epoch 6: 100%|██████████| 2929/2929 [01:56<00:00, 25.22epoch/s, loss=3.87, metric=47.9]\n"
          ]
        },
        {
          "metadata": {
            "tags": null
          },
          "name": "stdout",
          "output_type": "stream",
          "text": [
            "Model Saved\n",
            "Valid: Loss = 5.162, Metric = 174.6\n",
            "\n"
          ]
        },
        {
          "metadata": {
            "tags": null
          },
          "name": "stderr",
          "output_type": "stream",
          "text": [
            "Epoch 7: 100%|██████████| 2929/2929 [01:56<00:00, 25.17epoch/s, loss=3.88, metric=48.3]\n"
          ]
        },
        {
          "metadata": {
            "tags": null
          },
          "name": "stdout",
          "output_type": "stream",
          "text": [
            "Model Saved\n",
            "Valid: Loss = 5.157, Metric = 173.6\n",
            "\n"
          ]
        },
        {
          "metadata": {
            "tags": null
          },
          "name": "stderr",
          "output_type": "stream",
          "text": [
            "Epoch 8: 100%|██████████| 2929/2929 [01:56<00:00, 25.18epoch/s, loss=3.88, metric=48.6]\n"
          ]
        },
        {
          "metadata": {
            "tags": null
          },
          "name": "stdout",
          "output_type": "stream",
          "text": [
            "Model Saved\n",
            "Valid: Loss = 5.152, Metric = 172.8\n",
            "\n"
          ]
        },
        {
          "metadata": {
            "tags": null
          },
          "name": "stderr",
          "output_type": "stream",
          "text": [
            "Epoch 9: 100%|██████████| 2929/2929 [01:56<00:00, 25.15epoch/s, loss=3.88, metric=48.6]\n"
          ]
        },
        {
          "metadata": {
            "tags": null
          },
          "name": "stdout",
          "output_type": "stream",
          "text": [
            "Model Saved\n",
            "Valid: Loss = 5.152, Metric = 172.7\n",
            "\n"
          ]
        },
        {
          "metadata": {
            "tags": null
          },
          "name": "stderr",
          "output_type": "stream",
          "text": [
            "Epoch 10: 100%|██████████| 2929/2929 [01:59<00:00, 24.61epoch/s, loss=3.89, metric=48.7]\n"
          ]
        },
        {
          "metadata": {
            "tags": null
          },
          "name": "stdout",
          "output_type": "stream",
          "text": [
            "Model Saved\n",
            "Valid: Loss = 5.15, Metric = 172.4\n",
            "\n"
          ]
        },
        {
          "metadata": {
            "tags": null
          },
          "name": "stderr",
          "output_type": "stream",
          "text": [
            "Epoch 11: 100%|██████████| 2929/2929 [02:00<00:00, 24.34epoch/s, loss=3.88, metric=48.5]\n"
          ]
        },
        {
          "metadata": {
            "tags": null
          },
          "name": "stdout",
          "output_type": "stream",
          "text": [
            "Model Saved\n",
            "Valid: Loss = 5.147, Metric = 171.8\n",
            "\n"
          ]
        },
        {
          "metadata": {
            "tags": null
          },
          "name": "stderr",
          "output_type": "stream",
          "text": [
            "Epoch 12: 100%|██████████| 2929/2929 [01:58<00:00, 24.80epoch/s, loss=3.88, metric=48.2]\n"
          ]
        },
        {
          "metadata": {
            "tags": null
          },
          "name": "stdout",
          "output_type": "stream",
          "text": [
            "Model Saved\n",
            "Valid: Loss = 5.139, Metric = 170.5\n",
            "\n"
          ]
        },
        {
          "metadata": {
            "tags": null
          },
          "name": "stderr",
          "output_type": "stream",
          "text": [
            "Epoch 13: 100%|██████████| 2929/2929 [01:56<00:00, 25.11epoch/s, loss=3.87, metric=47.9]\n"
          ]
        },
        {
          "metadata": {
            "tags": null
          },
          "name": "stdout",
          "output_type": "stream",
          "text": [
            "\n"
          ]
        },
        {
          "metadata": {
            "tags": null
          },
          "name": "stderr",
          "output_type": "stream",
          "text": [
            "Epoch 14: 100%|██████████| 2929/2929 [01:56<00:00, 25.13epoch/s, loss=3.86, metric=47.5]\n"
          ]
        },
        {
          "metadata": {
            "tags": null
          },
          "name": "stdout",
          "output_type": "stream",
          "text": [
            "Model Saved\n",
            "Valid: Loss = 5.122, Metric = 167.7\n",
            "\n"
          ]
        },
        {
          "metadata": {
            "tags": null
          },
          "name": "stderr",
          "output_type": "stream",
          "text": [
            "Epoch 15: 100%|██████████| 2929/2929 [01:56<00:00, 25.09epoch/s, loss=3.85, metric=47.1]\n"
          ]
        },
        {
          "metadata": {
            "tags": null
          },
          "name": "stdout",
          "output_type": "stream",
          "text": [
            "\n"
          ]
        },
        {
          "metadata": {
            "tags": null
          },
          "name": "stderr",
          "output_type": "stream",
          "text": [
            "Epoch 16: 100%|██████████| 2929/2929 [01:56<00:00, 25.15epoch/s, loss=3.85, metric=46.8]\n"
          ]
        },
        {
          "metadata": {
            "tags": null
          },
          "name": "stdout",
          "output_type": "stream",
          "text": [
            "\n"
          ]
        },
        {
          "metadata": {
            "tags": null
          },
          "name": "stderr",
          "output_type": "stream",
          "text": [
            "Epoch 17: 100%|██████████| 2929/2929 [01:56<00:00, 25.14epoch/s, loss=3.84, metric=46.3]\n"
          ]
        },
        {
          "metadata": {
            "tags": null
          },
          "name": "stdout",
          "output_type": "stream",
          "text": [
            "\n"
          ]
        },
        {
          "output_type": "stream",
          "name": "stderr",
          "text": [
            "Epoch 18: 100%|██████████| 2929/2929 [01:57<00:00, 24.97epoch/s, loss=3.83, metric=45.9]\n"
          ]
        },
        {
          "output_type": "stream",
          "name": "stdout",
          "text": [
            "\n"
          ]
        },
        {
          "output_type": "stream",
          "name": "stderr",
          "text": [
            "Epoch 19: 100%|██████████| 2929/2929 [01:57<00:00, 24.99epoch/s, loss=3.82, metric=45.5]\n"
          ]
        },
        {
          "output_type": "stream",
          "name": "stdout",
          "text": [
            "\n"
          ]
        },
        {
          "output_type": "stream",
          "name": "stderr",
          "text": [
            "Epoch 20: 100%|██████████| 2929/2929 [01:57<00:00, 24.99epoch/s, loss=3.81, metric=45.1]\n"
          ]
        },
        {
          "output_type": "stream",
          "name": "stdout",
          "text": [
            "\n"
          ]
        },
        {
          "output_type": "stream",
          "name": "stderr",
          "text": [
            "Epoch 21: 100%|██████████| 2929/2929 [01:57<00:00, 24.99epoch/s, loss=3.8, metric=44.7]\n"
          ]
        },
        {
          "output_type": "stream",
          "name": "stdout",
          "text": [
            "\n"
          ]
        },
        {
          "output_type": "stream",
          "name": "stderr",
          "text": [
            "Epoch 22: 100%|██████████| 2929/2929 [01:57<00:00, 24.93epoch/s, loss=3.79, metric=44.4]\n"
          ]
        },
        {
          "output_type": "stream",
          "name": "stdout",
          "text": [
            "\n"
          ]
        },
        {
          "output_type": "stream",
          "name": "stderr",
          "text": [
            "Epoch 23: 100%|██████████| 2929/2929 [01:57<00:00, 24.98epoch/s, loss=3.78, metric=44]\n"
          ]
        },
        {
          "output_type": "stream",
          "name": "stdout",
          "text": [
            "\n"
          ]
        },
        {
          "output_type": "stream",
          "name": "stderr",
          "text": [
            "Epoch 24: 100%|██████████| 2929/2929 [01:57<00:00, 24.93epoch/s, loss=3.78, metric=43.8]\n"
          ]
        },
        {
          "output_type": "stream",
          "name": "stdout",
          "text": [
            "\n"
          ]
        },
        {
          "output_type": "stream",
          "name": "stderr",
          "text": [
            "Epoch 25: 100%|██████████| 2929/2929 [01:57<00:00, 24.96epoch/s, loss=3.77, metric=43.4]\n"
          ]
        },
        {
          "output_type": "stream",
          "name": "stdout",
          "text": [
            "\n"
          ]
        },
        {
          "output_type": "stream",
          "name": "stderr",
          "text": [
            "Epoch 26: 100%|██████████| 2929/2929 [01:57<00:00, 24.97epoch/s, loss=3.77, metric=43.2]\n"
          ]
        },
        {
          "output_type": "stream",
          "name": "stdout",
          "text": [
            "\n"
          ]
        },
        {
          "output_type": "stream",
          "name": "stderr",
          "text": [
            "Epoch 27: 100%|██████████| 2929/2929 [01:57<00:00, 24.95epoch/s, loss=3.76, metric=43]\n"
          ]
        },
        {
          "output_type": "stream",
          "name": "stdout",
          "text": [
            "\n"
          ]
        },
        {
          "output_type": "stream",
          "name": "stderr",
          "text": [
            "Epoch 28: 100%|██████████| 2929/2929 [01:57<00:00, 24.96epoch/s, loss=3.76, metric=42.7]\n"
          ]
        },
        {
          "output_type": "stream",
          "name": "stdout",
          "text": [
            "\n"
          ]
        },
        {
          "output_type": "stream",
          "name": "stderr",
          "text": [
            "Epoch 29: 100%|██████████| 2929/2929 [01:57<00:00, 24.98epoch/s, loss=3.75, metric=42.6]\n"
          ]
        },
        {
          "output_type": "stream",
          "name": "stdout",
          "text": [
            "\n"
          ]
        },
        {
          "output_type": "stream",
          "name": "stderr",
          "text": [
            "Epoch 30: 100%|██████████| 2929/2929 [01:57<00:00, 24.96epoch/s, loss=3.75, metric=42.4]\n"
          ]
        },
        {
          "output_type": "stream",
          "name": "stdout",
          "text": [
            "\n"
          ]
        }
      ]
    },
    {
      "cell_type": "code",
      "source": [
        "plt.figure(figsize = (8,6))\n",
        "plt.plot(range(epoch_counter), loss_train_hist, 'r-', label = \"Train\")\n",
        "plt.plot(range(epoch_counter), loss_valid_hist, 'b-', label = \"Validation\")\n",
        "\n",
        "plt.xlabel(\"epoch\")\n",
        "plt.ylabel(\"loss\")\n",
        "\n",
        "plt.grid(True)\n",
        "plt.legend()"
      ],
      "metadata": {
        "colab": {
          "base_uri": "https://localhost:8080/",
          "height": 531
        },
        "id": "UENpM6Gpbh6G",
        "outputId": "87b1efed-1b8b-4a8e-92b8-3df87fe10898"
      },
      "execution_count": null,
      "outputs": [
        {
          "output_type": "execute_result",
          "data": {
            "text/plain": [
              "<matplotlib.legend.Legend at 0x7d8fb6fe14b0>"
            ]
          },
          "metadata": {},
          "execution_count": 86
        },
        {
          "output_type": "display_data",
          "data": {
            "text/plain": [
              "<Figure size 800x600 with 1 Axes>"
            ],
            "image/png": "[encoded data removed]"
          },
          "metadata": {}
        }
      ]
    },
    {
      "cell_type": "code",
      "source": [
        "from google.colab import files\n",
        "uploaded = files.upload()"
      ],
      "metadata": {
        "colab": {
          "base_uri": "https://localhost:8080/",
          "height": 73
        },
        "id": "7SMzUU_Ol57Z",
        "outputId": "cf456ca8-9184-4ded-bfd3-5d65990235eb"
      },
      "execution_count": 6,
      "outputs": [
        {
          "output_type": "display_data",
          "data": {
            "text/plain": [
              "<IPython.core.display.HTML object>"
            ],
            "text/html": [
              "\n",
              "     <input type=\"file\" id=\"files-8b854572-320e-432e-9d04-f81da194039d\" name=\"files[]\" multiple disabled\n",
              "        style=\"border:none\" />\n",
              "     <output id=\"result-8b854572-320e-432e-9d04-f81da194039d\">\n",
              "      Upload widget is only available when the cell has been executed in the\n",
              "      current browser session. Please rerun this cell to enable.\n",
              "      </output>\n",
              "      <script>// Copyright 2017 Google LLC\n",
              "//\n",
              "// Licensed under the Apache License, Version 2.0 (the \"License\");\n",
              "// you may not use this file except in compliance with the License.\n",
              "// You may obtain a copy of the License at\n",
              "//\n",
              "//      http://www.apache.org/licenses/LICENSE-2.0\n",
              "//\n",
              "// Unless required by applicable law or agreed to in writing, software\n",
              "// distributed under the License is distributed on an \"AS IS\" BASIS,\n",
              "// WITHOUT WARRANTIES OR CONDITIONS OF ANY KIND, either express or implied.\n",
              "// See the License for the specific language governing permissions and\n",
              "// limitations under the License.\n",
              "\n",
              "/**\n",
              " * @fileoverview Helpers for google.colab Python module.\n",
              " */\n",
              "(function(scope) {\n",
              "function span(text, styleAttributes = {}) {\n",
              "  const element = document.createElement('span');\n",
              "  element.textContent = text;\n",
              "  for (const key of Object.keys(styleAttributes)) {\n",
              "    element.style[key] = styleAttributes[key];\n",
              "  }\n",
              "  return element;\n",
              "}\n",
              "\n",
              "// Max number of bytes which will be uploaded at a time.\n",
              "const MAX_PAYLOAD_SIZE = 100 * 1024;\n",
              "\n",
              "function _uploadFiles(inputId, outputId) {\n",
              "  const steps = uploadFilesStep(inputId, outputId);\n",
              "  const outputElement = document.getElementById(outputId);\n",
              "  // Cache steps on the outputElement to make it available for the next call\n",
              "  // to uploadFilesContinue from Python.\n",
              "  outputElement.steps = steps;\n",
              "\n",
              "  return _uploadFilesContinue(outputId);\n",
              "}\n",
              "\n",
              "// This is roughly an async generator (not supported in the browser yet),\n",
              "// where there are multiple asynchronous steps and the Python side is going\n",
              "// to poll for completion of each step.\n",
              "// This uses a Promise to block the python side on completion of each step,\n",
              "// then passes the result of the previous step as the input to the next step.\n",
              "function _uploadFilesContinue(outputId) {\n",
              "  const outputElement = document.getElementById(outputId);\n",
              "  const steps = outputElement.steps;\n",
              "\n",
              "  const next = steps.next(outputElement.lastPromiseValue);\n",
              "  return Promise.resolve(next.value.promise).then((value) => {\n",
              "    // Cache the last promise value to make it available to the next\n",
              "    // step of the generator.\n",
              "    outputElement.lastPromiseValue = value;\n",
              "    return next.value.response;\n",
              "  });\n",
              "}\n",
              "\n",
              "/**\n",
              " * Generator function which is called between each async step of the upload\n",
              " * process.\n",
              " * @param {string} inputId Element ID of the input file picker element.\n",
              " * @param {string} outputId Element ID of the output display.\n",
              " * @return {!Iterable<!Object>} Iterable of next steps.\n",
              " */\n",
              "function* uploadFilesStep(inputId, outputId) {\n",
              "  const inputElement = document.getElementById(inputId);\n",
              "  inputElement.disabled = false;\n",
              "\n",
              "  const outputElement = document.getElementById(outputId);\n",
              "  outputElement.innerHTML = '';\n",
              "\n",
              "  const pickedPromise = new Promise((resolve) => {\n",
              "    inputElement.addEventListener('change', (e) => {\n",
              "      resolve(e.target.files);\n",
              "    });\n",
              "  });\n",
              "\n",
              "  const cancel = document.createElement('button');\n",
              "  inputElement.parentElement.appendChild(cancel);\n",
              "  cancel.textContent = 'Cancel upload';\n",
              "  const cancelPromise = new Promise((resolve) => {\n",
              "    cancel.onclick = () => {\n",
              "      resolve(null);\n",
              "    };\n",
              "  });\n",
              "\n",
              "  // Wait for the user to pick the files.\n",
              "  const files = yield {\n",
              "    promise: Promise.race([pickedPromise, cancelPromise]),\n",
              "    response: {\n",
              "      action: 'starting',\n",
              "    }\n",
              "  };\n",
              "\n",
              "  cancel.remove();\n",
              "\n",
              "  // Disable the input element since further picks are not allowed.\n",
              "  inputElement.disabled = true;\n",
              "\n",
              "  if (!files) {\n",
              "    return {\n",
              "      response: {\n",
              "        action: 'complete',\n",
              "      }\n",
              "    };\n",
              "  }\n",
              "\n",
              "  for (const file of files) {\n",
              "    const li = document.createElement('li');\n",
              "    li.append(span(file.name, {fontWeight: 'bold'}));\n",
              "    li.append(span(\n",
              "        `(${file.type || 'n/a'}) - ${file.size} bytes, ` +\n",
              "        `last modified: ${\n",
              "            file.lastModifiedDate ? file.lastModifiedDate.toLocaleDateString() :\n",
              "                                    'n/a'} - `));\n",
              "    const percent = span('0% done');\n",
              "    li.appendChild(percent);\n",
              "\n",
              "    outputElement.appendChild(li);\n",
              "\n",
              "    const fileDataPromise = new Promise((resolve) => {\n",
              "      const reader = new FileReader();\n",
              "      reader.onload = (e) => {\n",
              "        resolve(e.target.result);\n",
              "      };\n",
              "      reader.readAsArrayBuffer(file);\n",
              "    });\n",
              "    // Wait for the data to be ready.\n",
              "    let fileData = yield {\n",
              "      promise: fileDataPromise,\n",
              "      response: {\n",
              "        action: 'continue',\n",
              "      }\n",
              "    };\n",
              "\n",
              "    // Use a chunked sending to avoid message size limits. See b/62115660.\n",
              "    let position = 0;\n",
              "    do {\n",
              "      const length = Math.min(fileData.byteLength - position, MAX_PAYLOAD_SIZE);\n",
              "      const chunk = new Uint8Array(fileData, position, length);\n",
              "      position += length;\n",
              "\n",
              "      const base64 = btoa(String.fromCharCode.apply(null, chunk));\n",
              "      yield {\n",
              "        response: {\n",
              "          action: 'append',\n",
              "          file: file.name,\n",
              "          data: base64,\n",
              "        },\n",
              "      };\n",
              "\n",
              "      let percentDone = fileData.byteLength === 0 ?\n",
              "          100 :\n",
              "          Math.round((position / fileData.byteLength) * 100);\n",
              "      percent.textContent = `${percentDone}% done`;\n",
              "\n",
              "    } while (position < fileData.byteLength);\n",
              "  }\n",
              "\n",
              "  // All done.\n",
              "  yield {\n",
              "    response: {\n",
              "      action: 'complete',\n",
              "    }\n",
              "  };\n",
              "}\n",
              "\n",
              "scope.google = scope.google || {};\n",
              "scope.google.colab = scope.google.colab || {};\n",
              "scope.google.colab._files = {\n",
              "  _uploadFiles,\n",
              "  _uploadFilesContinue,\n",
              "};\n",
              "})(self);\n",
              "</script> "
            ]
          },
          "metadata": {}
        },
        {
          "output_type": "stream",
          "name": "stdout",
          "text": [
            "Saving model.pt to model.pt\n"
          ]
        }
      ]
    },
    {
      "cell_type": "markdown",
      "source": [
        "## import and test the model"
      ],
      "metadata": {
        "id": "xlOXVGKeQYUk"
      }
    },
    {
      "cell_type": "code",
      "source": [
        "model_path = '/content/model.pt'\n",
        "model = torch.load(model_path)\n",
        "model.eval()"
      ],
      "metadata": {
        "colab": {
          "base_uri": "https://localhost:8080/"
        },
        "id": "97l-M6h-Pszl",
        "outputId": "d42a6a7f-a6d1-49fd-c03d-0f8b1ac05149"
      },
      "execution_count": 50,
      "outputs": [
        {
          "output_type": "execute_result",
          "data": {
            "text/plain": [
              "LanguageModel(\n",
              "  (embedding): Embedding(28782, 300)\n",
              "  (dropout): Dropout(p=0.5, inplace=False)\n",
              "  (lstm): LSTM(300, 512, num_layers=2, batch_first=True, dropout=0.2)\n",
              "  (fc): Linear(in_features=512, out_features=28782, bias=True)\n",
              ")"
            ]
          },
          "metadata": {},
          "execution_count": 50
        }
      ]
    },
    {
      "cell_type": "code",
      "source": [
        "loss_test, metric_test = loss_valid, metric_valid = evaluate(model,\n",
        "                                             test_loader,\n",
        "                                             loss_fn,\n",
        "                                             metric)\n",
        "loss_test, metric_test"
      ],
      "metadata": {
        "colab": {
          "base_uri": "https://localhost:8080/"
        },
        "id": "Nx-iIrc4VEww",
        "outputId": "f52b4b51-1619-468a-bd21-d49a8ddaa2eb"
      },
      "execution_count": 51,
      "outputs": [
        {
          "output_type": "execute_result",
          "data": {
            "text/plain": [
              "(5.008470101225393, 149.67527770996094)"
            ]
          },
          "metadata": {},
          "execution_count": 51
        }
      ]
    },
    {
      "cell_type": "code",
      "source": [
        "prompt = \"In a galaxy far, far away, there\"\n",
        "\n",
        "indices = vocab(tokenizer(prompt))\n",
        "itos = vocab.get_itos()\n",
        "\n",
        "max_seq_len = 35\n",
        "for i in range(max_seq_len):\n",
        "  src = torch.LongTensor(indices).to(device)\n",
        "\n",
        "  with torch.no_grad():\n",
        "    prediction = model(src)\n",
        "\n",
        "    # Method 1\n",
        "    # idx = torch.argmax(prediction[-1])\n",
        "    # itos = vocab.get_itos()\n",
        "    # itos[idx]\n",
        "\n",
        "    # Method 2\n",
        "  temperature = 0.5\n",
        "  probs = torch.softmax(prediction[-1]/temperature, dim = 0)\n",
        "\n",
        "  idx = vocab[\"<ukn>\"]\n",
        "  while idx == vocab['<ukn']:\n",
        "    idx = torch.multinomial(probs, num_samples = 1).item()\n",
        "\n",
        "  token = itos[idx]\n",
        "  prompt += ' ' + token\n",
        "\n",
        "  if idx == vocab['.']:\n",
        "    break\n",
        "\n",
        "  indices.append(idx)\n",
        "\n",
        "print(prompt)"
      ],
      "metadata": {
        "id": "m9yRHWL8eeMn",
        "colab": {
          "base_uri": "https://localhost:8080/"
        },
        "outputId": "9a989f53-9bc2-4a47-9059-9b8e81995d81"
      },
      "execution_count": 53,
      "outputs": [
        {
          "output_type": "stream",
          "name": "stdout",
          "text": [
            "In a galaxy far, far away, there is a dispute between the two main characters and the other two men .\n"
          ]
        }
      ]
    },
    {
      "cell_type": "markdown",
      "source": [
        "# generate function for model"
      ],
      "metadata": {
        "id": "hI8VIDCeQhIV"
      }
    },
    {
      "cell_type": "code",
      "source": [
        "def generate(prompt, max_seq_len, temperature, model, tokenizer, vocab, seed=None):\n",
        "  if seed is not None:\n",
        "    torch.manual_seed(seed)\n",
        "\n",
        "  indices = vocab(tokenizer(prompt))\n",
        "  itos = vocab.get_itos()\n",
        "\n",
        "  for i in range(max_seq_len):\n",
        "    src = torch.LongTensor(indices).to(device)\n",
        "\n",
        "    with torch.no_grad():\n",
        "      prediction = model(src)\n",
        "\n",
        "    # Method 1\n",
        "    # idx = torch.argmax(prediction[-1])\n",
        "    # itos = vocab.get_itos()\n",
        "    # itos[idx]\n",
        "\n",
        "    # Method 2\n",
        "    probs = torch.softmax(prediction[-1]/temperature, dim = 0)\n",
        "\n",
        "    idx = vocab['<ukn>']\n",
        "    while idx == vocab['<ukn']:\n",
        "      idx = torch.multinomial(probs, num_samples = 1).item()\n",
        "\n",
        "    token = itos[idx]\n",
        "    prompt += ' ' + token\n",
        "\n",
        "    if idx == vocab['.']:\n",
        "      return prompt\n",
        "\n",
        "    indices.append(idx)\n",
        "\n",
        "  return prompt\n"
      ],
      "metadata": {
        "id": "hvR1Av5vLG_W"
      },
      "execution_count": 56,
      "outputs": []
    },
    {
      "cell_type": "code",
      "source": [
        "prompt_1 = 'In a galaxy far, far away, there'\n",
        "generate(prompt_1, 35, 0.5, model, tokenizer, vocab)"
      ],
      "metadata": {
        "colab": {
          "base_uri": "https://localhost:8080/",
          "height": 35
        },
        "id": "Lgv1KSiIMgvV",
        "outputId": "958ecc47-98c8-4919-a945-8d0bc8d76b5a"
      },
      "execution_count": 61,
      "outputs": [
        {
          "output_type": "execute_result",
          "data": {
            "text/plain": [
              "'In a galaxy far, far away, there is also evidence that the two films are made with a similar name .'"
            ],
            "application/vnd.google.colaboratory.intrinsic+json": {
              "type": "string"
            }
          },
          "metadata": {},
          "execution_count": 61
        }
      ]
    },
    {
      "cell_type": "code",
      "source": [
        "prompt_2 = 'The sun was setting in the'\n",
        "generate(prompt_2, 35, 0.5, model, tokenizer, vocab)"
      ],
      "metadata": {
        "colab": {
          "base_uri": "https://localhost:8080/",
          "height": 52
        },
        "id": "k9Vho6-bMmPP",
        "outputId": "cc6e9ce1-fb4f-49d9-f8bd-278c16b93e93"
      },
      "execution_count": 62,
      "outputs": [
        {
          "output_type": "execute_result",
          "data": {
            "text/plain": [
              "'The sun was setting in the same manner as a dark in a set of a long @-@ term type of plum cake , which was used as a generic form in the creation of a single .'"
            ],
            "application/vnd.google.colaboratory.intrinsic+json": {
              "type": "string"
            }
          },
          "metadata": {},
          "execution_count": 62
        }
      ]
    },
    {
      "cell_type": "code",
      "source": [
        "prompt_3 = 'Once upon a time, there lived a young princess named'\n",
        "generate(prompt_3, 35, 0.5, model, tokenizer, vocab)"
      ],
      "metadata": {
        "colab": {
          "base_uri": "https://localhost:8080/",
          "height": 35
        },
        "id": "1DwxPrT_MrX1",
        "outputId": "3d79f1bb-4a1b-4506-aebc-a8dc02e45957"
      },
      "execution_count": 63,
      "outputs": [
        {
          "output_type": "execute_result",
          "data": {
            "text/plain": [
              "'Once upon a time, there lived a young princess named the song .'"
            ],
            "application/vnd.google.colaboratory.intrinsic+json": {
              "type": "string"
            }
          },
          "metadata": {},
          "execution_count": 63
        }
      ]
    },
    {
      "cell_type": "code",
      "source": [
        "prompt_4 = 'What is the meaning '\n",
        "generate(prompt_4, 35, 0.5, model, tokenizer, vocab)"
      ],
      "metadata": {
        "colab": {
          "base_uri": "https://localhost:8080/",
          "height": 35
        },
        "id": "SE_VZRoGMwWx",
        "outputId": "a91821ed-0ac3-4cc9-8aa8-f78fa36cd808"
      },
      "execution_count": 64,
      "outputs": [
        {
          "output_type": "execute_result",
          "data": {
            "text/plain": [
              "'What is the meaning  of this novel .'"
            ],
            "application/vnd.google.colaboratory.intrinsic+json": {
              "type": "string"
            }
          },
          "metadata": {},
          "execution_count": 64
        }
      ]
    },
    {
      "cell_type": "code",
      "source": [],
      "metadata": {
        "id": "v1YlXdXdgr78"
      },
      "execution_count": null,
      "outputs": []
    }
  ]
}